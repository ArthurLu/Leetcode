{
 "cells": [
  {
   "cell_type": "markdown",
   "metadata": {},
   "source": [
    "## Bulls and Cows"
   ]
  },
  {
   "cell_type": "raw",
   "metadata": {},
   "source": [
    "You are playing the following Bulls and Cows game with your friend: You write down a number and ask your friend to guess what the number is. Each time your friend makes a guess, you provide a hint that indicates how many digits in said guess match your secret number exactly in both digit and position (called \"bulls\") and how many digits match the secret number but locate in the wrong position (called \"cows\"). Your friend will use successive guesses and hints to eventually derive the secret number.\n",
    "\n",
    "For example:\n",
    "\n",
    "Secret number:  \"1807\"\n",
    "Friend's guess: \"7810\"\n",
    "Hint: 1 bull and 3 cows. (The bull is 8, the cows are 0, 1 and 7.)\n",
    "Write a function to return a hint according to the secret number and friend's guess, use A to indicate the bulls and B to indicate the cows. In the above example, your function should return \"1A3B\".\n",
    "\n",
    "Please note that both secret number and friend's guess may contain duplicate digits, for example:\n",
    "\n",
    "Secret number:  \"1123\"\n",
    "Friend's guess: \"0111\"\n",
    "In this case, the 1st 1 in friend's guess is a bull, the 2nd or 3rd 1 is a cow, and your function should return \"1A1B\"."
   ]
  },
  {
   "cell_type": "code",
   "execution_count": null,
   "metadata": {
    "collapsed": true
   },
   "outputs": [],
   "source": [
    "class Solution(object):\n",
    "    def getHint(self, secret, guess):\n",
    "        \"\"\"\n",
    "        :type secret: str\n",
    "        :type guess: str\n",
    "        :rtype: str\n",
    "        \"\"\"\n",
    "        pre = {}\n",
    "        for n in guess:\n",
    "            if n in pre:\n",
    "                pre[n] += 1\n",
    "            else:\n",
    "                pre[n] = 1\n",
    "        A, B = 0, 0\n",
    "        for n1, n2 in zip(secret, guess):\n",
    "            if n1 == n2:\n",
    "                A += 1\n",
    "                if pre[n1] > 0:\n",
    "                    pre[n1] -= 1\n",
    "                else:\n",
    "                    B -= 1\n",
    "            elif n1 in pre and pre[n1] > 0:\n",
    "                B += 1\n",
    "                pre[n1] -= 1\n",
    "        return \"{}A{}B\".format(A, B)"
   ]
  },
  {
   "cell_type": "markdown",
   "metadata": {},
   "source": [
    "## Move Zeros"
   ]
  },
  {
   "cell_type": "raw",
   "metadata": {},
   "source": [
    "Given an array nums, write a function to move all 0's to the end of it while maintaining the relative order of the non-zero elements.\n",
    "\n",
    "For example, given nums = [0, 1, 0, 3, 12], after calling your function, nums should be [1, 3, 12, 0, 0].\n",
    "\n",
    "Note:\n",
    "You must do this in-place without making a copy of the array.\n",
    "Minimize the total number of operations."
   ]
  },
  {
   "cell_type": "code",
   "execution_count": null,
   "metadata": {
    "collapsed": true
   },
   "outputs": [],
   "source": [
    "class Solution(object):\n",
    "    def moveZeroes(self, nums):\n",
    "        \"\"\"\n",
    "        :type nums: List[int]\n",
    "        :rtype: void Do not return anything, modify nums in-place instead.\n",
    "        \"\"\"\n",
    "        count, pos = 0, 0\n",
    "        for n in nums:\n",
    "            if n == 0:\n",
    "                count += 1\n",
    "            else:\n",
    "                nums[pos] = n\n",
    "                pos += 1\n",
    "        while count > 0:\n",
    "            nums[pos] = 0\n",
    "            pos += 1\n",
    "            count -= 1"
   ]
  },
  {
   "cell_type": "markdown",
   "metadata": {},
   "source": [
    "## First Bad Version"
   ]
  },
  {
   "cell_type": "raw",
   "metadata": {},
   "source": [
    "You are a product manager and currently leading a team to develop a new product. Unfortunately, the latest version of your product fails the quality check. Since each version is developed based on the previous version, all the versions after a bad version are also bad.\n",
    "\n",
    "Suppose you have n versions [1, 2, ..., n] and you want to find out the first bad one, which causes all the following ones to be bad.\n",
    "\n",
    "You are given an API bool isBadVersion(version) which will return whether version is bad. Implement a function to find the first bad version. You should minimize the number of calls to the API."
   ]
  },
  {
   "cell_type": "code",
   "execution_count": null,
   "metadata": {
    "collapsed": true
   },
   "outputs": [],
   "source": [
    "class Solution(object):\n",
    "    def firstBadVersion(self, n):\n",
    "        \"\"\"\n",
    "        :type n: int\n",
    "        :rtype: int\n",
    "        \"\"\"\n",
    "        left, right = 1, n\n",
    "        while left < right:\n",
    "            mid = (left+right)/2\n",
    "            if isBadVersion(mid):\n",
    "                right = mid - 1\n",
    "            else:\n",
    "                left = mid + 1\n",
    "        if isBadVersion(right):\n",
    "            return right\n",
    "        else:\n",
    "            return right+1"
   ]
  },
  {
   "cell_type": "markdown",
   "metadata": {},
   "source": [
    "## Ugly Number"
   ]
  },
  {
   "cell_type": "raw",
   "metadata": {},
   "source": [
    "Write a program to check whether a given number is an ugly number.\n",
    "\n",
    "Ugly numbers are positive numbers whose prime factors only include 2, 3, 5. For example, 6, 8 are ugly while 14 is not ugly since it includes another prime factor 7.\n",
    "\n",
    "Note that 1 is typically treated as an ugly number."
   ]
  },
  {
   "cell_type": "code",
   "execution_count": null,
   "metadata": {
    "collapsed": true
   },
   "outputs": [],
   "source": [
    "class Solution(object):\n",
    "    def isUgly(self, num):\n",
    "        \"\"\"\n",
    "        :type num: int\n",
    "        :rtype: bool\n",
    "        \"\"\"\n",
    "        while num > 1:\n",
    "            if num % 2 == 0:\n",
    "                num /= 2\n",
    "            elif num % 3 == 0:\n",
    "                num /= 3\n",
    "            elif num % 5 == 0:\n",
    "                num /= 5\n",
    "            else:\n",
    "                return False\n",
    "        return num == 1"
   ]
  },
  {
   "cell_type": "markdown",
   "metadata": {},
   "source": [
    "## Add Digits"
   ]
  },
  {
   "cell_type": "raw",
   "metadata": {},
   "source": [
    "Given a non-negative integer num, repeatedly add all its digits until the result has only one digit.\n",
    "\n",
    "For example:\n",
    "\n",
    "Given num = 38, the process is like: 3 + 8 = 11, 1 + 1 = 2. Since 2 has only one digit, return it.\n",
    "\n",
    "Follow up:\n",
    "Could you do it without any loop/recursion in O(1) runtime?"
   ]
  },
  {
   "cell_type": "code",
   "execution_count": null,
   "metadata": {
    "collapsed": true
   },
   "outputs": [],
   "source": [
    "class Solution(object):\n",
    "    def addDigits(self, num):\n",
    "        \"\"\"\n",
    "        :type num: int\n",
    "        :rtype: int\n",
    "        \"\"\"\n",
    "        if num == 0:\n",
    "            return 0\n",
    "        return (num-1)%9+1"
   ]
  },
  {
   "cell_type": "markdown",
   "metadata": {},
   "source": [
    "## Binary Tree Paths"
   ]
  },
  {
   "cell_type": "raw",
   "metadata": {},
   "source": [
    "Given a binary tree, return all root-to-leaf paths.\n",
    "\n",
    "For example, given the following binary tree:\n",
    "\n",
    "   1\n",
    " /   \\\n",
    "2     3\n",
    " \\\n",
    "  5\n",
    "All root-to-leaf paths are:\n",
    "\n",
    "[\"1->2->5\", \"1->3\"]"
   ]
  },
  {
   "cell_type": "code",
   "execution_count": null,
   "metadata": {
    "collapsed": true
   },
   "outputs": [],
   "source": [
    "class Solution:\n",
    "    # @param {TreeNode} root\n",
    "    # @return {string[]}\n",
    "    def binaryTreePaths(self, root):\n",
    "        paths = []\n",
    "        def helper(node, path):\n",
    "            if node:\n",
    "                val = str(node.val)\n",
    "                if node.left is None and node.right is None:\n",
    "                    paths.append(\"->\".join(path+[val]))\n",
    "                else:\n",
    "                    helper(node.left, path+[val])\n",
    "                    helper(node.right, path+[val])\n",
    "        helper(root, [])\n",
    "        return paths"
   ]
  },
  {
   "cell_type": "markdown",
   "metadata": {},
   "source": [
    "## Word Ladder"
   ]
  },
  {
   "cell_type": "raw",
   "metadata": {},
   "source": [
    "Given two words (beginWord and endWord), and a dictionary's word list, find the length of shortest transformation sequence from beginWord to endWord, such that:\n",
    "\n",
    "Only one letter can be changed at a time\n",
    "Each intermediate word must exist in the word list\n",
    "For example,\n",
    "\n",
    "Given:\n",
    "beginWord = \"hit\"\n",
    "endWord = \"cog\"\n",
    "wordList = [\"hot\",\"dot\",\"dog\",\"lot\",\"log\"]\n",
    "As one shortest transformation is \"hit\" -> \"hot\" -> \"dot\" -> \"dog\" -> \"cog\",\n",
    "return its length 5."
   ]
  },
  {
   "cell_type": "code",
   "execution_count": null,
   "metadata": {
    "collapsed": true
   },
   "outputs": [],
   "source": [
    "import string\n",
    "import collections\n",
    "class Solution(object):\n",
    "    def ladderLength(self, beginWord, endWord, wordList):\n",
    "        \"\"\"\n",
    "        :type beginWord: str\n",
    "        :type endWord: str\n",
    "        :type wordList: Set[str]\n",
    "        :rtype: int\n",
    "        \"\"\"\n",
    "        wordList.add(endWord)\n",
    "        queue = collections.deque([(beginWord, 1)])\n",
    "        \n",
    "        while queue:\n",
    "            word, steps = queue.popleft()\n",
    "            if word == endWord:\n",
    "                return steps\n",
    "            for i in xrange(len(word)):\n",
    "                left, right = word[:i], word[i+1:]\n",
    "                for c in string.lowercase:\n",
    "                    if c is not word[i]:\n",
    "                        newWord = left+c+right\n",
    "                        if newWord in wordList:\n",
    "                            queue.append((newWord, steps+1))\n",
    "                            wordList.remove(newWord)\n",
    "        return 0"
   ]
  },
  {
   "cell_type": "markdown",
   "metadata": {},
   "source": [
    "## Valid Anagram"
   ]
  },
  {
   "cell_type": "raw",
   "metadata": {},
   "source": [
    "Given two strings s and t, write a function to determine if t is an anagram of s.\n",
    "\n",
    "For example,\n",
    "s = \"anagram\", t = \"nagaram\", return true.\n",
    "s = \"rat\", t = \"car\", return false.\n",
    "\n",
    "Note:\n",
    "You may assume the string contains only lowercase alphabets."
   ]
  },
  {
   "cell_type": "code",
   "execution_count": null,
   "metadata": {
    "collapsed": true
   },
   "outputs": [],
   "source": [
    "class Solution(object):\n",
    "    def isAnagram(self, s, t):\n",
    "        \"\"\"\n",
    "        :type s: str\n",
    "        :type t: str\n",
    "        :rtype: bool\n",
    "        \"\"\"\n",
    "        pre = {}\n",
    "        for c in s:\n",
    "            if c in pre:\n",
    "                pre[c] += 1\n",
    "            else:\n",
    "                pre[c] = 1\n",
    "        for c in t:\n",
    "            if c in pre:\n",
    "                if pre[c] > 0:\n",
    "                    pre[c] -= 1\n",
    "                else:\n",
    "                    return False\n",
    "            else:\n",
    "                return False\n",
    "        return sum(pre.values()) == 0"
   ]
  },
  {
   "cell_type": "markdown",
   "metadata": {},
   "source": [
    "## Palindrome Linked List"
   ]
  },
  {
   "cell_type": "raw",
   "metadata": {},
   "source": [
    "Given a singly linked list, determine if it is a palindrome."
   ]
  },
  {
   "cell_type": "code",
   "execution_count": null,
   "metadata": {
    "collapsed": true
   },
   "outputs": [],
   "source": [
    "class Solution(object):\n",
    "    def isPalindrome(self, head):\n",
    "        \"\"\"\n",
    "        :type head: ListNode\n",
    "        :rtype: bool\n",
    "        \"\"\"\n",
    "        def findMiddle(node):\n",
    "            fast, slow = node, node\n",
    "            while fast and fast.next and fast.next.next:\n",
    "                slow = slow.next\n",
    "                fast = fast.next.next\n",
    "            return slow\n",
    "        def reverseNode(node):\n",
    "            if node is None or node.next is None: return node\n",
    "            node = node.next\n",
    "            prev = None\n",
    "            cur = node\n",
    "            while cur:\n",
    "                temp = cur\n",
    "                cur = cur.next\n",
    "                temp.next = prev\n",
    "                prev = temp\n",
    "            return prev\n",
    "        mid = findMiddle(head)\n",
    "        tail = reverseNode(mid)\n",
    "        while head and tail:\n",
    "            if head.val != tail.val:\n",
    "                return False\n",
    "            head = head.next\n",
    "            tail = tail.next\n",
    "        return True"
   ]
  },
  {
   "cell_type": "markdown",
   "metadata": {},
   "source": [
    "## Implement Queue using Stacks"
   ]
  },
  {
   "cell_type": "raw",
   "metadata": {},
   "source": [
    "Implement the following operations of a queue using stacks.\n",
    "\n",
    "push(x) -- Push element x to the back of queue.\n",
    "pop() -- Removes the element from in front of queue.\n",
    "peek() -- Get the front element.\n",
    "empty() -- Return whether the queue is empty."
   ]
  },
  {
   "cell_type": "code",
   "execution_count": null,
   "metadata": {
    "collapsed": true
   },
   "outputs": [],
   "source": [
    "class Queue(object):\n",
    "    def __init__(self):\n",
    "        \"\"\"\n",
    "        initialize your data structure here.\n",
    "        \"\"\"\n",
    "        self.stack = []\n",
    "\n",
    "    def push(self, x):\n",
    "        \"\"\"\n",
    "        :type x: int\n",
    "        :rtype: nothing\n",
    "        \"\"\"\n",
    "        self.stack.append(x)\n",
    "\n",
    "    def pop(self):\n",
    "        \"\"\"\n",
    "        :rtype: nothing\n",
    "        \"\"\"\n",
    "        self.stack = self.stack[1:]\n",
    "\n",
    "    def peek(self):\n",
    "        \"\"\"\n",
    "        :rtype: int\n",
    "        \"\"\"\n",
    "        return self.stack[0]\n",
    "\n",
    "    def empty(self):\n",
    "        \"\"\"\n",
    "        :rtype: bool\n",
    "        \"\"\"\n",
    "        return self.stack == []"
   ]
  },
  {
   "cell_type": "markdown",
   "metadata": {},
   "source": [
    "## Power of Two"
   ]
  },
  {
   "cell_type": "raw",
   "metadata": {},
   "source": [
    "Given an integer, write a function to determine if it is a power of two."
   ]
  },
  {
   "cell_type": "code",
   "execution_count": null,
   "metadata": {
    "collapsed": true
   },
   "outputs": [],
   "source": [
    "class Solution(object):\n",
    "    def isPowerOfTwo(self, n):\n",
    "        \"\"\"\n",
    "        :type n: int\n",
    "        :rtype: bool\n",
    "        \"\"\"\n",
    "        while n > 1:\n",
    "            if n % 2 == 1:\n",
    "                return False\n",
    "            n /= 2\n",
    "        return n == 1"
   ]
  },
  {
   "cell_type": "markdown",
   "metadata": {},
   "source": [
    "## Delete Node in a Linked List"
   ]
  },
  {
   "cell_type": "raw",
   "metadata": {},
   "source": [
    "Write a function to delete a node (except the tail) in a singly linked list, given only access to that node.\n",
    "\n",
    "Supposed the linked list is 1 -> 2 -> 3 -> 4 and you are given the third node with value 3, the linked list should become 1 -> 2 -> 4 after calling your function."
   ]
  },
  {
   "cell_type": "code",
   "execution_count": null,
   "metadata": {
    "collapsed": true
   },
   "outputs": [],
   "source": [
    "class Solution(object):\n",
    "    def deleteNode(self, node):\n",
    "        \"\"\"\n",
    "        :type node: ListNode\n",
    "        :rtype: void Do not return anything, modify node in-place instead.\n",
    "        \"\"\"\n",
    "        while node.next.next:\n",
    "            node.val = node.next.val\n",
    "            node = node.next\n",
    "        node.val = node.next.val\n",
    "        node.next = None"
   ]
  },
  {
   "cell_type": "markdown",
   "metadata": {},
   "source": [
    "## Invert Binary Tree"
   ]
  },
  {
   "cell_type": "raw",
   "metadata": {},
   "source": [
    "Invert a binary tree.\n",
    "\n",
    "     4\n",
    "   /   \\\n",
    "  2     7\n",
    " / \\   / \\\n",
    "1   3 6   9\n",
    "to\n",
    "     4\n",
    "   /   \\\n",
    "  7     2\n",
    " / \\   / \\\n",
    "9   6 3   1"
   ]
  },
  {
   "cell_type": "code",
   "execution_count": null,
   "metadata": {
    "collapsed": true
   },
   "outputs": [],
   "source": [
    "class Solution(object):\n",
    "    def invertTree(self, root):\n",
    "        \"\"\"\n",
    "        :type root: TreeNode\n",
    "        :rtype: TreeNode\n",
    "        \"\"\"\n",
    "        if root is None:\n",
    "            return root\n",
    "        temp = root.left\n",
    "        root.left = self.invertTree(root.right)\n",
    "        root.right = self.invertTree(temp)\n",
    "        return root"
   ]
  },
  {
   "cell_type": "markdown",
   "metadata": {},
   "source": [
    "## Implement Stack using Queues"
   ]
  },
  {
   "cell_type": "markdown",
   "metadata": {},
   "source": [
    "Implement the following operations of a stack using queues.\n",
    "\n",
    "push(x) -- Push element x onto stack.\n",
    "pop() -- Removes the element on top of the stack.\n",
    "top() -- Get the top element.\n",
    "empty() -- Return whether the stack is empty."
   ]
  },
  {
   "cell_type": "code",
   "execution_count": null,
   "metadata": {
    "collapsed": true
   },
   "outputs": [],
   "source": [
    "class Stack(object):\n",
    "    def __init__(self):\n",
    "        \"\"\"\n",
    "        initialize your data structure here.\n",
    "        \"\"\"\n",
    "        self.Q = []\n",
    "\n",
    "    def push(self, x):\n",
    "        \"\"\"\n",
    "        :type x: int\n",
    "        :rtype: nothing\n",
    "        \"\"\"\n",
    "        self.Q = [x] + self.Q\n",
    "\n",
    "    def pop(self):\n",
    "        \"\"\"\n",
    "        :rtype: nothing\n",
    "        \"\"\"\n",
    "        self.Q = self.Q[1:]\n",
    "\n",
    "    def top(self):\n",
    "        \"\"\"\n",
    "        :rtype: int\n",
    "        \"\"\"\n",
    "        return self.Q[0]\n",
    "\n",
    "    def empty(self):\n",
    "        \"\"\"\n",
    "        :rtype: bool\n",
    "        \"\"\"\n",
    "        return self.Q == []"
   ]
  },
  {
   "cell_type": "markdown",
   "metadata": {},
   "source": [
    "## Rectangle Area"
   ]
  },
  {
   "cell_type": "raw",
   "metadata": {},
   "source": [
    "Find the total area covered by two rectilinear rectangles in a 2D plane.\n",
    "\n",
    "Each rectangle is defined by its bottom left corner and top right corner as shown in the figure.\n",
    "\n",
    "Rectangle Area\n",
    "Assume that the total area is never beyond the maximum possible value of int."
   ]
  },
  {
   "cell_type": "code",
   "execution_count": null,
   "metadata": {
    "collapsed": true
   },
   "outputs": [],
   "source": [
    "class Solution(object):\n",
    "    def computeArea(self, A, B, C, D, E, F, G, H):\n",
    "        width = [A, E, C, G]\n",
    "        height = [B, D, F, H]\n",
    "        width.sort()\n",
    "        height.sort()\n",
    "        total = (C-A)*(D-B) + (G-E)*(H-F)\n",
    "        if E > C or A > G or B > H or F > D:\n",
    "            return total\n",
    "        else:\n",
    "            if (A == width[1] and C == width[2]) and (B == height[1] and D == height[2]):\n",
    "                return (G-E)*(H-F)\n",
    "            if (E == width[1] and G == width[2]) and (F == height[1] and H == height[2]):\n",
    "                return (C-A)*(D-B)\n",
    "            w = width[1] - width[2]\n",
    "            h = height[1] - height[2]\n",
    "            return total - w * h"
   ]
  },
  {
   "cell_type": "markdown",
   "metadata": {},
   "source": [
    "## Contains Duplicate II"
   ]
  },
  {
   "cell_type": "raw",
   "metadata": {},
   "source": [
    "Given an array of integers and an integer k, find out whether there are two distinct indices i and j in the array such that nums[i] = nums[j] and the difference between i and j is at most k."
   ]
  },
  {
   "cell_type": "code",
   "execution_count": null,
   "metadata": {
    "collapsed": true
   },
   "outputs": [],
   "source": [
    "class Solution(object):\n",
    "    def containsNearbyDuplicate(self, nums, k):\n",
    "        \"\"\"\n",
    "        :type nums: List[int]\n",
    "        :type k: int\n",
    "        :rtype: bool\n",
    "        \"\"\"\n",
    "        L = len(nums)\n",
    "        index = {}\n",
    "        for i in xrange(L):\n",
    "            if nums[i] in index:\n",
    "                for j in index[nums[i]]:\n",
    "                    if i - j <= k:\n",
    "                        return True\n",
    "                index[nums[i]].append(i)\n",
    "            else:\n",
    "                index[nums[i]] = [i]\n",
    "        \n",
    "        return False"
   ]
  },
  {
   "cell_type": "markdown",
   "metadata": {},
   "source": [
    "## Lowest Common Ancestor of a Binary Search Tree"
   ]
  },
  {
   "cell_type": "raw",
   "metadata": {},
   "source": [
    "Given a binary search tree (BST), find the lowest common ancestor (LCA) of two given nodes in the BST.\n",
    "\n",
    "According to the definition of LCA on Wikipedia: “The lowest common ancestor is defined between two nodes v and w as the lowest node in T that has both v and w as descendants (where we allow a node to be a descendant of itself).”\n",
    "\n",
    "        _______6______\n",
    "       /              \\\n",
    "    ___2__          ___8__\n",
    "   /      \\        /      \\\n",
    "   0      _4       7       9\n",
    "         /  \\\n",
    "         3   5\n",
    "For example, the lowest common ancestor (LCA) of nodes 2 and 8 is 6. Another example is LCA of nodes 2 and 4 is 2, since a node can be a descendant of itself according to the LCA definition."
   ]
  },
  {
   "cell_type": "code",
   "execution_count": null,
   "metadata": {
    "collapsed": true
   },
   "outputs": [],
   "source": [
    "class Solution(object):\n",
    "    def lowestCommonAncestor(self, root, p, q):\n",
    "        \"\"\"\n",
    "        :type root: TreeNode\n",
    "        :type p: TreeNode\n",
    "        :type q: TreeNode\n",
    "        :rtype: TreeNode\n",
    "        \"\"\"\n",
    "        if root in (None, p, q):\n",
    "            return root\n",
    "        left, right = (self.lowestCommonAncestor(node, p, q) for node in (root.left, root.right))\n",
    "        if left and right:\n",
    "            return root\n",
    "        elif left:\n",
    "            return left\n",
    "        else:\n",
    "            return right"
   ]
  },
  {
   "cell_type": "markdown",
   "metadata": {},
   "source": [
    "## Reverse Linked List"
   ]
  },
  {
   "cell_type": "raw",
   "metadata": {},
   "source": [
    "Reverse a singly linked list."
   ]
  },
  {
   "cell_type": "code",
   "execution_count": null,
   "metadata": {
    "collapsed": true
   },
   "outputs": [],
   "source": [
    "class Solution(object):\n",
    "    def reverseList(self, head):\n",
    "        \"\"\"\n",
    "        :type head: ListNode\n",
    "        :rtype: ListNode\n",
    "        \"\"\"\n",
    "        if head is None:\n",
    "            return head\n",
    "        tail = head\n",
    "        head = head.next\n",
    "        tail.next = None\n",
    "        while head:\n",
    "            temp = head\n",
    "            head = head.next\n",
    "            temp.next = tail\n",
    "            tail = temp\n",
    "        return tail"
   ]
  },
  {
   "cell_type": "markdown",
   "metadata": {},
   "source": [
    "## Isomorphic Strings"
   ]
  },
  {
   "cell_type": "raw",
   "metadata": {},
   "source": [
    "Given two strings s and t, determine if they are isomorphic.\n",
    "\n",
    "Two strings are isomorphic if the characters in s can be replaced to get t.\n",
    "\n",
    "All occurrences of a character must be replaced with another character while preserving the order of characters. No two characters may map to the same character but a character may map to itself.\n",
    "\n",
    "For example,\n",
    "Given \"egg\", \"add\", return true.\n",
    "\n",
    "Given \"foo\", \"bar\", return false.\n",
    "\n",
    "Given \"paper\", \"title\", return true."
   ]
  },
  {
   "cell_type": "code",
   "execution_count": null,
   "metadata": {
    "collapsed": true
   },
   "outputs": [],
   "source": [
    "class Solution(object):\n",
    "    def isIsomorphic(self, s, t):\n",
    "        \"\"\"\n",
    "        :type s: str\n",
    "        :type t: str\n",
    "        :rtype: bool\n",
    "        \"\"\"\n",
    "        Ls, Lt = len(s), len(t)\n",
    "        if Ls != Lt:\n",
    "            return False\n",
    "        i, j = 0, 0\n",
    "        code = {}\n",
    "        vals = set()\n",
    "        while i < Ls and j < Lt:\n",
    "            if s[i] in code:\n",
    "                if code[s[i]] != t[j]:\n",
    "                    return False\n",
    "            else:\n",
    "                if t[j] in vals:\n",
    "                    return False\n",
    "                else:\n",
    "                    code[s[i]] = t[j]\n",
    "                    vals.add(t[j])\n",
    "                    \n",
    "            i += 1\n",
    "            j += 1\n",
    "        return True"
   ]
  },
  {
   "cell_type": "markdown",
   "metadata": {},
   "source": [
    "## Count Primes"
   ]
  },
  {
   "cell_type": "raw",
   "metadata": {},
   "source": [
    "Description:\n",
    "\n",
    "Count the number of prime numbers less than a non-negative number, n."
   ]
  },
  {
   "cell_type": "code",
   "execution_count": null,
   "metadata": {
    "collapsed": true
   },
   "outputs": [],
   "source": [
    "class Solution(object):\n",
    "    def countPrimes(self, n):\n",
    "        \"\"\"\n",
    "        :type n: int\n",
    "        :rtype: int\n",
    "        \"\"\"\n",
    "        isPrime = [True] * max(n, 2)\n",
    "        isPrime[0], isPrime[1] = False, False\n",
    "        x = 2\n",
    "        while x * x < n:\n",
    "            if isPrime[x]:\n",
    "                p = x * 2\n",
    "                while p < n:\n",
    "                    isPrime[p] = False\n",
    "                    p += x\n",
    "            x += 1\n",
    "        return sum(isPrime)"
   ]
  }
 ],
 "metadata": {
  "kernelspec": {
   "display_name": "Python 2",
   "language": "python",
   "name": "python2"
  },
  "language_info": {
   "codemirror_mode": {
    "name": "ipython",
    "version": 2
   },
   "file_extension": ".py",
   "mimetype": "text/x-python",
   "name": "python",
   "nbconvert_exporter": "python",
   "pygments_lexer": "ipython2",
   "version": "2.7.11"
  }
 },
 "nbformat": 4,
 "nbformat_minor": 0
}
