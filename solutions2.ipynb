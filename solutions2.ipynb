{
 "cells": [
  {
   "cell_type": "markdown",
   "metadata": {},
   "source": [
    "## Isomorphic Strings"
   ]
  },
  {
   "cell_type": "raw",
   "metadata": {},
   "source": [
    "Given two strings s and t, determine if they are isomorphic.\n",
    "\n",
    "Two strings are isomorphic if the characters in s can be replaced to get t.\n",
    "\n",
    "All occurrences of a character must be replaced with another character while preserving the order of characters. No two characters may map to the same character but a character may map to itself.\n",
    "\n",
    "For example,\n",
    "Given \"egg\", \"add\", return true.\n",
    "\n",
    "Given \"foo\", \"bar\", return false.\n",
    "\n",
    "Given \"paper\", \"title\", return true."
   ]
  },
  {
   "cell_type": "code",
   "execution_count": null,
   "metadata": {
    "collapsed": true
   },
   "outputs": [],
   "source": [
    "class Solution(object):\n",
    "    def isIsomorphic(self, s, t):\n",
    "        \"\"\"\n",
    "        :type s: str\n",
    "        :type t: str\n",
    "        :rtype: bool\n",
    "        \"\"\"\n",
    "        Ls, Lt = len(s), len(t)\n",
    "        if Ls != Lt:\n",
    "            return False\n",
    "        i, j = 0, 0\n",
    "        code = {}\n",
    "        vals = set()\n",
    "        while i < Ls and j < Lt:\n",
    "            if s[i] in code:\n",
    "                if code[s[i]] != t[j]:\n",
    "                    return False\n",
    "            else:\n",
    "                if t[j] in vals:\n",
    "                    return False\n",
    "                else:\n",
    "                    code[s[i]] = t[j]\n",
    "                    vals.add(t[j])\n",
    "                    \n",
    "            i += 1\n",
    "            j += 1\n",
    "        return True"
   ]
  },
  {
   "cell_type": "markdown",
   "metadata": {},
   "source": [
    "## Count Primes"
   ]
  },
  {
   "cell_type": "raw",
   "metadata": {},
   "source": [
    "Description:\n",
    "\n",
    "Count the number of prime numbers less than a non-negative number, n."
   ]
  },
  {
   "cell_type": "code",
   "execution_count": null,
   "metadata": {
    "collapsed": true
   },
   "outputs": [],
   "source": [
    "class Solution(object):\n",
    "    def countPrimes(self, n):\n",
    "        \"\"\"\n",
    "        :type n: int\n",
    "        :rtype: int\n",
    "        \"\"\"\n",
    "        isPrime = [True] * max(n, 2)\n",
    "        isPrime[0], isPrime[1] = False, False\n",
    "        x = 2\n",
    "        while x * x < n:\n",
    "            if isPrime[x]:\n",
    "                p = x * 2\n",
    "                while p < n:\n",
    "                    isPrime[p] = False\n",
    "                    p += x\n",
    "            x += 1\n",
    "        return sum(isPrime)"
   ]
  }
 ],
 "metadata": {
  "kernelspec": {
   "display_name": "Python 2",
   "language": "python",
   "name": "python2"
  },
  "language_info": {
   "codemirror_mode": {
    "name": "ipython",
    "version": 2
   },
   "file_extension": ".py",
   "mimetype": "text/x-python",
   "name": "python",
   "nbconvert_exporter": "python",
   "pygments_lexer": "ipython2",
   "version": "2.7.11"
  }
 },
 "nbformat": 4,
 "nbformat_minor": 0
}
