{
 "cells": [
  {
   "cell_type": "markdown",
   "metadata": {},
   "source": [
    "## Next Permutation"
   ]
  },
  {
   "cell_type": "raw",
   "metadata": {},
   "source": [
    "Implement next permutation, which rearranges numbers into the lexicographically next greater permutation of numbers.\n",
    "\n",
    "If such arrangement is not possible, it must rearrange it as the lowest possible order (ie, sorted in ascending order).\n",
    "\n",
    "The replacement must be in-place, do not allocate extra memory.\n",
    "\n",
    "Here are some examples. Inputs are in the left-hand column and its corresponding outputs are in the right-hand column.\n",
    "1,2,3 → 1,3,2\n",
    "3,2,1 → 1,2,3\n",
    "1,1,5 → 1,5,1"
   ]
  },
  {
   "cell_type": "code",
   "execution_count": null,
   "metadata": {
    "collapsed": true
   },
   "outputs": [],
   "source": [
    "class Solution(object):\n",
    "    def nextPermutation(self, nums):\n",
    "        \"\"\"\n",
    "        :type nums: List[int]\n",
    "        :rtype: void Do not return anything, modify nums in-place instead.\n",
    "        \"\"\"\n",
    "        L = len(nums)\n",
    "        i = L-2\n",
    "        while i >= 0:\n",
    "            if nums[i+1] > nums[i]:\n",
    "                break\n",
    "            i -= 1\n",
    "        if i < 0:\n",
    "            nums.sort()\n",
    "            return\n",
    "        pivot, j = i+1, i+2\n",
    "        while j < L:\n",
    "            if nums[j] > nums[i] and nums[j] < nums[pivot]:\n",
    "                pivot = j\n",
    "            j += 1\n",
    "        nums[i], nums[pivot] = nums[pivot], nums[i]\n",
    "        for end in xrange(L-1,i,-1):\n",
    "            for start in xrange(i+1, end):\n",
    "                if nums[start] > nums[start+1]:\n",
    "                    nums[start], nums[start+1] = nums[start+1], nums[start]"
   ]
  },
  {
   "cell_type": "markdown",
   "metadata": {},
   "source": [
    "## Divide Two Integers"
   ]
  },
  {
   "cell_type": "raw",
   "metadata": {},
   "source": [
    "Divide two integers without using multiplication, division and mod operator.\n",
    "\n",
    "If it is overflow, return MAX_INT."
   ]
  },
  {
   "cell_type": "code",
   "execution_count": null,
   "metadata": {
    "collapsed": true
   },
   "outputs": [],
   "source": [
    "class Solution(object):\n",
    "    def divide(self, dividend, divisor):\n",
    "        \"\"\"\n",
    "        :type dividend: int\n",
    "        :type divisor: int\n",
    "        :rtype: int\n",
    "        \"\"\"\n",
    "        if divisor == 0:\n",
    "            return -1\n",
    "        ans, shift = 0, 31\n",
    "        neg = (dividend > 0 and divisor < 0) or (dividend < 0 and divisor > 0)\n",
    "        a, b = abs(dividend), abs(divisor)\n",
    "        while shift >= 0:\n",
    "            if a >= b << shift:\n",
    "                a -= b << shift\n",
    "                ans += 1 << shift\n",
    "            shift -= 1\n",
    "        if neg:\n",
    "            ans = -ans\n",
    "        if ans > 2147483647:\n",
    "            return 2147483647\n",
    "        elif ans < -2147483648:\n",
    "            return -2147483648\n",
    "        \n",
    "        return ans"
   ]
  },
  {
   "cell_type": "markdown",
   "metadata": {},
   "source": [
    "## Remove Element"
   ]
  },
  {
   "cell_type": "raw",
   "metadata": {},
   "source": [
    "Given an array and a value, remove all instances of that value in place and return the new length.\n",
    "\n",
    "Do not allocate extra space for another array, you must do this in place with constant memory.\n",
    "\n",
    "The order of elements can be changed. It doesn't matter what you leave beyond the new length."
   ]
  },
  {
   "cell_type": "code",
   "execution_count": null,
   "metadata": {
    "collapsed": true
   },
   "outputs": [],
   "source": [
    "class Solution(object):\n",
    "    def removeElement(self, nums, val):\n",
    "        \"\"\"\n",
    "        :type nums: List[int]\n",
    "        :type val: int\n",
    "        :rtype: int\n",
    "        \"\"\"\n",
    "        for i in xrange(len(nums)-1, -1, -1):\n",
    "            if nums[i] == val:\n",
    "                del nums[i]\n",
    "        return len(nums)"
   ]
  },
  {
   "cell_type": "markdown",
   "metadata": {},
   "source": [
    "## Remove Duplicates from Sorted Array"
   ]
  },
  {
   "cell_type": "raw",
   "metadata": {},
   "source": [
    "Given a sorted array, remove the duplicates in place such that each element appear only once and return the new length.\n",
    "\n",
    "Do not allocate extra space for another array, you must do this in place with constant memory.\n",
    "\n",
    "For example,\n",
    "Given input array nums = [1,1,2],\n",
    "\n",
    "Your function should return length = 2, with the first two elements of nums being 1 and 2 respectively. It doesn't matter what you leave beyond the new length."
   ]
  },
  {
   "cell_type": "code",
   "execution_count": null,
   "metadata": {
    "collapsed": true
   },
   "outputs": [],
   "source": [
    "class Solution(object):\n",
    "    def removeDuplicates(self, nums):\n",
    "        \"\"\"\n",
    "        :type nums: List[int]\n",
    "        :rtype: int\n",
    "        \"\"\"\n",
    "        left = 0\n",
    "        L = len(nums)\n",
    "        while left < L:\n",
    "            right = left + 1\n",
    "            while right < L and nums[left] == nums[right]:\n",
    "                right += 1\n",
    "            del nums[left+1:right]\n",
    "            left += 1\n",
    "            L = len(nums)\n",
    "        return len(nums)"
   ]
  },
  {
   "cell_type": "markdown",
   "metadata": {},
   "source": [
    "## Swap Nodes in Pairs"
   ]
  },
  {
   "cell_type": "raw",
   "metadata": {},
   "source": [
    "Given a linked list, swap every two adjacent nodes and return its head.\n",
    "\n",
    "For example,\n",
    "Given 1->2->3->4, you should return the list as 2->1->4->3.\n",
    "\n",
    "Your algorithm should use only constant space. You may not modify the values in the list, only nodes itself can be changed."
   ]
  },
  {
   "cell_type": "code",
   "execution_count": null,
   "metadata": {
    "collapsed": true
   },
   "outputs": [],
   "source": [
    "class Solution(object):\n",
    "    def swapPairs(self, head):\n",
    "        \"\"\"\n",
    "        :type head: ListNode\n",
    "        :rtype: ListNode\n",
    "        \"\"\"\n",
    "        def helper(node):\n",
    "            if node and node.next:\n",
    "                temp = node.next\n",
    "                node.next = helper(node.next.next)\n",
    "                temp.next = node\n",
    "                return temp\n",
    "            else:\n",
    "                return node\n",
    "        return helper(head)"
   ]
  },
  {
   "cell_type": "markdown",
   "metadata": {},
   "source": [
    "## Generate Parentheses"
   ]
  },
  {
   "cell_type": "raw",
   "metadata": {},
   "source": [
    "Given n pairs of parentheses, write a function to generate all combinations of well-formed parentheses.\n",
    "\n",
    "For example, given n = 3, a solution set is:\n",
    "\n",
    "[\n",
    "  \"((()))\",\n",
    "  \"(()())\",\n",
    "  \"(())()\",\n",
    "  \"()(())\",\n",
    "  \"()()()\"\n",
    "]"
   ]
  },
  {
   "cell_type": "code",
   "execution_count": null,
   "metadata": {
    "collapsed": true
   },
   "outputs": [],
   "source": [
    "class Solution(object):\n",
    "    def generateParenthesis(self, n):\n",
    "        \"\"\"\n",
    "        :type n: int\n",
    "        :rtype: List[str]\n",
    "        \"\"\"\n",
    "        def helper(l, r, item, res):\n",
    "            if r < l:\n",
    "                return\n",
    "            if r == 0 and l == 0:\n",
    "                res.append(item)\n",
    "            if l > 0:\n",
    "                helper(l-1, r, item+\"(\", res)\n",
    "            if r > 0:\n",
    "                helper(l, r-1, item+\")\", res)\n",
    "        \n",
    "        res = []\n",
    "        helper(n,n,\"\", res)\n",
    "        return res"
   ]
  },
  {
   "cell_type": "markdown",
   "metadata": {},
   "source": [
    "## Letter Combinations of a Phone Number"
   ]
  },
  {
   "cell_type": "raw",
   "metadata": {},
   "source": [
    "Given a digit string, return all possible letter combinations that the number could represent.\n",
    "\n",
    "A mapping of digit to letters (just like on the telephone buttons) is given below."
   ]
  },
  {
   "cell_type": "code",
   "execution_count": null,
   "metadata": {
    "collapsed": true
   },
   "outputs": [],
   "source": [
    "class Solution(object):\n",
    "    def letterCombinations(self, digits):\n",
    "        \"\"\"\n",
    "        :type digits: str\n",
    "        :rtype: List[str]\n",
    "        \"\"\"\n",
    "        letter = {\"0\": \" \", \"1\": \"*\", \"2\": \"abc\",\n",
    "                  \"3\": \"def\", \"4\": \"ghi\", \"5\": \"jkl\",\n",
    "                  \"6\": \"mno\", \"7\": \"pqrs\", \"8\": \"tuv\", \"9\": \"wxyz\"}\n",
    "        \n",
    "        def helper(D):\n",
    "            ans = []\n",
    "            if D == \"\":\n",
    "                return ans\n",
    "            elif len(D) == 1:\n",
    "                return list(letter[D])\n",
    "            else:\n",
    "                combs = helper(D[1:])\n",
    "                for c in letter[D[0]]:\n",
    "                    if combs == []:\n",
    "                        ans.append(c)\n",
    "                    else:\n",
    "                        for comb in combs:\n",
    "                            ans.append(c+comb)\n",
    "            return ans\n",
    "        return helper(digits)"
   ]
  },
  {
   "cell_type": "markdown",
   "metadata": {},
   "source": [
    "## 3Sum Closest"
   ]
  },
  {
   "cell_type": "raw",
   "metadata": {},
   "source": [
    "Given an array S of n integers, find three integers in S such that the sum is closest to a given number, target. Return the sum of the three integers. You may assume that each input would have exactly one solution.\n",
    "\n",
    "    For example, given array S = {-1 2 1 -4}, and target = 1.\n",
    "\n",
    "    The sum that is closest to the target is 2. (-1 + 2 + 1 = 2)."
   ]
  },
  {
   "cell_type": "code",
   "execution_count": null,
   "metadata": {
    "collapsed": true
   },
   "outputs": [],
   "source": [
    "class Solution(object):\n",
    "    def threeSumClosest(self, nums, target):\n",
    "        \"\"\"\n",
    "        :type nums: List[int]\n",
    "        :type target: int\n",
    "        :rtype: int\n",
    "        \"\"\"\n",
    "        L = len(nums)\n",
    "        ans = 0\n",
    "        diff = None\n",
    "        if L < 3:\n",
    "            return ans\n",
    "        # Sorting the array\n",
    "        nums.sort()\n",
    "        last = None\n",
    "        for i in range(L-2):\n",
    "            # Ignore those duplicated computation\n",
    "            if last == nums[i]:\n",
    "                continue\n",
    "            new_target = target - nums[i]\n",
    "            left = i+1\n",
    "            right = L-1\n",
    "            while left < right:\n",
    "                S = nums[left] + nums[right]\n",
    "                if S == new_target:\n",
    "                    return target\n",
    "                else:\n",
    "                    # Update the difference\n",
    "                    temp = abs(S - new_target)\n",
    "                    if diff == None or temp < diff:\n",
    "                        diff = temp\n",
    "                        ans = S + nums[i]\n",
    "                    if S < new_target:\n",
    "                        left += 1\n",
    "                        while left < right and nums[left] == nums[left-1]:\n",
    "                            left += 1\n",
    "                    else:\n",
    "                        right -= 1\n",
    "                        while left < right and nums[right] == nums[right+1]:\n",
    "                            right -= 1\n",
    "        return ans"
   ]
  },
  {
   "cell_type": "markdown",
   "metadata": {},
   "source": [
    "## Merge Two Sorted Lists"
   ]
  },
  {
   "cell_type": "raw",
   "metadata": {},
   "source": [
    "Merge two sorted linked lists and return it as a new list. The new list should be made by splicing together the nodes of the first two lists."
   ]
  },
  {
   "cell_type": "code",
   "execution_count": null,
   "metadata": {
    "collapsed": true
   },
   "outputs": [],
   "source": [
    "# Definition for singly-linked list.\n",
    "# class ListNode(object):\n",
    "#     def __init__(self, x):\n",
    "#         self.val = x\n",
    "#         self.next = None\n",
    "\n",
    "class Solution(object):\n",
    "    def mergeTwoLists(self, l1, l2):\n",
    "        \"\"\"\n",
    "        :type l1: ListNode\n",
    "        :type l2: ListNode\n",
    "        :rtype: ListNode\n",
    "        \"\"\"\n",
    "        ans = ListNode(0)\n",
    "        pointer = ans\n",
    "        while l1 and l2:\n",
    "            if l2.val > l1.val:\n",
    "                pointer.next = l1\n",
    "                l1 = l1.next\n",
    "            else:\n",
    "                pointer.next = l2\n",
    "                l2 = l2.next\n",
    "            pointer = pointer.next\n",
    "        while l1:\n",
    "            pointer.next = l1\n",
    "            l1 = l1.next\n",
    "            pointer = pointer.next\n",
    "        while l2:\n",
    "            pointer.next = l2\n",
    "            l2 = l2.next\n",
    "            pointer = pointer.next\n",
    "        return ans.next"
   ]
  },
  {
   "cell_type": "markdown",
   "metadata": {},
   "source": [
    "## Valid Parentheses"
   ]
  },
  {
   "cell_type": "raw",
   "metadata": {},
   "source": [
    "Given a string containing just the characters '(', ')', '{', '}', '[' and ']', determine if the input string is valid.\n",
    "\n",
    "The brackets must close in the correct order, \"()\" and \"()[]{}\" are all valid but \"(]\" and \"([)]\" are not."
   ]
  },
  {
   "cell_type": "code",
   "execution_count": null,
   "metadata": {
    "collapsed": true
   },
   "outputs": [],
   "source": [
    "class Solution(object):\n",
    "    def isValid(self, s):\n",
    "        \"\"\"\n",
    "        :type s: str\n",
    "        :rtype: bool\n",
    "        \"\"\"\n",
    "        ans = \"\"\n",
    "        A = {\"}\": \"{\", \")\": \"(\", \"]\": \"[\"}\n",
    "        for c in s:\n",
    "            if c in \"({[\":\n",
    "                ans += c\n",
    "            else:\n",
    "                if len(ans) > 0 and ans[-1] == A[c]:\n",
    "                    ans = ans[:-1]\n",
    "                else:\n",
    "                    return False\n",
    "        return ans == \"\""
   ]
  },
  {
   "cell_type": "markdown",
   "metadata": {},
   "source": [
    "## Remove Nth Node From End of List"
   ]
  },
  {
   "cell_type": "raw",
   "metadata": {},
   "source": [
    "Given a linked list, remove the nth node from the end of list and return its head.\n",
    "\n",
    "For example,\n",
    "\n",
    "   Given linked list: 1->2->3->4->5, and n = 2.\n",
    "\n",
    "   After removing the second node from the end, the linked list becomes 1->2->3->5.\n",
    "Note:\n",
    "Given n will always be valid.\n",
    "Try to do this in one pass."
   ]
  },
  {
   "cell_type": "code",
   "execution_count": null,
   "metadata": {
    "collapsed": true
   },
   "outputs": [],
   "source": [
    "# Definition for singly-linked list.\n",
    "# class ListNode(object):\n",
    "#     def __init__(self, x):\n",
    "#         self.val = x\n",
    "#         self.next = None\n",
    "\n",
    "class Solution(object):\n",
    "    def removeNthFromEnd(self, head, n):\n",
    "        \"\"\"\n",
    "        :type head: ListNode\n",
    "        :type n: int\n",
    "        :rtype: ListNode\n",
    "        \"\"\"\n",
    "        paths = {}\n",
    "        index = 0\n",
    "        node = head\n",
    "        while node:\n",
    "            paths[index] = node\n",
    "            index += 1\n",
    "            node = node.next\n",
    "        if index - n == 0:\n",
    "            if 1 in paths:\n",
    "                return paths[1]\n",
    "            else:\n",
    "                return []\n",
    "        else:\n",
    "            node = paths[index-n-1]\n",
    "            if index-n+1 in paths:\n",
    "                node.next = paths[index-n+1]\n",
    "            else:\n",
    "                node.next = None\n",
    "            return head"
   ]
  },
  {
   "cell_type": "markdown",
   "metadata": {},
   "source": [
    "## 4Sum"
   ]
  },
  {
   "cell_type": "raw",
   "metadata": {},
   "source": [
    "Given an array S of n integers, are there elements a, b, c, and d in S such that a + b + c + d = target? Find all unique quadruplets in the array which gives the sum of target.\n",
    "\n",
    "Note: The solution set must not contain duplicate quadruplets.\n",
    "\n",
    "For example, given array S = [1, 0, -1, 0, -2, 2], and target = 0.\n",
    "\n",
    "A solution set is:\n",
    "[\n",
    "  [-1,  0, 0, 1],\n",
    "  [-2, -1, 1, 2],\n",
    "  [-2,  0, 0, 2]\n",
    "]"
   ]
  },
  {
   "cell_type": "code",
   "execution_count": null,
   "metadata": {
    "collapsed": true
   },
   "outputs": [],
   "source": [
    "class Solution(object):\n",
    "    def fourSum(self, nums, target):\n",
    "        \"\"\"\n",
    "        :type nums: List[int]\n",
    "        :type target: int\n",
    "        :rtype: List[List[int]]\n",
    "        \"\"\"\n",
    "        result = []\n",
    "        L = len(nums)\n",
    "        if L < 4:\n",
    "            return result\n",
    "            \n",
    "        nums.sort()\n",
    "        last1 = None\n",
    "        for i in range(L-3):\n",
    "            if nums[i] == last1:\n",
    "                continue\n",
    "            last2 = None\n",
    "            for j in range(i+1, L-2):\n",
    "                if nums[j] == last2:\n",
    "                    continue\n",
    "                new_target = target - nums[i] - nums[j]\n",
    "                left = j+1\n",
    "                right = L-1\n",
    "                while left < right:\n",
    "                    if nums[left] + nums[right] == new_target:\n",
    "                        result.append([nums[i], nums[j], nums[left], nums[right]])\n",
    "                        left += 1\n",
    "                        right -= 1\n",
    "                        while left < right and nums[left] == nums[left-1]:\n",
    "                            left += 1\n",
    "                        while left < right and nums[right] == nums[right+1]:\n",
    "                            right -= 1\n",
    "                    elif nums[left] + nums[right] < new_target:\n",
    "                        left += 1\n",
    "                    else:\n",
    "                        right -= 1\n",
    "                last2 = nums[j]\n",
    "            last1 = nums[i]\n",
    "        return result"
   ]
  },
  {
   "cell_type": "markdown",
   "metadata": {},
   "source": [
    "## 3Sum"
   ]
  },
  {
   "cell_type": "raw",
   "metadata": {},
   "source": [
    "Given an array S of n integers, are there elements a, b, c in S such that a + b + c = 0? Find all unique triplets in the array which gives the sum of zero.\n",
    "\n",
    "Note: The solution set must not contain duplicate triplets.\n",
    "\n",
    "For example, given array S = [-1, 0, 1, 2, -1, -4],\n",
    "\n",
    "A solution set is:\n",
    "[\n",
    "  [-1, 0, 1],\n",
    "  [-1, -1, 2]\n",
    "]"
   ]
  },
  {
   "cell_type": "code",
   "execution_count": null,
   "metadata": {
    "collapsed": true
   },
   "outputs": [],
   "source": [
    "class Solution(object):\n",
    "    def threeSum(self, nums):\n",
    "        \"\"\"\n",
    "        :type nums: List[int]\n",
    "        :rtype: List[List[int]]\n",
    "        \"\"\"\n",
    "        L = len(nums)\n",
    "        result = []\n",
    "        if L < 3:\n",
    "            return result\n",
    "        nums.sort()\n",
    "        last = None\n",
    "        for i in range(L-2):\n",
    "            if nums[i] == last:\n",
    "                continue\n",
    "            target = -1 * nums[i]\n",
    "            left = i + 1\n",
    "            right = L - 1\n",
    "            while left < right:\n",
    "                if nums[left] + nums[right] == target:\n",
    "                    result.append([nums[i], nums[left], nums[right]])\n",
    "                    left += 1\n",
    "                    right -= 1\n",
    "                    while left < right and nums[left] == nums[left-1]:\n",
    "                        left += 1\n",
    "                    while left < right and nums[right] == nums[right+1]:\n",
    "                        right -= 1\n",
    "                elif nums[left] + nums[right] < target:\n",
    "                    left += 1\n",
    "                else:\n",
    "                    right -= 1\n",
    "            last = nums[i]\n",
    "        return result"
   ]
  },
  {
   "cell_type": "markdown",
   "metadata": {},
   "source": [
    "## Longest Common Prefix"
   ]
  },
  {
   "cell_type": "raw",
   "metadata": {},
   "source": [
    "Write a function to find the longest common prefix string amongst an array of strings."
   ]
  },
  {
   "cell_type": "code",
   "execution_count": null,
   "metadata": {
    "collapsed": true
   },
   "outputs": [],
   "source": [
    "class Solution(object):\n",
    "    def longestCommonPrefix(self, strs):\n",
    "        \"\"\"\n",
    "        :type strs: List[str]\n",
    "        :rtype: str\n",
    "        \"\"\"\n",
    "        if len(strs) < 1:\n",
    "            return ''\n",
    "            \n",
    "        def prefix(s1, s2):\n",
    "            L1 = len(s1)\n",
    "            L2 = len(s2)\n",
    "            if L1 > L2:\n",
    "                s1, s2 = s2, s1\n",
    "                L1, L2 = L2, L1\n",
    "            \n",
    "            while s1 != s2[:L1]:\n",
    "                s1 = s1[:-1]\n",
    "                L1 -= 1\n",
    "            return s1\n",
    "        \n",
    "        ans = strs[0]\n",
    "        for s in strs[1:]:\n",
    "            ans = prefix(ans, s)\n",
    "        return ans"
   ]
  },
  {
   "cell_type": "markdown",
   "metadata": {},
   "source": [
    "## Roman to Integer"
   ]
  },
  {
   "cell_type": "raw",
   "metadata": {},
   "source": [
    "Given a roman numeral, convert it to an integer.\n",
    "\n",
    "Input is guaranteed to be within the range from 1 to 3999."
   ]
  },
  {
   "cell_type": "code",
   "execution_count": null,
   "metadata": {
    "collapsed": true
   },
   "outputs": [],
   "source": [
    "class Solution(object):\n",
    "    def romanToInt(self, s):\n",
    "        \"\"\"\n",
    "        :type s: str\n",
    "        :rtype: int\n",
    "        \"\"\"\n",
    "        if s == '':\n",
    "            return 0\n",
    "            \n",
    "        MAP = {'I': 1, 'V': 5, 'X': 10, 'L': 50, 'C': 100, 'D': 500, 'M': 1000}\n",
    "        result = MAP[s[-1]]\n",
    "        last = s[-1]\n",
    "        for c in s[-2::-1]:\n",
    "            if MAP[c] >= MAP[last]:\n",
    "                result += MAP[c]\n",
    "            else:\n",
    "                result -= MAP[c]\n",
    "            last = c\n",
    "        return result"
   ]
  },
  {
   "cell_type": "markdown",
   "metadata": {},
   "source": [
    "## Container With Most Water"
   ]
  },
  {
   "cell_type": "raw",
   "metadata": {},
   "source": [
    "Given n non-negative integers a1, a2, ..., an, where each represents a point at coordinate (i, ai). n vertical lines are drawn such that the two endpoints of line i is at (i, ai) and (i, 0). Find two lines, which together with x-axis forms a container, such that the container contains the most water."
   ]
  },
  {
   "cell_type": "code",
   "execution_count": null,
   "metadata": {
    "collapsed": true
   },
   "outputs": [],
   "source": [
    "class Solution(object):\n",
    "    def maxArea(self, height):\n",
    "        \"\"\"\n",
    "        :type height: List[int]\n",
    "        :rtype: int\n",
    "        \"\"\"\n",
    "        l = 0\n",
    "        r = len(height) - 1\n",
    "        ans = 0\n",
    "        while(l < r):\n",
    "            if height[l] > height[r]:\n",
    "                temp = (r -l) * height[r]\n",
    "                r -= 1\n",
    "            else:\n",
    "                temp = (r - l) * height[l]\n",
    "                l += 1\n",
    "            if temp > ans:\n",
    "                ans = temp\n",
    "        return ans"
   ]
  },
  {
   "cell_type": "markdown",
   "metadata": {},
   "source": [
    "## Longest Palindromic Substring"
   ]
  },
  {
   "cell_type": "raw",
   "metadata": {},
   "source": [
    "Given a string S, find the longest palindromic substring in S. You may assume that the maximum length of S is 1000, and there exists one unique longest palindromic substring."
   ]
  },
  {
   "cell_type": "code",
   "execution_count": null,
   "metadata": {
    "collapsed": true
   },
   "outputs": [],
   "source": [
    "class Solution(object):\n",
    "    def longestPalindrome(self, s):\n",
    "        \"\"\"\n",
    "        :type s: str\n",
    "        :rtype: str\n",
    "        \"\"\"\n",
    "        if s == '':\n",
    "            return s\n",
    "        L = len(s)\n",
    "        def expand(c1, c2):\n",
    "            while(c1 >= 0 and c2 <= L-1 and s[c1] == s[c2]):\n",
    "                c1 -= 1\n",
    "                c2 += 1\n",
    "            return s[c1+1:c2]\n",
    "        maxL = 1\n",
    "        ans = s[0]\n",
    "        for i in range(L):\n",
    "            temp = expand(i, i)\n",
    "            if len(temp) > maxL:\n",
    "                maxL = len(temp)\n",
    "                ans = temp\n",
    "            temp = expand(i, i+1)\n",
    "            if len(temp) > maxL:\n",
    "                maxL = len(temp)\n",
    "                ans = temp\n",
    "        return ans"
   ]
  },
  {
   "cell_type": "markdown",
   "metadata": {},
   "source": [
    "## Palindrome Number"
   ]
  },
  {
   "cell_type": "raw",
   "metadata": {},
   "source": [
    "Determine whether an integer is a palindrome. Do this without extra space.\n",
    "\n",
    "Could negative integers be palindromes? (ie, -1)\n",
    "\n",
    "If you are thinking of converting the integer to string, note the restriction of using extra space.\n",
    "\n",
    "You could also try reversing an integer. However, if you have solved the problem \"Reverse Integer\", you know that the reversed integer might overflow. How would you handle such case?"
   ]
  },
  {
   "cell_type": "code",
   "execution_count": null,
   "metadata": {
    "collapsed": true
   },
   "outputs": [],
   "source": [
    "class Solution(object):\n",
    "    def isPalindrome(self, x):\n",
    "        \"\"\"\n",
    "        :type x: int\n",
    "        :rtype: bool\n",
    "        \"\"\"\n",
    "        if x < 0:\n",
    "            return False\n",
    "        div = 1\n",
    "        while(x/div >= 10):\n",
    "            div *= 10\n",
    "        while(x > 0):\n",
    "            l = x/div\n",
    "            r = x%10\n",
    "            if l != r:\n",
    "                return False\n",
    "            x = x%div/10\n",
    "            div /= 100\n",
    "        return True"
   ]
  },
  {
   "cell_type": "markdown",
   "metadata": {},
   "source": [
    "## String to Integer (atoi)"
   ]
  },
  {
   "cell_type": "raw",
   "metadata": {},
   "source": [
    "Implement atoi to convert a string to an integer.\n",
    "\n",
    "The function first discards as many whitespace characters as necessary until the first non-whitespace character is found. Then, starting from this character, takes an optional initial plus or minus sign followed by as many numerical digits as possible, and interprets them as a numerical value.\n",
    "\n",
    "The string can contain additional characters after those that form the integral number, which are ignored and have no effect on the behavior of this function.\n",
    "\n",
    "If the first sequence of non-whitespace characters in str is not a valid integral number, or if no such sequence exists because either str is empty or it contains only whitespace characters, no conversion is performed.\n",
    "\n",
    "If no valid conversion could be performed, a zero value is returned. If the correct value is out of the range of representable values, INT_MAX (2147483647) or INT_MIN (-2147483648) is returned."
   ]
  },
  {
   "cell_type": "code",
   "execution_count": null,
   "metadata": {
    "collapsed": true
   },
   "outputs": [],
   "source": [
    "class Solution(object):\n",
    "    def myAtoi(self, s):\n",
    "        \"\"\"\n",
    "        :type str: s\n",
    "        :rtype: int\n",
    "        \"\"\"\n",
    "        def clean(s):\n",
    "            t = ''\n",
    "            if s:\n",
    "                s = s.strip()\n",
    "                if s[0] in '-+' or s[0].isdigit():\n",
    "                    t += s[0]\n",
    "                    for c in s[1:]:\n",
    "                        if c.isdigit():\n",
    "                            t += c\n",
    "                        else:\n",
    "                            return t\n",
    "            return t\n",
    "            \n",
    "        result = 0\n",
    "        sign = 1\n",
    "        s = clean(s)\n",
    "        if s:\n",
    "            if s[0] == '-':\n",
    "                sign = -1\n",
    "                s = s[1:]\n",
    "            s = s[::-1]\n",
    "            for i in range(len(s)):\n",
    "                if s[i].isdigit():\n",
    "                    result += int(s[i]) * (10**i)\n",
    "                else:\n",
    "                    break\n",
    "            if result > 2147483647 and sign == 1:\n",
    "                result = 2147483647\n",
    "            elif result > 2147483648 and sign == -1:\n",
    "                result = 2147483648\n",
    "        return sign * result"
   ]
  },
  {
   "cell_type": "markdown",
   "metadata": {},
   "source": [
    "## Reverse Integer"
   ]
  },
  {
   "cell_type": "raw",
   "metadata": {},
   "source": [
    "Reverse digits of an integer.\n",
    "\n",
    "Example1: x = 123, return 321\n",
    "Example2: x = -123, return -321\n",
    "\n",
    "If the integer's last digit is 0, what should the output be? ie, cases such as 10, 100.\n",
    "\n",
    "Did you notice that the reversed integer might overflow? Assume the input is a 32-bit integer, then the reverse of 1000000003 overflows. How should you handle such cases?\n",
    "\n",
    "For the purpose of this problem, assume that your function returns 0 when the reversed integer overflows."
   ]
  },
  {
   "cell_type": "code",
   "execution_count": null,
   "metadata": {
    "collapsed": true
   },
   "outputs": [],
   "source": [
    "class Solution(object):\n",
    "    def reverse(self, x):\n",
    "        \"\"\"\n",
    "        :type x: int\n",
    "        :rtype: int\n",
    "        \"\"\"\n",
    "        if x >= 0:\n",
    "            sign = 1\n",
    "        else:\n",
    "            sign = -1\n",
    "        result = int(str(abs(x))[::-1])\n",
    "        if result > 2147483647:\n",
    "            return 0\n",
    "        else:\n",
    "            return sign * result"
   ]
  },
  {
   "cell_type": "markdown",
   "metadata": {},
   "source": [
    "## Longest Substring Without Repeating Characters"
   ]
  },
  {
   "cell_type": "raw",
   "metadata": {},
   "source": [
    "Given a string, find the length of the longest substring without repeating characters.\n",
    "\n",
    "Examples:\n",
    "\n",
    "Given \"abcabcbb\", the answer is \"abc\", which the length is 3.\n",
    "\n",
    "Given \"bbbbb\", the answer is \"b\", with the length of 1.\n",
    "\n",
    "Given \"pwwkew\", the answer is \"wke\", with the length of 3. Note that the answer must be a substring, \"pwke\" is a subsequence and not a substring."
   ]
  },
  {
   "cell_type": "code",
   "execution_count": null,
   "metadata": {
    "collapsed": true
   },
   "outputs": [],
   "source": [
    "class Solution(object):\n",
    "    def lengthOfLongestSubstring(self, s):\n",
    "        \"\"\"\n",
    "        :type s: str\n",
    "        :rtype: int\n",
    "        \"\"\"\n",
    "        ans, start, end = 0, 0, 0\n",
    "        counts = {}\n",
    "        for c in s:\n",
    "            end += 1\n",
    "            counts[c] = counts.get(c, 0) + 1\n",
    "            while counts[c] > 1:\n",
    "                counts[s[start]] -= 1\n",
    "                start += 1\n",
    "            ans = max(ans, end - start)\n",
    "        return ans"
   ]
  },
  {
   "cell_type": "markdown",
   "metadata": {},
   "source": [
    "## ZigZag Conversion"
   ]
  },
  {
   "cell_type": "raw",
   "metadata": {},
   "source": [
    "The string \"PAYPALISHIRING\" is written in a zigzag pattern on a given number of rows like this: (you may want to display this pattern in a fixed font for better legibility)\n",
    "\n",
    "P   A   H   N\n",
    "A P L S I I G\n",
    "Y   I   R\n",
    "And then read line by line: \"PAHNAPLSIIGYIR\"\n",
    "\n",
    "Write the code that will take a string and make this conversion given a number of rows:\n",
    "    string convert(string text, int nRows)\n",
    "convert(\"PAYPALISHIRING\", 3) should return \"PAHNAPLSIIGYIR\"."
   ]
  },
  {
   "cell_type": "code",
   "execution_count": null,
   "metadata": {
    "collapsed": true
   },
   "outputs": [],
   "source": [
    "class Solution(object):\n",
    "    def convert(self, s, numRows):\n",
    "        \"\"\"\n",
    "        :type s: str\n",
    "        :type numRows: int\n",
    "        :rtype: str\n",
    "        \"\"\"\n",
    "        if numRows <= 1:\n",
    "            return s\n",
    "        n = len(s)\n",
    "        ans = ''\n",
    "        window = 2 * numRows - 2\n",
    "        for i in range(numRows):\n",
    "            flag = i > 0 and i < numRows-1\n",
    "            j = 0\n",
    "            index = i + window * j\n",
    "            while index < n:\n",
    "                ans += s[index]\n",
    "                if flag and index + window - 2*i<n:\n",
    "                    ans += s[index + window - 2*i]\n",
    "                j += 1\n",
    "                index = i + window * j\n",
    "        return ans"
   ]
  },
  {
   "cell_type": "markdown",
   "metadata": {},
   "source": [
    "## Add Two Numbers"
   ]
  },
  {
   "cell_type": "raw",
   "metadata": {},
   "source": [
    "You are given two linked lists representing two non-negative numbers. The digits are stored in reverse order and each of their nodes contain a single digit. Add the two numbers and return it as a linked list.\n",
    "\n",
    "Input: (2 -> 4 -> 3) + (5 -> 6 -> 4)\n",
    "Output: 7 -> 0 -> 8"
   ]
  },
  {
   "cell_type": "code",
   "execution_count": null,
   "metadata": {
    "collapsed": true
   },
   "outputs": [],
   "source": [
    "class Solution(object):\n",
    "    def addTwoNumbers(self, l1, l2):\n",
    "        \"\"\"\n",
    "        :type l1: ListNode\n",
    "        :type l2: ListNode\n",
    "        :rtype: ListNode\n",
    "        \"\"\"\n",
    "        if l1 == None: return l2\n",
    "        if l2 == None: return l1\n",
    "        buffer = 0\n",
    "        ans = ListNode(0)\n",
    "        pos = ans\n",
    "        while l1 and l2:\n",
    "            n1 = l1.val\n",
    "            n2 = l2.val\n",
    "            val = buffer + n1 + n2\n",
    "            buffer = val / 10\n",
    "            val = val % 10\n",
    "            pos.next = ListNode(val)\n",
    "            pos = pos.next\n",
    "            l1 = l1.next\n",
    "            l2 = l2.next\n",
    "        l3 = None\n",
    "        if l1:\n",
    "            l3 = l1\n",
    "        elif l2:\n",
    "            l3 = l2\n",
    "        while l3:\n",
    "            n3 = l3.val\n",
    "            val = buffer + n3\n",
    "            buffer = val / 10\n",
    "            val = val % 10\n",
    "            pos.next = ListNode(val)\n",
    "            pos = pos.next\n",
    "            l3 = l3.next\n",
    "        if buffer > 0:\n",
    "            pos.next = ListNode(buffer)\n",
    "        return ans.next"
   ]
  },
  {
   "cell_type": "markdown",
   "metadata": {},
   "source": [
    "## Two Sum"
   ]
  },
  {
   "cell_type": "raw",
   "metadata": {},
   "source": [
    "Given an array of integers, return indices of the two numbers such that they add up to a specific target.\n",
    "You may assume that each input would have exactly one solution.\n",
    "\n",
    "Example:\n",
    "Given nums = [2, 7, 11, 15], target = 9,\n",
    "Because nums[0] + nums[1] = 2 + 7 = 9,\n",
    "return [0, 1]."
   ]
  },
  {
   "cell_type": "code",
   "execution_count": null,
   "metadata": {
    "collapsed": true
   },
   "outputs": [],
   "source": [
    "class Solution(object):\n",
    "    def twoSum(self, nums, target):\n",
    "        \"\"\"\n",
    "        :type nums: List[int]\n",
    "        :type target: int\n",
    "        :rtype: List[int]\n",
    "        \"\"\"\n",
    "        L = len(nums)\n",
    "        Nums = {}\n",
    "        for i in range(L):\n",
    "            n = target-nums[i]\n",
    "            if n in Nums:\n",
    "                return [Nums[n], i]\n",
    "            else:\n",
    "                Nums[nums[i]] = i"
   ]
  },
  {
   "cell_type": "markdown",
   "metadata": {},
   "source": [
    "## Single Number II"
   ]
  },
  {
   "cell_type": "code",
   "execution_count": null,
   "metadata": {
    "collapsed": true
   },
   "outputs": [],
   "source": [
    "Given an array of integers, every element appears twice except for one. Find that single one.\n",
    "\n",
    "Note: Your algorithm should have a linear runtime complexity. Could you implement it without using extra memory?"
   ]
  },
  {
   "cell_type": "code",
   "execution_count": null,
   "metadata": {
    "collapsed": true
   },
   "outputs": [],
   "source": [
    "class Solution(object):\n",
    "    def singleNumber(self, nums):\n",
    "        \"\"\"\n",
    "        :type nums: List[int]\n",
    "        :rtype: int\n",
    "        \"\"\"\n",
    "        ones = 0\n",
    "        twos = 0\n",
    "        for n in nums:\n",
    "            twos |= ones&n\n",
    "            ones ^= n\n",
    "            threes = twos & ones\n",
    "            ones &= ~threes\n",
    "            twos &= ~threes\n",
    "        return ones"
   ]
  },
  {
   "cell_type": "markdown",
   "metadata": {},
   "source": [
    "## Single Number"
   ]
  },
  {
   "cell_type": "raw",
   "metadata": {},
   "source": [
    "Given an array of integers, every element appears twice except for one. Find that single one.\n",
    "\n",
    "Note: Your algorithm should have a linear runtime complexity. Could you implement it without using extra memory?"
   ]
  },
  {
   "cell_type": "code",
   "execution_count": null,
   "metadata": {
    "collapsed": true
   },
   "outputs": [],
   "source": [
    "class Solution(object):\n",
    "    def singleNumber(self, nums):\n",
    "        \"\"\"\n",
    "        :type nums: List[int]\n",
    "        :rtype: int\n",
    "        \"\"\"\n",
    "        result = 0\n",
    "        for n in nums:\n",
    "            result ^= n\n",
    "        return result"
   ]
  },
  {
   "cell_type": "markdown",
   "metadata": {},
   "source": [
    "## Length of Last Word"
   ]
  },
  {
   "cell_type": "raw",
   "metadata": {},
   "source": [
    "Given a string s consists of upper/lower-case alphabets and empty space characters ' ', return the length of last word in the string.\n",
    "If the last word does not exist, return 0.\n",
    "\n",
    "Note: A word is defined as a character sequence consists of non-space characters only.\n",
    "For example, \n",
    "Given s = \"Hello World\",\n",
    "return 5."
   ]
  },
  {
   "cell_type": "code",
   "execution_count": null,
   "metadata": {
    "collapsed": true
   },
   "outputs": [],
   "source": [
    "class Solution(object):\n",
    "    def lengthOfLastWord(self, s):\n",
    "        \"\"\"\n",
    "        :type s: str\n",
    "        :rtype: int\n",
    "        \"\"\"\n",
    "        count = 0\n",
    "        for c in s.strip()[::-1]:\n",
    "            if c.isalpha():\n",
    "                count += 1\n",
    "            else:\n",
    "                break\n",
    "        return count"
   ]
  },
  {
   "cell_type": "markdown",
   "metadata": {},
   "source": [
    "## Combinations"
   ]
  },
  {
   "cell_type": "raw",
   "metadata": {},
   "source": [
    "Given two integers n and k, return all possible combinations of k numbers out of 1 ... n.\n",
    "For example,\n",
    "If n = 4 and k = 2, a solution is:\n",
    "[\n",
    "  [2,4],\n",
    "  [3,4],\n",
    "  [2,3],\n",
    "  [1,2],\n",
    "  [1,3],\n",
    "  [1,4],\n",
    "]"
   ]
  },
  {
   "cell_type": "code",
   "execution_count": null,
   "metadata": {
    "collapsed": true
   },
   "outputs": [],
   "source": [
    "class Solution(object):\n",
    "    def combine(self, n, k):\n",
    "        \"\"\"\n",
    "        :type n: int\n",
    "        :type k: int\n",
    "        :rtype: List[List[int]]\n",
    "        \"\"\"\n",
    "        result = []\n",
    "        def helper(start=1, end=n-k+1, parent=[], level=k):\n",
    "            last = (level == 1)\n",
    "            for i in range(start, end+1):\n",
    "                if last:\n",
    "                    result.append(parent+[i])\n",
    "                else:\n",
    "                    helper(i+1, end+1, parent+[i], level-1)\n",
    "        helper()\n",
    "        return result"
   ]
  },
  {
   "cell_type": "markdown",
   "metadata": {},
   "source": [
    "## Sum Root to Leaf Numbers"
   ]
  },
  {
   "cell_type": "raw",
   "metadata": {},
   "source": [
    "Given a binary tree containing digits from 0-9 only, each root-to-leaf path could represent a number.\n",
    "An example is the root-to-leaf path 1->2->3 which represents the number 123.\n",
    "Find the total sum of all root-to-leaf numbers.\n",
    "\n",
    "For example,\n",
    "    1\n",
    "   / \\\n",
    "  2   3\n",
    "The root-to-leaf path 1->2 represents the number 12.\n",
    "The root-to-leaf path 1->3 represents the number 13.\n",
    "Return the sum = 12 + 13 = 25."
   ]
  },
  {
   "cell_type": "code",
   "execution_count": null,
   "metadata": {
    "collapsed": true
   },
   "outputs": [],
   "source": [
    "class Solution(object):\n",
    "    def findPaths(self, root):\n",
    "        paths = []\n",
    "        def helper(node, path=''):\n",
    "            if node:\n",
    "                path += str(node.val)\n",
    "                if node.left == None and node.right == None:  \n",
    "                    paths.append(path)\n",
    "                else:\n",
    "                    if node.left:\n",
    "                        helper(node.left, path)\n",
    "                    if node.right:\n",
    "                        helper(node.right, path)\n",
    "        helper(root)\n",
    "        return paths\n",
    "    def sumNumbers(self, root):\n",
    "        \"\"\"\n",
    "        :type root: TreeNode\n",
    "        :rtype: int\n",
    "        \"\"\"\n",
    "        result = 0\n",
    "        for path in self.findPaths(root):\n",
    "            result += int(path)\n",
    "        return result"
   ]
  },
  {
   "cell_type": "markdown",
   "metadata": {},
   "source": [
    "## Minimum Depth of Binary Tree"
   ]
  },
  {
   "cell_type": "raw",
   "metadata": {},
   "source": [
    "Given a binary tree, find its minimum depth.\n",
    "The minimum depth is the number of nodes along the shortest path from the root node down to the nearest leaf node."
   ]
  },
  {
   "cell_type": "code",
   "execution_count": null,
   "metadata": {
    "collapsed": true
   },
   "outputs": [],
   "source": [
    "class Solution(object):\n",
    "    def minDepth(self, root):\n",
    "        \"\"\"\n",
    "        :type root: TreeNode\n",
    "        :rtype: int\n",
    "        \"\"\"\n",
    "        if root == None:\n",
    "            return 0\n",
    "        elif root.left:\n",
    "            if root.right:\n",
    "                return min(self.minDepth(root.left), self.minDepth(root.right))+1\n",
    "            else:\n",
    "                return self.minDepth(root.left)+1\n",
    "        elif root.right:\n",
    "            return self.minDepth(root.right)+1\n",
    "        else:\n",
    "            return 1"
   ]
  }
 ],
 "metadata": {
  "kernelspec": {
   "display_name": "Python 2",
   "language": "python",
   "name": "python2"
  },
  "language_info": {
   "codemirror_mode": {
    "name": "ipython",
    "version": 2
   },
   "file_extension": ".py",
   "mimetype": "text/x-python",
   "name": "python",
   "nbconvert_exporter": "python",
   "pygments_lexer": "ipython2",
   "version": "2.7.11"
  }
 },
 "nbformat": 4,
 "nbformat_minor": 0
}
