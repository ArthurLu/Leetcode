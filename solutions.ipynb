{
 "cells": [
  {
   "cell_type": "raw",
   "metadata": {},
   "source": []
  },
  {
   "cell_type": "code",
   "execution_count": null,
   "metadata": {
    "collapsed": true
   },
   "outputs": [],
   "source": [
    "class Solution(object):\n",
    "    def isSymmetric(self, root):\n",
    "        \"\"\"\n",
    "        :type root: TreeNode\n",
    "        :rtype: bool\n",
    "        \"\"\"\n",
    "        if root == None:\n",
    "            return True\n",
    "        def helper(left, right):\n",
    "            if left == None or right == None:\n",
    "                return left == None and right == None\n",
    "            if left.val != right.val:\n",
    "                return False\n",
    "            return helper(left.right, right.left) and helper(left.left, right.right)\n",
    "        return helper(root.left, root.right)"
   ]
  },
  {
   "cell_type": "markdown",
   "metadata": {},
   "source": [
    "## Same Tree"
   ]
  },
  {
   "cell_type": "raw",
   "metadata": {},
   "source": [
    "Given two binary trees, write a function to check if they are equal or not.\n",
    "\n",
    "Two binary trees are considered equal if they are structurally identical and the nodes have the same value."
   ]
  },
  {
   "cell_type": "code",
   "execution_count": null,
   "metadata": {
    "collapsed": true
   },
   "outputs": [],
   "source": [
    "class Solution(object):\n",
    "    def isSameTree(self, p, q):\n",
    "        \"\"\"\n",
    "        :type p: TreeNode\n",
    "        :type q: TreeNode\n",
    "        :rtype: bool\n",
    "        \"\"\"\n",
    "        if p == None:\n",
    "            return q == None\n",
    "        if q == None:\n",
    "            return p == None\n",
    "        if p.val != q.val:\n",
    "            return False\n",
    "        return self.isSameTree(p.left, q.left) and self.isSameTree(p.right, q.right)"
   ]
  },
  {
   "cell_type": "markdown",
   "metadata": {},
   "source": [
    "## Validate Binary Search Tree"
   ]
  },
  {
   "cell_type": "raw",
   "metadata": {},
   "source": [
    "Given a binary tree, determine if it is a valid binary search tree (BST).\n",
    "\n",
    "Assume a BST is defined as follows:\n",
    "\n",
    "The left subtree of a node contains only nodes with keys less than the node's key.\n",
    "The right subtree of a node contains only nodes with keys greater than the node's key.\n",
    "Both the left and right subtrees must also be binary search trees.\n",
    "Example 1:\n",
    "    2\n",
    "   / \\\n",
    "  1   3\n",
    "Binary tree [2,1,3], return true.\n",
    "Example 2:\n",
    "    1\n",
    "   / \\\n",
    "  2   3\n",
    "Binary tree [1,2,3], return false."
   ]
  },
  {
   "cell_type": "code",
   "execution_count": null,
   "metadata": {
    "collapsed": true
   },
   "outputs": [],
   "source": [
    "class Solution(object):\n",
    "    def isValidBST(self, root):\n",
    "        \"\"\"\n",
    "        :type root: TreeNode\n",
    "        :rtype: bool\n",
    "        \"\"\"\n",
    "        self.lim = None\n",
    "        def helper(node):\n",
    "            if node:\n",
    "                if helper(node.left):\n",
    "                    if self.lim == None or self.lim < node.val:\n",
    "                        self.lim = node.val\n",
    "                        return helper(node.right)\n",
    "                    else:\n",
    "                        return False\n",
    "                else:\n",
    "                    return False\n",
    "            else:\n",
    "                return True\n",
    "        return helper(root)"
   ]
  },
  {
   "cell_type": "markdown",
   "metadata": {},
   "source": [
    "## Unique Binary Search Trees II"
   ]
  },
  {
   "cell_type": "raw",
   "metadata": {},
   "source": [
    "Given an integer n, generate all structurally unique BST's (binary search trees) that store values 1...n.\n",
    "\n",
    "For example,\n",
    "Given n = 3, your program should return all 5 unique BST's shown below.\n",
    "\n",
    "   1         3     3      2      1\n",
    "    \\       /     /      / \\      \\\n",
    "     3     2     1      1   3      2\n",
    "    /     /       \\                 \\\n",
    "   2     1         2                 3"
   ]
  },
  {
   "cell_type": "code",
   "execution_count": null,
   "metadata": {
    "collapsed": true
   },
   "outputs": [],
   "source": [
    "class Solution(object):\n",
    "    def dfs(self, start, end):\n",
    "        if start > end:\n",
    "            return [None]\n",
    "        ans = []\n",
    "        for rootVal in xrange(start, end+1):\n",
    "            leftTrees = self.dfs(start, rootVal-1)\n",
    "            rightTrees = self.dfs(rootVal+1, end)\n",
    "            for left in leftTrees:\n",
    "                for right in rightTrees:\n",
    "                    root = TreeNode(rootVal)\n",
    "                    root.left = left\n",
    "                    root.right = right\n",
    "                    ans.append(root)\n",
    "        return ans\n",
    "                    \n",
    "    def generateTrees(self, n):\n",
    "        \"\"\"\n",
    "        :type n: int\n",
    "        :rtype: List[TreeNode]\n",
    "        \"\"\"\n",
    "        if n < 1:\n",
    "            return []\n",
    "        return self.dfs(1, n)"
   ]
  },
  {
   "cell_type": "markdown",
   "metadata": {},
   "source": [
    "## Unique Binary Search Trees"
   ]
  },
  {
   "cell_type": "raw",
   "metadata": {},
   "source": [
    "Given n, how many structurally unique BST's (binary search trees) that store values 1...n?\n",
    "\n",
    "For example,\n",
    "Given n = 3, there are a total of 5 unique BST's.\n",
    "\n",
    "   1         3     3      2      1\n",
    "    \\       /     /      / \\      \\\n",
    "     3     2     1      1   3      2\n",
    "    /     /       \\                 \\\n",
    "   2     1         2                 3"
   ]
  },
  {
   "cell_type": "code",
   "execution_count": null,
   "metadata": {
    "collapsed": true
   },
   "outputs": [],
   "source": [
    "class Solution(object):\n",
    "    def numTrees(self, n):\n",
    "        \"\"\"\n",
    "        :type n: int\n",
    "        :rtype: int\n",
    "        \"\"\"\n",
    "        dp, i = [1,1], 2\n",
    "        while i <= n:\n",
    "            count = 0\n",
    "            for left in xrange(i):\n",
    "                right = i-left-1\n",
    "                count += (dp[left]*dp[right])\n",
    "            dp.append(count)\n",
    "            i += 1\n",
    "        return dp[n]"
   ]
  },
  {
   "cell_type": "markdown",
   "metadata": {},
   "source": [
    "## Binary Tree Inorder Traversal"
   ]
  },
  {
   "cell_type": "raw",
   "metadata": {},
   "source": [
    "Given a binary tree, return the inorder traversal of its nodes' values.\n",
    "\n",
    "For example:\n",
    "Given binary tree [1,null,2,3],\n",
    "   1\n",
    "    \\\n",
    "     2\n",
    "    /\n",
    "   3\n",
    "return [1,3,2]."
   ]
  },
  {
   "cell_type": "code",
   "execution_count": null,
   "metadata": {
    "collapsed": true
   },
   "outputs": [],
   "source": [
    "class Solution(object):\n",
    "    def inorderTraversal(self, root):\n",
    "        \"\"\"\n",
    "        :type root: TreeNode\n",
    "        :rtype: List[int]\n",
    "        \"\"\"\n",
    "        ans = []\n",
    "        def helper(node):\n",
    "            if node.left:\n",
    "                helper(node.left)\n",
    "            ans.append(node.val)\n",
    "            if node.right:\n",
    "                helper(node.right)\n",
    "        if root:\n",
    "            helper(root)\n",
    "        return ans"
   ]
  },
  {
   "cell_type": "markdown",
   "metadata": {},
   "source": [
    "## Restore IP Addresses"
   ]
  },
  {
   "cell_type": "raw",
   "metadata": {},
   "source": [
    "Given a string containing only digits, restore it by returning all possible valid IP address combinations.\n",
    "\n",
    "For example:\n",
    "Given \"25525511135\",\n",
    "\n",
    "return [\"255.255.11.135\", \"255.255.111.35\"]. (Order does not matter)"
   ]
  },
  {
   "cell_type": "code",
   "execution_count": null,
   "metadata": {
    "collapsed": true
   },
   "outputs": [],
   "source": [
    "class Solution(object):\n",
    "    def isValid(self, num):\n",
    "        L = len(num)\n",
    "        if L == 0 or L > 3:\n",
    "            return False\n",
    "        if L > 1 and num[0] == '0':\n",
    "            return False\n",
    "        if L == 3 and int(num) > 255:\n",
    "            return False\n",
    "        return True\n",
    "        \n",
    "    def restoreIpAddresses(self, s):\n",
    "        \"\"\"\n",
    "        :type s: str\n",
    "        :rtype: List[str]\n",
    "        \"\"\"\n",
    "        ips = []\n",
    "        def helper(S, ip, level):\n",
    "            if level == 4:\n",
    "                if S == '':\n",
    "                    ips.append('.'.join(ip))\n",
    "                else:\n",
    "                    return \n",
    "            i = 0\n",
    "            while i < len(S) and i < 3:\n",
    "                if self.isValid(S[:i+1]):\n",
    "                    helper(S[i+1:], ip+[S[:i+1]], level+1)\n",
    "                i += 1\n",
    "        helper(s, [], 0)\n",
    "        return ips"
   ]
  },
  {
   "cell_type": "markdown",
   "metadata": {},
   "source": [
    "## Add Binary"
   ]
  },
  {
   "cell_type": "raw",
   "metadata": {},
   "source": [
    "Given two binary strings, return their sum (also a binary string).\n",
    "\n",
    "For example,\n",
    "a = \"11\"\n",
    "b = \"1\"\n",
    "Return \"100\"."
   ]
  },
  {
   "cell_type": "code",
   "execution_count": null,
   "metadata": {
    "collapsed": true
   },
   "outputs": [],
   "source": [
    "class Solution(object):\n",
    "    def addBinary(self, a, b):\n",
    "        \"\"\"\n",
    "        :type a: str\n",
    "        :type b: str\n",
    "        :rtype: str\n",
    "        \"\"\"\n",
    "        def helper(m, n, buf):\n",
    "            if m == '0' and n == '0':\n",
    "                if buf == '1':\n",
    "                    ans, buf = '1', '0'\n",
    "                else:\n",
    "                    ans = '0'\n",
    "            elif m == '1' and n == '1':\n",
    "                if buf == '1':\n",
    "                    ans = '1'\n",
    "                else:\n",
    "                    ans = '0'\n",
    "                buf = '1'\n",
    "            else:\n",
    "                if buf == '1':\n",
    "                    ans = '0'\n",
    "                else:\n",
    "                    ans, buf = '1', '0'\n",
    "            return ans, buf\n",
    "        buf, ans = '0', ''\n",
    "        i, j = len(a)-1, len(b)-1\n",
    "        while i >= 0 and j >= 0:\n",
    "            temp, buf = helper(a[i], b[j], buf)\n",
    "            ans = temp + ans\n",
    "            i -= 1\n",
    "            j -= 1\n",
    "        while i >= 0:\n",
    "            temp, buf = helper(a[i], '0', buf)\n",
    "            ans = temp + ans\n",
    "            i -= 1\n",
    "        while j >= 0:\n",
    "            temp, buf = helper(b[j], '0', buf)\n",
    "            ans = temp + ans\n",
    "            j -= 1\n",
    "        if buf == '1':\n",
    "            ans = buf + ans\n",
    "        return ans"
   ]
  },
  {
   "cell_type": "markdown",
   "metadata": {},
   "source": [
    "## Reverse Linked List II"
   ]
  },
  {
   "cell_type": "raw",
   "metadata": {},
   "source": [
    "Reverse a linked list from position m to n. Do it in-place and in one-pass.\n",
    "\n",
    "For example:\n",
    "Given 1->2->3->4->5->NULL, m = 2 and n = 4,\n",
    "\n",
    "return 1->4->3->2->5->NULL.\n",
    "\n",
    "Note:\n",
    "Given m, n satisfy the following condition:\n",
    "1 ≤ m ≤ n ≤ length of list."
   ]
  },
  {
   "cell_type": "code",
   "execution_count": null,
   "metadata": {
    "collapsed": true
   },
   "outputs": [],
   "source": [
    "class Solution(object):\n",
    "    def findNode(self, head, k):\n",
    "        while k > 0:\n",
    "            head = head.next\n",
    "            k -= 1\n",
    "        return head\n",
    "    def reverse(self, start, k):\n",
    "        last, now = start, start.next\n",
    "        while k > 0:\n",
    "            temp = now.next\n",
    "            now.next = last\n",
    "            last = now\n",
    "            now = temp\n",
    "            k -= 1\n",
    "        return last, now\n",
    "    def reverseBetween(self, head, m, n):\n",
    "        \"\"\"\n",
    "        :type head: ListNode\n",
    "        :type m: int\n",
    "        :type n: int\n",
    "        :rtype: ListNode\n",
    "        \"\"\"\n",
    "        dummy = ListNode(0)\n",
    "        dummy.next = head\n",
    "        pivot = self.findNode(dummy, m-1)\n",
    "        start = pivot.next\n",
    "        last, now = self.reverse(start, n-m)\n",
    "        start.next = now\n",
    "        pivot.next = last\n",
    "        return dummy.next"
   ]
  },
  {
   "cell_type": "markdown",
   "metadata": {},
   "source": [
    "## Merge Sorted Array"
   ]
  },
  {
   "cell_type": "raw",
   "metadata": {},
   "source": [
    "Given two sorted integer arrays nums1 and nums2, merge nums2 into nums1 as one sorted array.\n",
    "\n",
    "Note:\n",
    "You may assume that nums1 has enough space (size that is greater or equal to m + n) to hold additional elements from nums2. The number of elements initialized in nums1 and nums2 are m and n respectively."
   ]
  },
  {
   "cell_type": "code",
   "execution_count": null,
   "metadata": {
    "collapsed": true
   },
   "outputs": [],
   "source": [
    "class Solution(object):\n",
    "    def merge(self, nums1, m, nums2, n):\n",
    "        \"\"\"\n",
    "        :type nums1: List[int]\n",
    "        :type m: int\n",
    "        :type nums2: List[int]\n",
    "        :type n: int\n",
    "        :rtype: void Do not return anything, modify nums1 in-place instead.\n",
    "        \"\"\"\n",
    "        i, j, k = m-1, n-1, m+n-1\n",
    "        while i >= 0 and j >= 0:\n",
    "            if nums1[i] >= nums2[j]:\n",
    "                nums1[k] = nums1[i]\n",
    "                i -= 1\n",
    "            else:\n",
    "                nums1[k] = nums2[j]\n",
    "                j -= 1\n",
    "            k -= 1\n",
    "        while j >= 0:\n",
    "            nums1[k] = nums2[j]\n",
    "            j -= 1\n",
    "            k -= 1"
   ]
  },
  {
   "cell_type": "markdown",
   "metadata": {},
   "source": [
    "## Decode Ways"
   ]
  },
  {
   "cell_type": "raw",
   "metadata": {},
   "source": [
    "A message containing letters from A-Z is being encoded to numbers using the following mapping:\n",
    "\n",
    "'A' -> 1\n",
    "'B' -> 2\n",
    "...\n",
    "'Z' -> 26\n",
    "Given an encoded message containing digits, determine the total number of ways to decode it.\n",
    "\n",
    "For example,\n",
    "Given encoded message \"12\", it could be decoded as \"AB\" (1 2) or \"L\" (12).\n",
    "\n",
    "The number of ways decoding \"12\" is 2."
   ]
  },
  {
   "cell_type": "code",
   "execution_count": null,
   "metadata": {
    "collapsed": true
   },
   "outputs": [],
   "source": [
    "class Solution(object):\n",
    "    def numDecodings(self, s):\n",
    "        \"\"\"\n",
    "        :type s: str\n",
    "        :rtype: int\n",
    "        \"\"\"\n",
    "        if s == '' or s[0] == '0':\n",
    "            return 0\n",
    "        dp = [1,1]\n",
    "        L = len(s)\n",
    "        for i in xrange(1, L):\n",
    "            n = int(s[i-1:i+1])\n",
    "            count = 0\n",
    "            if 9 < n < 27:\n",
    "                count += dp[i-1]\n",
    "            if s[i] != '0':\n",
    "                count += dp[i]\n",
    "            if count == 0:\n",
    "                return 0\n",
    "            else:\n",
    "                dp.append(count)\n",
    "        return dp[L]"
   ]
  },
  {
   "cell_type": "markdown",
   "metadata": {},
   "source": [
    "## Subsets II"
   ]
  },
  {
   "cell_type": "raw",
   "metadata": {},
   "source": [
    "Given a collection of integers that might contain duplicates, nums, return all possible subsets.\n",
    "\n",
    "Note: The solution set must not contain duplicate subsets.\n",
    "\n",
    "For example,\n",
    "If nums = [1,2,2], a solution is:\n",
    "\n",
    "[\n",
    "  [2],\n",
    "  [1],\n",
    "  [1,2,2],\n",
    "  [2,2],\n",
    "  [1,2],\n",
    "  []\n",
    "]"
   ]
  },
  {
   "cell_type": "code",
   "execution_count": null,
   "metadata": {
    "collapsed": true
   },
   "outputs": [],
   "source": [
    "class Solution(object):\n",
    "    def subsetsWithDup(self, nums):\n",
    "        \"\"\"\n",
    "        :type nums: List[int]\n",
    "        :rtype: List[List[int]]\n",
    "        \"\"\"\n",
    "        pre = {}\n",
    "        ans = []\n",
    "        for n in nums:\n",
    "            if n in pre:\n",
    "                pre[n] += 1\n",
    "            else:\n",
    "                pre[n] = 1\n",
    "\n",
    "        def helper(Keys, parents):\n",
    "            if Keys == []:\n",
    "                ans.append(parents)\n",
    "            else:\n",
    "                i = 0\n",
    "                while i <= pre[Keys[0]]:\n",
    "                    helper(Keys[1:], parents + [Keys[0]] * i)\n",
    "                    i += 1\n",
    "        helper(pre.keys(), [])\n",
    "        return ans"
   ]
  },
  {
   "cell_type": "markdown",
   "metadata": {},
   "source": [
    "## Gray Code"
   ]
  },
  {
   "cell_type": "raw",
   "metadata": {},
   "source": [
    "The gray code is a binary numeral system where two successive values differ in only one bit.\n",
    "\n",
    "Given a non-negative integer n representing the total number of bits in the code, print the sequence of gray code. A gray code sequence must begin with 0.\n",
    "\n",
    "For example, given n = 2, return [0,1,3,2]. Its gray code sequence is:\n",
    "\n",
    "00 - 0\n",
    "01 - 1\n",
    "11 - 3\n",
    "10 - 2\n",
    "Note:\n",
    "For a given n, a gray code sequence is not uniquely defined.\n",
    "\n",
    "For example, [0,2,3,1] is also a valid gray code sequence according to the above definition.\n",
    "\n",
    "For now, the judge is able to judge based on one instance of gray code sequence. Sorry about that."
   ]
  },
  {
   "cell_type": "code",
   "execution_count": null,
   "metadata": {
    "collapsed": true
   },
   "outputs": [],
   "source": [
    "class Solution(object):\n",
    "    def grayCode(self, n):\n",
    "        \"\"\"\n",
    "        :type n: int\n",
    "        :rtype: List[int]\n",
    "        \"\"\"\n",
    "        ans = [0]\n",
    "        add = 1\n",
    "        while n > 0:\n",
    "            for num in ans[::-1]:\n",
    "                ans.append(num+add)\n",
    "            n -= 1\n",
    "            add *= 2\n",
    "        return ans"
   ]
  },
  {
   "cell_type": "markdown",
   "metadata": {},
   "source": [
    "## Partition List"
   ]
  },
  {
   "cell_type": "raw",
   "metadata": {},
   "source": [
    "Given a linked list and a value x, partition it such that all nodes less than x come before nodes greater than or equal to x.\n",
    "\n",
    "You should preserve the original relative order of the nodes in each of the two partitions.\n",
    "\n",
    "For example,\n",
    "Given 1->4->3->2->5->2 and x = 3,\n",
    "return 1->2->2->4->3->5."
   ]
  },
  {
   "cell_type": "code",
   "execution_count": null,
   "metadata": {
    "collapsed": true
   },
   "outputs": [],
   "source": [
    "class Solution(object):\n",
    "    def partition(self, head, x):\n",
    "        \"\"\"\n",
    "        :type head: ListNode\n",
    "        :type x: int\n",
    "        :rtype: ListNode\n",
    "        \"\"\"\n",
    "        if head is None:\n",
    "            return head\n",
    "        ahead, bhead = ListNode(0), ListNode(0)\n",
    "        atail, btail = ahead, bhead\n",
    "        while head:\n",
    "            if head.val < x:\n",
    "                atail.next = head\n",
    "                atail = atail.next\n",
    "            else:\n",
    "                btail.next = head\n",
    "                btail = btail.next\n",
    "            head = head.next\n",
    "        btail.next = None\n",
    "        atail.next = bhead.next\n",
    "        return ahead.next"
   ]
  },
  {
   "cell_type": "markdown",
   "metadata": {},
   "source": [
    "## Search in Rotated Sorted Array II"
   ]
  },
  {
   "cell_type": "raw",
   "metadata": {},
   "source": [
    "Follow up for \"Search in Rotated Sorted Array\":\n",
    "What if duplicates are allowed?\n",
    "\n",
    "Would this affect the run-time complexity? How and why?\n",
    "\n",
    "Write a function to determine if a given target is in the array."
   ]
  },
  {
   "cell_type": "code",
   "execution_count": null,
   "metadata": {
    "collapsed": true
   },
   "outputs": [],
   "source": [
    "class Solution(object):\n",
    "    def search(self, nums, target):\n",
    "        \"\"\"\n",
    "        :type nums: List[int]\n",
    "        :type target: int\n",
    "        :rtype: bool\n",
    "        \"\"\"\n",
    "        L = len(nums)\n",
    "        left, right = 0, L-1\n",
    "        while left <= right:\n",
    "            mid = (left+right)/2\n",
    "            if nums[mid] == target:\n",
    "                return True\n",
    "            elif nums[mid] > nums[left]:\n",
    "                if nums[left] <= target and target < nums[mid]:\n",
    "                    right = mid - 1\n",
    "                else:\n",
    "                    left = mid + 1\n",
    "            elif nums[mid] < nums[left]:\n",
    "                if nums[mid] < target and target <= nums[right]:\n",
    "                    left = mid + 1\n",
    "                else:\n",
    "                    right = mid - 1\n",
    "            else:\n",
    "                left += 1\n",
    "        return False"
   ]
  },
  {
   "cell_type": "markdown",
   "metadata": {},
   "source": [
    "## Search in Rotated Sorted Array"
   ]
  },
  {
   "cell_type": "raw",
   "metadata": {},
   "source": [
    "Suppose a sorted array is rotated at some pivot unknown to you beforehand.\n",
    "\n",
    "(i.e., 0 1 2 4 5 6 7 might become 4 5 6 7 0 1 2).\n",
    "\n",
    "You are given a target value to search. If found in the array return its index, otherwise return -1.\n",
    "\n",
    "You may assume no duplicate exists in the array."
   ]
  },
  {
   "cell_type": "code",
   "execution_count": null,
   "metadata": {
    "collapsed": true
   },
   "outputs": [],
   "source": [
    "class Solution(object):\n",
    "    def search(self, nums, target):\n",
    "        \"\"\"\n",
    "        :type nums: List[int]\n",
    "        :type target: int\n",
    "        :rtype: int\n",
    "        \"\"\"\n",
    "        left, right = 0, len(nums)-1\n",
    "        while left <= right:\n",
    "            mid = (left+right)/2\n",
    "            if nums[mid] == target:\n",
    "                return mid\n",
    "            elif nums[mid] >= nums[left]:\n",
    "                if nums[left] <= target and target < nums[mid]:\n",
    "                    right = mid - 1\n",
    "                else:\n",
    "                    left = mid + 1\n",
    "            else:\n",
    "                if nums[mid] < target and target <= nums[right]:\n",
    "                    left = mid + 1\n",
    "                else:\n",
    "                    right = mid - 1\n",
    "        return -1"
   ]
  },
  {
   "cell_type": "markdown",
   "metadata": {},
   "source": [
    "## Remove Duplicates from Sorted List II"
   ]
  },
  {
   "cell_type": "markdown",
   "metadata": {},
   "source": [
    "Given a sorted linked list, delete all nodes that have duplicate numbers, leaving only distinct numbers from the original list.\n",
    "\n",
    "For example,\n",
    "Given 1->2->3->3->4->4->5, return 1->2->5.\n",
    "Given 1->1->1->2->3, return 2->3."
   ]
  },
  {
   "cell_type": "code",
   "execution_count": null,
   "metadata": {
    "collapsed": true
   },
   "outputs": [],
   "source": [
    "# Definition for singly-linked list.\n",
    "# class ListNode(object):\n",
    "#     def __init__(self, x):\n",
    "#         self.val = x\n",
    "#         self.next = None\n",
    "\n",
    "class Solution(object):\n",
    "    def deleteDuplicates(self, head):\n",
    "        \"\"\"\n",
    "        :type head: ListNode\n",
    "        :rtype: ListNode\n",
    "        \"\"\"\n",
    "        if head == None:\n",
    "            return head\n",
    "        now = ListNode(0)\n",
    "        new = now\n",
    "        pos = head\n",
    "        while pos:\n",
    "            if pos.next and pos.val == pos.next.val:\n",
    "                while pos.next and pos.val == pos.next.val:\n",
    "                    pos = pos.next\n",
    "            else:\n",
    "                print pos.val\n",
    "                now.next = pos\n",
    "                now = now.next\n",
    "            pos = pos.next\n",
    "        now.next = None\n",
    "        return new.next\n",
    "                "
   ]
  },
  {
   "cell_type": "markdown",
   "metadata": {},
   "source": [
    "## Remove Duplicates from Sorted List"
   ]
  },
  {
   "cell_type": "raw",
   "metadata": {},
   "source": [
    "Given a sorted linked list, delete all duplicates such that each element appear only once.\n",
    "\n",
    "For example,\n",
    "Given 1->1->2, return 1->2.\n",
    "Given 1->1->2->3->3, return 1->2->3."
   ]
  },
  {
   "cell_type": "code",
   "execution_count": null,
   "metadata": {
    "collapsed": true
   },
   "outputs": [],
   "source": [
    "# Definition for singly-linked list.\n",
    "# class ListNode(object):\n",
    "#     def __init__(self, x):\n",
    "#         self.val = x\n",
    "#         self.next = None\n",
    "\n",
    "class Solution(object):\n",
    "    def deleteDuplicates(self, head):\n",
    "        \"\"\"\n",
    "        :type head: ListNode\n",
    "        :rtype: ListNode\n",
    "        \"\"\"\n",
    "        if head == None:\n",
    "            return head\n",
    "        last = head.val\n",
    "        prev, pos = head, head.next\n",
    "        while pos:\n",
    "            if pos.val == last:\n",
    "                prev.next = pos.next\n",
    "            else:\n",
    "                last = pos.val\n",
    "                prev = pos\n",
    "            pos = pos.next\n",
    "        return head"
   ]
  },
  {
   "cell_type": "markdown",
   "metadata": {},
   "source": [
    "## Climbing Stairs"
   ]
  },
  {
   "cell_type": "raw",
   "metadata": {},
   "source": [
    "You are climbing a stair case. It takes n steps to reach to the top.\n",
    "\n",
    "Each time you can either climb 1 or 2 steps. In how many distinct ways can you climb to the top?"
   ]
  },
  {
   "cell_type": "code",
   "execution_count": null,
   "metadata": {
    "collapsed": true
   },
   "outputs": [],
   "source": [
    "class Solution(object):\n",
    "    def climbStairs(self, n):\n",
    "        \"\"\"\n",
    "        :type n: int\n",
    "        :rtype: int\n",
    "        \"\"\"\n",
    "        pre = {}\n",
    "        def helper(N):\n",
    "            if N == 0:\n",
    "                return 1\n",
    "            elif N < 0:\n",
    "                return 0\n",
    "            else:\n",
    "                if N not in pre:\n",
    "                    a, b = helper(N-1), helper(N-2)\n",
    "                    pre[N] = a+b\n",
    "                return pre[N]\n",
    "        return helper(n)"
   ]
  },
  {
   "cell_type": "markdown",
   "metadata": {},
   "source": [
    "## Remove Duplicates from Sorted Array II"
   ]
  },
  {
   "cell_type": "raw",
   "metadata": {},
   "source": [
    "Follow up for \"Remove Duplicates\":\n",
    "What if duplicates are allowed at most twice?\n",
    "\n",
    "For example,\n",
    "Given sorted array nums = [1,1,1,2,2,3],\n",
    "\n",
    "Your function should return length = 5, with the first five elements of nums being 1, 1, 2, 2 and 3. It doesn't matter what you leave beyond the new length."
   ]
  },
  {
   "cell_type": "code",
   "execution_count": null,
   "metadata": {
    "collapsed": true
   },
   "outputs": [],
   "source": [
    "class Solution(object):\n",
    "    def removeDuplicates(self, nums):\n",
    "        \"\"\"\n",
    "        :type nums: List[int]\n",
    "        :rtype: int\n",
    "        \"\"\"\n",
    "        counts = {}\n",
    "        for n in nums:\n",
    "            if n in counts:\n",
    "                counts[n] += 1\n",
    "            else:\n",
    "                counts[n] = 1\n",
    "        L = 0\n",
    "        for n in sorted(counts.keys()):\n",
    "            end = L + min(2, counts[n])\n",
    "            while L < end:\n",
    "                nums[L] = n\n",
    "                L += 1\n",
    "        return L"
   ]
  },
  {
   "cell_type": "markdown",
   "metadata": {},
   "source": [
    "## Regular Expression Matching"
   ]
  },
  {
   "cell_type": "raw",
   "metadata": {},
   "source": [
    "Implement regular expression matching with support for '.' and '*'.\n",
    "\n",
    "'.' Matches any single character.\n",
    "'*' Matches zero or more of the preceding element.\n",
    "\n",
    "The matching should cover the entire input string (not partial).\n",
    "\n",
    "The function prototype should be:\n",
    "bool isMatch(const char *s, const char *p)\n",
    "\n",
    "Some examples:\n",
    "isMatch(\"aa\",\"a\") → false\n",
    "isMatch(\"aa\",\"aa\") → true\n",
    "isMatch(\"aaa\",\"aa\") → false\n",
    "isMatch(\"aa\", \"a*\") → true\n",
    "isMatch(\"aa\", \".*\") → true\n",
    "isMatch(\"ab\", \".*\") → true\n",
    "isMatch(\"aab\", \"c*a*b\") → true"
   ]
  },
  {
   "cell_type": "code",
   "execution_count": null,
   "metadata": {
    "collapsed": true
   },
   "outputs": [],
   "source": [
    "class Solution(object):\n",
    "    def isMatch(self, s, p):\n",
    "        \"\"\"\n",
    "        :type s: str\n",
    "        :type p: str\n",
    "        :rtype: bool\n",
    "        \"\"\"\n",
    "        Ls, Lp = len(s), len(p)\n",
    "        dp = [[False for _ in xrange(Lp+1)] for _ in xrange(Ls+1)]\n",
    "        dp[0][0] = True\n",
    "        for i in xrange(1, Lp+1):\n",
    "            if p[i-1] == '*':\n",
    "                dp[0][i] = dp[0][i-2]\n",
    "        for j in xrange(1, Ls+1):\n",
    "            for i in xrange(1, Lp+1):\n",
    "                if p[i-1] == '*':\n",
    "                    dp[j][i] = dp[j][i-2]\n",
    "                    if not dp[j][i] and (p[i-2] == '.' or s[j-1] == p[i-2]):\n",
    "                        dp[j][i] = dp[j-1][i]\n",
    "                elif p[i-1] == '.' or s[j-1] == p[i-1]:\n",
    "                    dp[j][i] = dp[j-1][i-1]\n",
    "        return dp[-1][-1]"
   ]
  },
  {
   "cell_type": "markdown",
   "metadata": {},
   "source": [
    "## Word Search"
   ]
  },
  {
   "cell_type": "raw",
   "metadata": {},
   "source": [
    "Given a 2D board and a word, find if the word exists in the grid.\n",
    "\n",
    "The word can be constructed from letters of sequentially adjacent cell, where \"adjacent\" cells are those horizontally or vertically neighboring. The same letter cell may not be used more than once.\n",
    "\n",
    "For example,\n",
    "Given board =\n",
    "\n",
    "[\n",
    "  ['A','B','C','E'],\n",
    "  ['S','F','C','S'],\n",
    "  ['A','D','E','E']\n",
    "]\n",
    "word = \"ABCCED\", -> returns true,\n",
    "word = \"SEE\", -> returns true,\n",
    "word = \"ABCB\", -> returns false."
   ]
  },
  {
   "cell_type": "code",
   "execution_count": null,
   "metadata": {
    "collapsed": true
   },
   "outputs": [],
   "source": [
    "class Solution(object):\n",
    "    def exist(self, board, word):\n",
    "        \"\"\"\n",
    "        :type board: List[List[str]]\n",
    "        :type word: str\n",
    "        :rtype: bool\n",
    "        \"\"\"\n",
    "        if word == '':\n",
    "            return True\n",
    "        m, n = len(board), len(board[0])\n",
    "        if m == 0 or n == 0:\n",
    "            return False\n",
    "        visited = [[False for _ in xrange(n)] for _ in xrange(m)]\n",
    "        \n",
    "        def search(i, j, w):\n",
    "            if w == '':\n",
    "                return True\n",
    "            if i < 0 or i >= n or j < 0 or j >= m:\n",
    "                return False\n",
    "            elif w[0] != board[j][i] or visited[j][i]:\n",
    "                return False\n",
    "            else:\n",
    "                visited[j][i] = True\n",
    "                if search(i+1, j, w[1:]) or search(i-1, j, w[1:]) or search(i, j+1, w[1:]) or search(i, j-1, w[1:]):\n",
    "                    return True\n",
    "                else:\n",
    "                    visited[j][i] = False\n",
    "                    return False\n",
    "                \n",
    "        for j in xrange(m):\n",
    "            for i in xrange(n):\n",
    "                if search(i, j, word):\n",
    "                    return True\n",
    "        return False\n",
    "            "
   ]
  },
  {
   "cell_type": "markdown",
   "metadata": {},
   "source": [
    "## Subsets"
   ]
  },
  {
   "cell_type": "raw",
   "metadata": {},
   "source": [
    "Given a set of distinct integers, nums, return all possible subsets.\n",
    "\n",
    "Note: The solution set must not contain duplicate subsets.\n",
    "\n",
    "For example,\n",
    "If nums = [1,2,3], a solution is:\n",
    "\n",
    "[\n",
    "  [3],\n",
    "  [1],\n",
    "  [2],\n",
    "  [1,2,3],\n",
    "  [1,3],\n",
    "  [2,3],\n",
    "  [1,2],\n",
    "  []\n",
    "]"
   ]
  },
  {
   "cell_type": "code",
   "execution_count": null,
   "metadata": {
    "collapsed": true
   },
   "outputs": [],
   "source": [
    "class Solution(object):\n",
    "    def subsets(self, nums):\n",
    "        \"\"\"\n",
    "        :type nums: List[int]\n",
    "        :rtype: List[List[int]]\n",
    "        \"\"\"\n",
    "        ans = []\n",
    "        def helper(rest, parents):\n",
    "            if rest == []:\n",
    "                ans.append(parents)\n",
    "            else:\n",
    "                helper(rest[1:], parents)\n",
    "                helper(rest[1:], parents+rest[:1])\n",
    "        helper(nums, [])\n",
    "        return ans"
   ]
  },
  {
   "cell_type": "markdown",
   "metadata": {},
   "source": [
    "## Sort Colors"
   ]
  },
  {
   "cell_type": "raw",
   "metadata": {},
   "source": [
    "Given an array with n objects colored red, white or blue, sort them so that objects of the same color are adjacent, with the colors in the order red, white and blue.\n",
    "\n",
    "Here, we will use the integers 0, 1, and 2 to represent the color red, white, and blue respectively.\n",
    "\n",
    "A rather straight forward solution is a two-pass algorithm using counting sort.\n",
    "First, iterate the array counting number of 0's, 1's, and 2's, then overwrite array with total number of 0's, then 1's and followed by 2's.\n",
    "\n",
    "Could you come up with an one-pass algorithm using only constant space?"
   ]
  },
  {
   "cell_type": "code",
   "execution_count": null,
   "metadata": {
    "collapsed": true
   },
   "outputs": [],
   "source": [
    "class Solution(object):\n",
    "    def sortColors(self, nums):\n",
    "        \"\"\"\n",
    "        :type nums: List[int]\n",
    "        :rtype: void Do not return anything, modify nums in-place instead.\n",
    "        \"\"\"\n",
    "        colors = {0: 0, 1: 0, 2: 0}\n",
    "        for n in nums:\n",
    "            colors[n] += 1\n",
    "        i = 0\n",
    "        for c in xrange(3):\n",
    "            for _ in xrange(colors[c]):\n",
    "                nums[i] = c\n",
    "                i += 1"
   ]
  },
  {
   "cell_type": "markdown",
   "metadata": {},
   "source": [
    "## Search a 2D Matrix"
   ]
  },
  {
   "cell_type": "raw",
   "metadata": {},
   "source": [
    "Write an efficient algorithm that searches for a value in an m x n matrix. This matrix has the following properties:\n",
    "\n",
    "Integers in each row are sorted from left to right.\n",
    "The first integer of each row is greater than the last integer of the previous row.\n",
    "For example,\n",
    "\n",
    "Consider the following matrix:\n",
    "\n",
    "[\n",
    "  [1,   3,  5,  7],\n",
    "  [10, 11, 16, 20],\n",
    "  [23, 30, 34, 50]\n",
    "]\n",
    "Given target = 3, return true."
   ]
  },
  {
   "cell_type": "code",
   "execution_count": null,
   "metadata": {
    "collapsed": true
   },
   "outputs": [],
   "source": [
    "class Solution(object):\n",
    "    def searchMatrix(self, matrix, target):\n",
    "        \"\"\"\n",
    "        :type matrix: List[List[int]]\n",
    "        :type target: int\n",
    "        :rtype: bool\n",
    "        \"\"\"\n",
    "        m, n = len(matrix), len(matrix[0])\n",
    "        if m == 0 or n == 0:\n",
    "            return False\n",
    "\n",
    "        def helper(nums, L):\n",
    "            left, right = 0, L-1\n",
    "            while right-left > 1 and nums[left] <= target and target <= nums[right]:\n",
    "                mid = (left+right)/2\n",
    "                if nums[mid] == target:\n",
    "                    return mid\n",
    "                elif nums[mid] > target:\n",
    "                    right = mid\n",
    "                else:\n",
    "                    left = mid\n",
    "            if nums[left] <= target and target < nums[right]:\n",
    "                return left\n",
    "            else:\n",
    "                return right\n",
    "        rows = [r[0] for r in matrix]\n",
    "        row = helper(rows, m)\n",
    "        col = helper(matrix[row], n)\n",
    "        return matrix[row][col] == target"
   ]
  },
  {
   "cell_type": "markdown",
   "metadata": {},
   "source": [
    "## Set Matrix Zeroes"
   ]
  },
  {
   "cell_type": "raw",
   "metadata": {},
   "source": [
    "Given a m x n matrix, if an element is 0, set its entire row and column to 0. Do it in place.\n",
    "\n",
    "Follow up:\n",
    "Did you use extra space?\n",
    "A straight forward solution using O(mn) space is probably a bad idea.\n",
    "A simple improvement uses O(m + n) space, but still not the best solution.\n",
    "Could you devise a constant space solution?"
   ]
  },
  {
   "cell_type": "code",
   "execution_count": null,
   "metadata": {
    "collapsed": true
   },
   "outputs": [],
   "source": [
    "class Solution(object):\n",
    "    def setZeroes(self, matrix):\n",
    "        \"\"\"\n",
    "        :type matrix: List[List[int]]\n",
    "        :rtype: void Do not return anything, modify matrix in-place instead.\n",
    "        \"\"\"\n",
    "        firstRow, firstCol = False, False\n",
    "        m, n = len(matrix), len(matrix[0])\n",
    "        for i in xrange(n):\n",
    "            if matrix[0][i] == 0:\n",
    "                firstRow = True\n",
    "                break\n",
    "        for j in xrange(m):\n",
    "            if matrix[j][0] == 0:\n",
    "                firstCol = True\n",
    "                break\n",
    "        for j in xrange(1, m):\n",
    "            for i in xrange(1, n):\n",
    "                if matrix[j][i] == 0:\n",
    "                    matrix[j][0], matrix[0][i] = 0, 0\n",
    "        \n",
    "        for i in xrange(1, n):\n",
    "            if matrix[0][i] == 0:\n",
    "                for j in xrange(1, m):\n",
    "                    matrix[j][i] = 0\n",
    "        for j in xrange(1, m):\n",
    "            if matrix[j][0] == 0:\n",
    "                for i in xrange(1, n):\n",
    "                    matrix[j][i] = 0\n",
    "        if firstRow:\n",
    "            for i in xrange(n):\n",
    "                matrix[0][i] = 0\n",
    "        if firstCol:\n",
    "            for j in xrange(m):\n",
    "                matrix[j][0] = 0"
   ]
  },
  {
   "cell_type": "markdown",
   "metadata": {},
   "source": [
    "## Simplify Path"
   ]
  },
  {
   "cell_type": "raw",
   "metadata": {},
   "source": [
    "Given an absolute path for a file (Unix-style), simplify it.\n",
    "\n",
    "For example,\n",
    "path = \"/home/\", => \"/home\"\n",
    "path = \"/a/./b/../../c/\", => \"/c\"\n",
    "\n",
    "Corner Cases:\n",
    "Did you consider the case where path = \"/../\"?\n",
    "In this case, you should return \"/\".\n",
    "Another corner case is the path might contain multiple slashes '/' together, such as \"/home//foo/\".\n",
    "In this case, you should ignore redundant slashes and return \"/home/foo\"."
   ]
  },
  {
   "cell_type": "code",
   "execution_count": null,
   "metadata": {
    "collapsed": true
   },
   "outputs": [],
   "source": [
    "class Solution(object):\n",
    "    def simplifyPath(self, path):\n",
    "        \"\"\"\n",
    "        :type path: str\n",
    "        :rtype: str\n",
    "        \"\"\"\n",
    "        P = ['/']\n",
    "        for f in path.split('/'):\n",
    "            if f == '' or f == '.':\n",
    "                continue\n",
    "            elif f == '..':\n",
    "                if P [-1] != '/':\n",
    "                    P.pop()\n",
    "            else:\n",
    "                P.append('/'+f)\n",
    "        if len(P) == 1:\n",
    "            return '/'\n",
    "        else:\n",
    "            return ''.join(P[1:])"
   ]
  },
  {
   "cell_type": "markdown",
   "metadata": {},
   "source": [
    "## Sqrt(x)"
   ]
  },
  {
   "cell_type": "raw",
   "metadata": {},
   "source": [
    "Implement int sqrt(int x).\n",
    "\n",
    "Compute and return the square root of x."
   ]
  },
  {
   "cell_type": "code",
   "execution_count": null,
   "metadata": {
    "collapsed": true
   },
   "outputs": [],
   "source": [
    "class Solution(object):\n",
    "    def mySqrt(self, x):\n",
    "        \"\"\"\n",
    "        :type x: int\n",
    "        :rtype: int\n",
    "        \"\"\"\n",
    "        if x <= 1:\n",
    "            return x\n",
    "        left = 1\n",
    "        right = x\n",
    "        mid = (left + right) / 2\n",
    "        while mid > left:\n",
    "            temp = mid * mid\n",
    "            if temp == x:\n",
    "                return mid\n",
    "            elif temp > x:\n",
    "                right = mid\n",
    "            else:\n",
    "                left = mid\n",
    "            mid = (left + right) / 2\n",
    "        return left"
   ]
  },
  {
   "cell_type": "markdown",
   "metadata": {},
   "source": [
    "## Merge K Sorted Lists"
   ]
  },
  {
   "cell_type": "raw",
   "metadata": {},
   "source": [
    "Merge k sorted linked lists and return it as one sorted list. Analyze and describe its complexity."
   ]
  },
  {
   "cell_type": "code",
   "execution_count": null,
   "metadata": {
    "collapsed": true
   },
   "outputs": [],
   "source": [
    "# Definition for singly-linked list.\n",
    "# class ListNode(object):\n",
    "#     def __init__(self, x):\n",
    "#         self.val = x\n",
    "#         self.next = None\n",
    "\n",
    "class Solution(object):\n",
    "    def mergeKLists(self, lists):\n",
    "        \"\"\"\n",
    "        :type lists: List[ListNode]\n",
    "        :rtype: ListNode\n",
    "        \"\"\"\n",
    "        def merge2Lists(L1, L2):\n",
    "            ans = ListNode(0)\n",
    "            pos = ans\n",
    "            while L1 and L2:\n",
    "                if L1.val > L2.val:\n",
    "                    pos.next = L2\n",
    "                    L2 = L2.next\n",
    "                    pos = pos.next\n",
    "                else:\n",
    "                    pos.next = L1\n",
    "                    L1 = L1.next\n",
    "                    pos = pos.next\n",
    "            if L1:\n",
    "                pos.next = L1\n",
    "            elif L2:\n",
    "                pos.next = L2\n",
    "            return ans.next\n",
    "        if lists == []:\n",
    "            return []\n",
    "        while len(lists) > 1:\n",
    "            L1, L2 = lists[:2]\n",
    "            lists = lists[2:]\n",
    "            lists.append(merge2Lists(L1,L2))\n",
    "        return lists[0]"
   ]
  },
  {
   "cell_type": "markdown",
   "metadata": {},
   "source": [
    "## Minimum Path Sum"
   ]
  },
  {
   "cell_type": "raw",
   "metadata": {},
   "source": [
    "Given a m x n grid filled with non-negative numbers, find a path from top left to bottom right which minimizes the sum of all numbers along its path.\n",
    "\n",
    "Note: You can only move either down or right at any point in time."
   ]
  },
  {
   "cell_type": "code",
   "execution_count": null,
   "metadata": {
    "collapsed": true
   },
   "outputs": [],
   "source": [
    "class Solution(object):\n",
    "    def minPathSum(self, grid):\n",
    "        \"\"\"\n",
    "        :type grid: List[List[int]]\n",
    "        :rtype: int\n",
    "        \"\"\"\n",
    "        costs = grid\n",
    "        for i in xrange(len(grid)):\n",
    "            for j in xrange(len(grid[i])):\n",
    "                if i == 0 and j == 0:\n",
    "                    continue\n",
    "                elif i == 0:\n",
    "                    grid[i][j] += grid[i][j-1]\n",
    "                elif j == 0:\n",
    "                    grid[i][j] += grid[i-1][j]\n",
    "                else:\n",
    "                    grid[i][j] += min(grid[i][j-1], grid[i-1][j])\n",
    "        return grid[-1][-1]"
   ]
  },
  {
   "cell_type": "markdown",
   "metadata": {},
   "source": [
    "## Unique Paths II"
   ]
  },
  {
   "cell_type": "raw",
   "metadata": {},
   "source": [
    "Follow up for \"Unique Paths\":\n",
    "\n",
    "Now consider if some obstacles are added to the grids. How many unique paths would there be?\n",
    "\n",
    "An obstacle and empty space is marked as 1 and 0 respectively in the grid.\n",
    "\n",
    "For example,\n",
    "There is one obstacle in the middle of a 3x3 grid as illustrated below.\n",
    "\n",
    "[\n",
    "  [0,0,0],\n",
    "  [0,1,0],\n",
    "  [0,0,0]\n",
    "]\n",
    "The total number of unique paths is 2.\n",
    "\n",
    "Note: m and n will be at most 100."
   ]
  },
  {
   "cell_type": "code",
   "execution_count": null,
   "metadata": {
    "collapsed": true
   },
   "outputs": [],
   "source": [
    "class Solution(object):\n",
    "    def uniquePathsWithObstacles(self, obstacleGrid):\n",
    "        \"\"\"\n",
    "        :type obstacleGrid: List[List[int]]\n",
    "        :rtype: int\n",
    "        \"\"\"\n",
    "        counts = obstacleGrid\n",
    "        for i in xrange(len(obstacleGrid)):\n",
    "            for j in xrange(len(obstacleGrid[i])):\n",
    "                if obstacleGrid[i][j] == 1:\n",
    "                    obstacleGrid[i][j] = 0\n",
    "                elif i == 0 and j == 0:\n",
    "                    obstacleGrid[i][j] = 1\n",
    "                elif i == 0:\n",
    "                    obstacleGrid[i][j] = obstacleGrid[i][j-1]\n",
    "                elif j == 0:\n",
    "                    obstacleGrid[i][j] = obstacleGrid[i-1][j]\n",
    "                else:\n",
    "                    obstacleGrid[i][j] = obstacleGrid[i][j-1] + obstacleGrid[i-1][j]\n",
    "        return obstacleGrid[-1][-1]"
   ]
  },
  {
   "cell_type": "markdown",
   "metadata": {},
   "source": [
    "## Plus One"
   ]
  },
  {
   "cell_type": "raw",
   "metadata": {},
   "source": [
    "Given a non-negative number represented as an array of digits, plus one to the number.\n",
    "\n",
    "The digits are stored such that the most significant digit is at the head of the list."
   ]
  },
  {
   "cell_type": "code",
   "execution_count": null,
   "metadata": {
    "collapsed": true
   },
   "outputs": [],
   "source": [
    "class Solution(object):\n",
    "    def plusOne(self, digits):\n",
    "        \"\"\"\n",
    "        :type digits: List[int]\n",
    "        :rtype: List[int]\n",
    "        \"\"\"\n",
    "        carry = 1\n",
    "        i = len(digits) - 1\n",
    "        while i >= 0 and carry > 0:\n",
    "            carry += digits[i]\n",
    "            digits[i] = carry % 10\n",
    "            carry = carry / 10\n",
    "            i -= 1\n",
    "        if carry > 0:\n",
    "            return [carry] + digits\n",
    "        return digits"
   ]
  },
  {
   "cell_type": "markdown",
   "metadata": {},
   "source": [
    "## Median of Two Sorted Arrays"
   ]
  },
  {
   "cell_type": "raw",
   "metadata": {},
   "source": [
    "There are two sorted arrays nums1 and nums2 of size m and n respectively.\n",
    "\n",
    "Find the median of the two sorted arrays. The overall run time complexity should be O(log (m+n)).\n",
    "\n",
    "Example 1:\n",
    "nums1 = [1, 3]\n",
    "nums2 = [2]\n",
    "\n",
    "The median is 2.0\n",
    "Example 2:\n",
    "nums1 = [1, 2]\n",
    "nums2 = [3, 4]\n",
    "\n",
    "The median is (2 + 3)/2 = 2.5"
   ]
  },
  {
   "cell_type": "code",
   "execution_count": null,
   "metadata": {
    "collapsed": true
   },
   "outputs": [],
   "source": [
    "class Solution(object):\n",
    "    def findMedianSortedArrays(self, nums1, nums2):\n",
    "        \"\"\"\n",
    "        :type nums1: List[int]\n",
    "        :type nums2: List[int]\n",
    "        :rtype: float\n",
    "        \"\"\"\n",
    "        \n",
    "        def findKth(k, A, m, B, n):\n",
    "            if m <= 0:\n",
    "                return B[k-1]\n",
    "            if n == 0:\n",
    "                return A[k-1]\n",
    "            if k == 1:\n",
    "                return min(A[0], B[0])\n",
    "            a, b = m/2, n/2\n",
    "            pivot = a + b + 1\n",
    "            if A[a] >= B[b]:\n",
    "                if pivot >= k:\n",
    "                    return findKth(k, A[:a], a, B, n)\n",
    "                else:\n",
    "                    return findKth(k-b-1, A, m, B[b+1:], n-b-1)\n",
    "            else:\n",
    "                if pivot >= k:\n",
    "                    return findKth(k, A, m, B[:b], b)\n",
    "                else:\n",
    "                    return findKth(k-a-1, A[a+1:], m-a-1, B, n)\n",
    "        m, n = len(nums1), len(nums2)\n",
    "        S = m+n\n",
    "        if S % 2 == 0:\n",
    "            return 0.5 * (findKth(S/2, nums1, m, nums2, n) + findKth(S/2+1, nums1, m, nums2, n))\n",
    "        else:\n",
    "            \n",
    "            return findKth(S/2+1, nums1, m, nums2, n)"
   ]
  },
  {
   "cell_type": "markdown",
   "metadata": {},
   "source": [
    "## Unique Paths"
   ]
  },
  {
   "cell_type": "raw",
   "metadata": {},
   "source": [
    "A robot is located at the top-left corner of a m x n grid (marked 'Start' in the diagram below).\n",
    "\n",
    "The robot can only move either down or right at any point in time. The robot is trying to reach the bottom-right corner of the grid (marked 'Finish' in the diagram below).\n",
    "\n",
    "How many possible unique paths are there?"
   ]
  },
  {
   "cell_type": "code",
   "execution_count": null,
   "metadata": {
    "collapsed": true
   },
   "outputs": [],
   "source": [
    "class Solution(object):\n",
    "    def uniquePaths(self, M, N):\n",
    "        \"\"\"\n",
    "        :type m: int\n",
    "        :type n: int\n",
    "        :rtype: int\n",
    "        \"\"\"\n",
    "        pre = {}\n",
    "        def helper(m, n):\n",
    "            if m == 1 or n == 1:\n",
    "                return 1\n",
    "            a, b = (m, n) if m > n else (n, m)\n",
    "            if (a, b) in pre:\n",
    "                return pre[(a,b)]\n",
    "            else:\n",
    "                ans = helper(m-1, n) + helper(m, n-1)\n",
    "                pre[(a,b)] = ans\n",
    "                return ans\n",
    "        return helper(M, N)"
   ]
  },
  {
   "cell_type": "markdown",
   "metadata": {},
   "source": [
    "## Rotate List"
   ]
  },
  {
   "cell_type": "raw",
   "metadata": {},
   "source": [
    "Given a list, rotate the list to the right by k places, where k is non-negative.\n",
    "\n",
    "For example:\n",
    "Given 1->2->3->4->5->NULL and k = 2,\n",
    "return 4->5->1->2->3->NULL."
   ]
  },
  {
   "cell_type": "code",
   "execution_count": null,
   "metadata": {
    "collapsed": true
   },
   "outputs": [],
   "source": [
    "class Solution(object):\n",
    "    def rotateRight(self, head, k):\n",
    "        \"\"\"\n",
    "        :type head: ListNode\n",
    "        :type k: int\n",
    "        :rtype: ListNode\n",
    "        \"\"\"\n",
    "        if head == None:\n",
    "            return head\n",
    "        path = {}\n",
    "        L = 0\n",
    "        while head:\n",
    "            path[L] = head\n",
    "            L += 1\n",
    "            head = head.next\n",
    "        k = k % L\n",
    "        if k == 0:\n",
    "            return path[0]\n",
    "        ans = path[L-k]\n",
    "        path[L-k-1].next = None\n",
    "        if k == 1:\n",
    "            ans.next = path[0]\n",
    "        else:\n",
    "            path[L-1].next = path[0]\n",
    "        return ans"
   ]
  },
  {
   "cell_type": "markdown",
   "metadata": {},
   "source": [
    "## Permutation Sequence"
   ]
  },
  {
   "cell_type": "raw",
   "metadata": {},
   "source": [
    "The set [1,2,3,…,n] contains a total of n! unique permutations.\n",
    "\n",
    "By listing and labeling all of the permutations in order,\n",
    "We get the following sequence (ie, for n = 3):\n",
    "\n",
    "\"123\"\n",
    "\"132\"\n",
    "\"213\"\n",
    "\"231\"\n",
    "\"312\"\n",
    "\"321\"\n",
    "Given n and k, return the kth permutation sequence.\n",
    "\n",
    "Note: Given n will be between 1 and 9 inclusive."
   ]
  },
  {
   "cell_type": "code",
   "execution_count": null,
   "metadata": {
    "collapsed": true
   },
   "outputs": [],
   "source": [
    "class Solution(object):\n",
    "    def getPermutation(self, n, k):\n",
    "        \"\"\"\n",
    "        :type n: int\n",
    "        :type k: int\n",
    "        :rtype: str\n",
    "        \"\"\"\n",
    "        nums = range(1,n+1)\n",
    "        fac = [1]\n",
    "        for i in xrange(2, n):\n",
    "            fac.append(fac[-1]*i)\n",
    "        ans = []\n",
    "        for p in fac[::-1]:\n",
    "            remainder = k % p\n",
    "            carry = k / p\n",
    "            if remainder == 0:\n",
    "                carry -= 1\n",
    "            ans.append(nums[carry])\n",
    "            nums.remove(nums[carry])\n",
    "            k = remainder\n",
    "        ans += nums\n",
    "        return ''.join(map(str, ans))"
   ]
  },
  {
   "cell_type": "markdown",
   "metadata": {},
   "source": [
    "## Spiral Matrix II"
   ]
  },
  {
   "cell_type": "raw",
   "metadata": {},
   "source": [
    "Given an integer n, generate a square matrix filled with elements from 1 to n2 in spiral order.\n",
    "\n",
    "For example,\n",
    "Given n = 3,\n",
    "\n",
    "You should return the following matrix:\n",
    "[\n",
    " [ 1, 2, 3 ],\n",
    " [ 8, 9, 4 ],\n",
    " [ 7, 6, 5 ]\n",
    "]"
   ]
  },
  {
   "cell_type": "code",
   "execution_count": null,
   "metadata": {
    "collapsed": true
   },
   "outputs": [],
   "source": [
    "class Solution(object):\n",
    "    def generateMatrix(self, n):\n",
    "        \"\"\"\n",
    "        :type n: int\n",
    "        :rtype: List[List[int]]\n",
    "        \"\"\"\n",
    "        matrix = []\n",
    "        if n == 0:\n",
    "            return matrix\n",
    "        for _ in xrange(n):\n",
    "            matrix.append([0]*n)\n",
    "        left = 0\n",
    "        right = n-1\n",
    "        top = 0\n",
    "        bottom = n-1\n",
    "        pos = 1\n",
    "        while left < right and top < bottom:\n",
    "            for i in xrange(right-left+1):\n",
    "                matrix[top][left+i] = pos\n",
    "                pos += 1\n",
    "            top += 1\n",
    "            for j in xrange(bottom-top+1):\n",
    "                matrix[top+j][right] = pos\n",
    "                pos += 1\n",
    "            right -= 1\n",
    "            for i in xrange(right-left+1):\n",
    "                matrix[bottom][right-i] = pos\n",
    "                pos += 1\n",
    "            bottom -= 1\n",
    "            for j in xrange(bottom-top+1):\n",
    "                matrix[bottom-j][left] = pos\n",
    "                pos += 1\n",
    "            left += 1\n",
    "        if left == right and top == bottom:\n",
    "            matrix[top][left] = pos\n",
    "        return matrix"
   ]
  },
  {
   "cell_type": "markdown",
   "metadata": {},
   "source": [
    "## Jump Game"
   ]
  },
  {
   "cell_type": "raw",
   "metadata": {},
   "source": [
    "Given an array of non-negative integers, you are initially positioned at the first index of the array.\n",
    "\n",
    "Each element in the array represents your maximum jump length at that position.\n",
    "\n",
    "Determine if you are able to reach the last index.\n",
    "\n",
    "For example:\n",
    "A = [2,3,1,1,4], return true.\n",
    "\n",
    "A = [3,2,1,0,4], return false."
   ]
  },
  {
   "cell_type": "code",
   "execution_count": null,
   "metadata": {
    "collapsed": true
   },
   "outputs": [],
   "source": [
    "class Solution(object):\n",
    "    def canJump(self, nums):\n",
    "        \"\"\"\n",
    "        :type nums: List[int]\n",
    "        :rtype: bool\n",
    "        \"\"\"\n",
    "        pos = 0\n",
    "        ans = 0\n",
    "        for jump in nums[:-1]:\n",
    "            ans = max(ans, pos+jump)\n",
    "            if (ans <= pos):\n",
    "                return False\n",
    "            pos += 1\n",
    "        return True"
   ]
  },
  {
   "cell_type": "markdown",
   "metadata": {},
   "source": [
    "## Spiral Matrix"
   ]
  },
  {
   "cell_type": "raw",
   "metadata": {},
   "source": [
    "Given a matrix of m x n elements (m rows, n columns), return all elements of the matrix in spiral order.\n",
    "\n",
    "For example,\n",
    "Given the following matrix:\n",
    "\n",
    "[\n",
    " [ 1, 2, 3 ],\n",
    " [ 4, 5, 6 ],\n",
    " [ 7, 8, 9 ]\n",
    "]\n",
    "You should return [1,2,3,6,9,8,7,4,5]."
   ]
  },
  {
   "cell_type": "code",
   "execution_count": null,
   "metadata": {
    "collapsed": true
   },
   "outputs": [],
   "source": [
    "class Solution(object):\n",
    "    def spiralOrder(self, matrix):\n",
    "        \"\"\"\n",
    "        :type matrix: List[List[int]]\n",
    "        :rtype: List[int]\n",
    "        \"\"\"\n",
    "        m = len(matrix)\n",
    "        if m == 0:\n",
    "            return matrix\n",
    "        n = len(matrix[0])\n",
    "        left = 0\n",
    "        right = n-1\n",
    "        top = 0\n",
    "        bottom = m-1\n",
    "        ans = []\n",
    "        while left < right and top < bottom:\n",
    "            for i in xrange(left, right+1):\n",
    "                ans.append(matrix[top][i])\n",
    "            top += 1\n",
    "            for j in xrange(top, bottom+1):\n",
    "                ans.append(matrix[j][right])\n",
    "            right -= 1\n",
    "            for i in xrange(right, left-1, -1):\n",
    "                ans.append(matrix[bottom][i])\n",
    "            bottom -= 1\n",
    "            for j in xrange(bottom, top-1, -1):\n",
    "                ans.append(matrix[j][left])\n",
    "            left += 1\n",
    "        if left <= right and top == bottom:\n",
    "            ans += matrix[top][left:right+1]\n",
    "        if top < bottom and left == right:\n",
    "            for j in xrange(top, bottom+1):\n",
    "                ans.append(matrix[j][right])\n",
    "        return ans"
   ]
  },
  {
   "cell_type": "markdown",
   "metadata": {},
   "source": [
    "## Maximum Subarray"
   ]
  },
  {
   "cell_type": "raw",
   "metadata": {},
   "source": [
    "Find the contiguous subarray within an array (containing at least one number) which has the largest sum.\n",
    "\n",
    "For example, given the array [-2,1,-3,4,-1,2,1,-5,4],\n",
    "the contiguous subarray [4,-1,2,1] has the largest sum = 6."
   ]
  },
  {
   "cell_type": "code",
   "execution_count": null,
   "metadata": {
    "collapsed": true
   },
   "outputs": [],
   "source": [
    "class Solution(object):\n",
    "    def maxSubArray(self, nums):\n",
    "        \"\"\"\n",
    "        :type nums: List[int]\n",
    "        :rtype: int\n",
    "        \"\"\"\n",
    "        L = len(nums)\n",
    "        if L == 0:\n",
    "            return None\n",
    "        ans = nums[0]\n",
    "        S = 0\n",
    "        for i in xrange(L):\n",
    "            S += nums[i]\n",
    "            if S > ans:\n",
    "                ans = S\n",
    "            if S < 0:\n",
    "                S = 0\n",
    "        return ans"
   ]
  },
  {
   "cell_type": "markdown",
   "metadata": {},
   "source": [
    "## Pow(x, n)"
   ]
  },
  {
   "cell_type": "raw",
   "metadata": {},
   "source": [
    "Implement pow(x, n)."
   ]
  },
  {
   "cell_type": "code",
   "execution_count": null,
   "metadata": {
    "collapsed": true
   },
   "outputs": [],
   "source": [
    "class Solution(object):\n",
    "    def myPow(self, x, n):\n",
    "        \"\"\"\n",
    "        :type x: float\n",
    "        :type n: int\n",
    "        :rtype: float\n",
    "        \"\"\"\n",
    "        if n == 0:\n",
    "            return 1.0\n",
    "        elif n == 1:\n",
    "            return x\n",
    "        if n < 0:\n",
    "            x = 1.0 / x\n",
    "            n = -n\n",
    "        if n % 2 == 1:\n",
    "            return x * self.myPow(x, n-1)\n",
    "        else:\n",
    "            return self.myPow(x*x, n/2)"
   ]
  },
  {
   "cell_type": "markdown",
   "metadata": {},
   "source": [
    "## Group Anagrams"
   ]
  },
  {
   "cell_type": "raw",
   "metadata": {},
   "source": [
    "Given an array of strings, group anagrams together.\n",
    "\n",
    "For example, given: [\"eat\", \"tea\", \"tan\", \"ate\", \"nat\", \"bat\"], \n",
    "Return:\n",
    "\n",
    "[\n",
    "  [\"ate\", \"eat\",\"tea\"],\n",
    "  [\"nat\",\"tan\"],\n",
    "  [\"bat\"]\n",
    "]\n",
    "Note: All inputs will be in lower-case."
   ]
  },
  {
   "cell_type": "code",
   "execution_count": null,
   "metadata": {
    "collapsed": true
   },
   "outputs": [],
   "source": [
    "class Solution(object):\n",
    "    def groupAnagrams(self, strs):\n",
    "        \"\"\"\n",
    "        :type strs: List[str]\n",
    "        :rtype: List[List[str]]\n",
    "        \"\"\"\n",
    "        pre = {}\n",
    "        for word in strs:\n",
    "            W = ''.join(sorted(word))\n",
    "            if W in pre:\n",
    "                pre[W].append(word)\n",
    "            else:\n",
    "                pre[W] = [word]\n",
    "        return pre.values()"
   ]
  },
  {
   "cell_type": "markdown",
   "metadata": {},
   "source": [
    "## Rotate Image"
   ]
  },
  {
   "cell_type": "raw",
   "metadata": {},
   "source": [
    "You are given an n x n 2D matrix representing an image.\n",
    "\n",
    "Rotate the image by 90 degrees (clockwise).\n",
    "\n",
    "Follow up:\n",
    "Could you do this in-place?"
   ]
  },
  {
   "cell_type": "code",
   "execution_count": null,
   "metadata": {
    "collapsed": true
   },
   "outputs": [],
   "source": [
    "class Solution(object):\n",
    "    def rotate(self, matrix):\n",
    "        \"\"\"\n",
    "        :type matrix: List[List[int]]\n",
    "        :rtype: void Do not return anything, modify matrix in-place instead.\n",
    "        \"\"\"\n",
    "        n = len(matrix)\n",
    "        left = 0\n",
    "        right = n-1\n",
    "        top = 0\n",
    "        bottom = n-1\n",
    "\n",
    "        while left < right and top < bottom:\n",
    "            temp1 = matrix[top][left:right+1]\n",
    "            temp2 = temp1[:]\n",
    "            L = right-left+1\n",
    "            for j in xrange(L):\n",
    "                temp1[j] = matrix[top+j][right]\n",
    "                matrix[top+j][right] = temp2[j]\n",
    "            temp2 = temp1[:]\n",
    "            for i in xrange(1,L):\n",
    "                temp1[i] = matrix[bottom][right-i]\n",
    "                matrix[bottom][right-i] = temp2[i]\n",
    "            temp2 = temp1[:]\n",
    "            for j in xrange(1,L):\n",
    "                temp1[j] = matrix[bottom-j][left]\n",
    "                matrix[bottom-j][left] = temp2[j]\n",
    "            temp2 = temp1[:]\n",
    "            for i in xrange(1,L-1):\n",
    "                temp1[i] = matrix[top][left+i]\n",
    "                matrix[top][left+i] = temp2[i]\n",
    "            left += 1\n",
    "            right -= 1\n",
    "            top += 1\n",
    "            bottom -= 1"
   ]
  },
  {
   "cell_type": "markdown",
   "metadata": {},
   "source": [
    "## Permutations II"
   ]
  },
  {
   "cell_type": "raw",
   "metadata": {},
   "source": [
    "Given a collection of numbers that might contain duplicates, return all possible unique permutations.\n",
    "\n",
    "For example,\n",
    "[1,1,2] have the following unique permutations:\n",
    "[\n",
    "  [1,1,2],\n",
    "  [1,2,1],\n",
    "  [2,1,1]\n",
    "]"
   ]
  },
  {
   "cell_type": "code",
   "execution_count": null,
   "metadata": {
    "collapsed": true
   },
   "outputs": [],
   "source": [
    "class Solution(object):\n",
    "    def permuteUnique(self, nums):\n",
    "        \"\"\"\n",
    "        :type nums: List[int]\n",
    "        :rtype: List[List[int]]\n",
    "        \"\"\"\n",
    "        ans = []\n",
    "        nums.sort()\n",
    "        def helper(Nums, parents=[]):\n",
    "            L = len(Nums)\n",
    "            if L == 0:\n",
    "                ans.append(parents)\n",
    "            else:\n",
    "                for i in xrange(L):\n",
    "                    if i == 0 or Nums[i] != Nums[i-1]:\n",
    "                        helper(Nums[:i]+Nums[i+1:], parents+[Nums[i]])\n",
    "        helper(nums)\n",
    "        return ans"
   ]
  },
  {
   "cell_type": "markdown",
   "metadata": {},
   "source": [
    "## Permutations"
   ]
  },
  {
   "cell_type": "raw",
   "metadata": {},
   "source": [
    "Given a collection of distinct numbers, return all possible permutations.\n",
    "\n",
    "For example,\n",
    "[1,2,3] have the following permutations:\n",
    "[\n",
    "  [1,2,3],\n",
    "  [1,3,2],\n",
    "  [2,1,3],\n",
    "  [2,3,1],\n",
    "  [3,1,2],\n",
    "  [3,2,1]\n",
    "]"
   ]
  },
  {
   "cell_type": "code",
   "execution_count": null,
   "metadata": {
    "collapsed": true
   },
   "outputs": [],
   "source": [
    "class Solution(object):\n",
    "    def permute(self, nums):\n",
    "        \"\"\"\n",
    "        :type nums: List[int]\n",
    "        :rtype: List[List[int]]\n",
    "        \"\"\"\n",
    "        ans = []\n",
    "        def helper(Nums, parents=[]):\n",
    "            L = len(Nums)\n",
    "            if L == 0:\n",
    "                ans.append(parents)\n",
    "            else:\n",
    "                for i in xrange(L):\n",
    "                    helper(Nums[:i]+Nums[i+1:], parents+[Nums[i]])\n",
    "        helper(nums)\n",
    "        return ans"
   ]
  },
  {
   "cell_type": "markdown",
   "metadata": {},
   "source": [
    "## Multiply Strings"
   ]
  },
  {
   "cell_type": "raw",
   "metadata": {},
   "source": [
    "Given two numbers represented as strings, return multiplication of the numbers as a string.\n",
    "\n",
    "Note:\n",
    "The numbers can be arbitrarily large and are non-negative.\n",
    "Converting the input string to integer is NOT allowed.\n",
    "You should NOT use internal library such as BigInteger."
   ]
  },
  {
   "cell_type": "code",
   "execution_count": null,
   "metadata": {
    "collapsed": true
   },
   "outputs": [],
   "source": [
    "class Solution(object):\n",
    "    def multiply(self, num1, num2):\n",
    "        \"\"\"\n",
    "        :type num1: str\n",
    "        :type num2: str\n",
    "        :rtype: str\n",
    "        \"\"\"\n",
    "        num1 = num1[::-1]\n",
    "        num2 = num2[::-1]\n",
    "        L1 = len(num1)\n",
    "        L2 = len(num2)\n",
    "        pre = {}\n",
    "        ans = ''\n",
    "        for i in xrange(L1):\n",
    "            for j in xrange(L2):\n",
    "                S = int(num1[i]) * int(num2[j])\n",
    "                if i+j in pre:\n",
    "                    pre[i+j] += S\n",
    "                else:\n",
    "                    pre[i+j] = S\n",
    "        carry = 0\n",
    "        for i in xrange(L1+L2-1):\n",
    "            digit = (carry+pre[i]) % 10\n",
    "            carry = (carry+pre[i]) / 10\n",
    "            ans = str(digit) + ans\n",
    "        if carry > 0:\n",
    "            ans = str(carry) + ans\n",
    "        else:\n",
    "            while ans[0] == '0' and len(ans) > 1:\n",
    "                ans = ans[1:]\n",
    "        return ans\n",
    "            "
   ]
  },
  {
   "cell_type": "markdown",
   "metadata": {},
   "source": [
    "## Combination Sum II"
   ]
  },
  {
   "cell_type": "raw",
   "metadata": {},
   "source": [
    "Given a collection of candidate numbers (C) and a target number (T), find all unique combinations in C where the candidate numbers sums to T.\n",
    "\n",
    "Each number in C may only be used once in the combination.\n",
    "\n",
    "Note:\n",
    "All numbers (including target) will be positive integers.\n",
    "The solution set must not contain duplicate combinations.\n",
    "For example, given candidate set [10, 1, 2, 7, 6, 1, 5] and target 8, \n",
    "A solution set is: \n",
    "[\n",
    "  [1, 7],\n",
    "  [1, 2, 5],\n",
    "  [2, 6],\n",
    "  [1, 1, 6]\n",
    "]"
   ]
  },
  {
   "cell_type": "code",
   "execution_count": null,
   "metadata": {
    "collapsed": true
   },
   "outputs": [],
   "source": [
    "class Solution(object):\n",
    "    def combinationSum2(self, candidates, target):\n",
    "        \"\"\"\n",
    "        :type candidates: List[int]\n",
    "        :type target: int\n",
    "        :rtype: List[List[int]]\n",
    "        \"\"\"\n",
    "        candidates.sort()\n",
    "        L = len(candidates)\n",
    "        ans = []\n",
    "        used = [0] * len(candidates)\n",
    "        def dfs(now, index, temp):\n",
    "            if now == target:\n",
    "                ans.append(temp[:])\n",
    "                return\n",
    "            else:\n",
    "                for i in xrange(index, L):\n",
    "                    if candidates[i] + now <= target and (i == 0 or candidates[i] != candidates[i-1] or used[i-1] == 1):\n",
    "                        temp.append(candidates[i])\n",
    "                        used[i] = 1\n",
    "                        dfs(now + candidates[i], i+1, temp) \n",
    "                        used[i] = 0\n",
    "                        temp.pop()\n",
    "        dfs(0, 0, [])\n",
    "        return ans"
   ]
  },
  {
   "cell_type": "markdown",
   "metadata": {},
   "source": [
    "## Combination Sum"
   ]
  },
  {
   "cell_type": "raw",
   "metadata": {},
   "source": [
    "Given a set of candidate numbers (C) and a target number (T), find all unique combinations in C where the candidate numbers sums to T.\n",
    "\n",
    "The same repeated number may be chosen from C unlimited number of times.\n",
    "\n",
    "Note:\n",
    "All numbers (including target) will be positive integers.\n",
    "The solution set must not contain duplicate combinations.\n",
    "For example, given candidate set [2, 3, 6, 7] and target 7, \n",
    "A solution set is: \n",
    "[\n",
    "  [7],\n",
    "  [2, 2, 3]\n",
    "]"
   ]
  },
  {
   "cell_type": "code",
   "execution_count": null,
   "metadata": {
    "collapsed": true
   },
   "outputs": [],
   "source": [
    "class Solution(object):\n",
    "    def combinationSum(self, candidates, target):\n",
    "        \"\"\"\n",
    "        :type candidates: List[int]\n",
    "        :type target: int\n",
    "        :rtype: List[List[int]]\n",
    "        \"\"\"\n",
    "        candidates.sort()\n",
    "        def helper(nums, T):\n",
    "            L = len(nums)\n",
    "            ans = []\n",
    "            if L == 0 or T <= 0:\n",
    "                return ans\n",
    "            index = L-1\n",
    "            while index >= 0:\n",
    "                mul = 1\n",
    "                S = nums[index] * mul\n",
    "                while S < T:\n",
    "                    combs = helper(nums[:index], T - S)\n",
    "                    for comb in combs:\n",
    "                        ans.append(comb + [nums[index]] * mul)\n",
    "                    mul += 1\n",
    "                    S = nums[index] * mul\n",
    "                if S == T:\n",
    "                    ans.append([nums[index]] * mul)\n",
    "                index -= 1\n",
    "            return ans\n",
    "        return helper(candidates, target)"
   ]
  },
  {
   "cell_type": "markdown",
   "metadata": {},
   "source": [
    "## Count and Say"
   ]
  },
  {
   "cell_type": "raw",
   "metadata": {},
   "source": [
    "The count-and-say sequence is the sequence of integers beginning as follows:\n",
    "1, 11, 21, 1211, 111221, ...\n",
    "\n",
    "1 is read off as \"one 1\" or 11.\n",
    "11 is read off as \"two 1s\" or 21.\n",
    "21 is read off as \"one 2, then one 1\" or 1211.\n",
    "Given an integer n, generate the nth sequence.\n",
    "\n",
    "Note: The sequence of integers will be represented as a string."
   ]
  },
  {
   "cell_type": "code",
   "execution_count": null,
   "metadata": {
    "collapsed": true
   },
   "outputs": [],
   "source": [
    "class Solution(object):\n",
    "    def countAndSay(self, n):\n",
    "        \"\"\"\n",
    "        :type n: int\n",
    "        :rtype: str\n",
    "        \"\"\"\n",
    "        ans = '1'\n",
    "        while n > 1:\n",
    "            strs = ''\n",
    "            i = 0\n",
    "            while i < len(ans):\n",
    "                j = i + 1\n",
    "                temp = ans[i]\n",
    "                count = 1\n",
    "                while temp == ans[j:j+1]:\n",
    "                    count += 1\n",
    "                    j += 1\n",
    "                i = j\n",
    "                strs += '{}{}'.format(count,temp)\n",
    "            n -= 1\n",
    "            ans = strs\n",
    "        return ans"
   ]
  },
  {
   "cell_type": "markdown",
   "metadata": {},
   "source": [
    "## Search Insert Position"
   ]
  },
  {
   "cell_type": "raw",
   "metadata": {},
   "source": [
    "Given a sorted array and a target value, return the index if the target is found. If not, return the index where it would be if it were inserted in order.\n",
    "\n",
    "You may assume no duplicates in the array.\n",
    "\n",
    "Here are few examples.\n",
    "[1,3,5,6], 5 → 2\n",
    "[1,3,5,6], 2 → 1\n",
    "[1,3,5,6], 7 → 4\n",
    "[1,3,5,6], 0 → 0"
   ]
  },
  {
   "cell_type": "code",
   "execution_count": null,
   "metadata": {
    "collapsed": true
   },
   "outputs": [],
   "source": [
    "class Solution(object):\n",
    "    def searchInsert(self, nums, target):\n",
    "        \"\"\"\n",
    "        :type nums: List[int]\n",
    "        :type target: int\n",
    "        :rtype: int\n",
    "        \"\"\"\n",
    "        L = len(nums)\n",
    "        start = 0\n",
    "        end = L\n",
    "        pivot = (start+end)/2\n",
    "        while start < end:\n",
    "            if nums[pivot] == target:\n",
    "                return pivot\n",
    "            elif nums[pivot] > target:\n",
    "                end = pivot\n",
    "            else:\n",
    "                start = pivot+1\n",
    "            pivot = (start + end)/2\n",
    "        return pivot"
   ]
  },
  {
   "cell_type": "markdown",
   "metadata": {},
   "source": [
    "## Valid Sudoku"
   ]
  },
  {
   "cell_type": "raw",
   "metadata": {},
   "source": [
    "Determine if a Sudoku is valid, according to: Sudoku Puzzles - The Rules.\n",
    "\n",
    "The Sudoku board could be partially filled, where empty cells are filled with the character '.'.\n",
    "\n",
    "Note:\n",
    "A valid Sudoku board (partially filled) is not necessarily solvable. Only the filled cells need to be validated."
   ]
  },
  {
   "cell_type": "code",
   "execution_count": null,
   "metadata": {
    "collapsed": true
   },
   "outputs": [],
   "source": [
    "class Solution(object):\n",
    "    def isValidSudoku(self, board):\n",
    "        \"\"\"\n",
    "        :type board: List[List[str]]\n",
    "        :rtype: bool\n",
    "        \"\"\"\n",
    "        def valid(nums):\n",
    "            pre = {}\n",
    "            for n in nums:\n",
    "                if n == \".\":\n",
    "                    continue\n",
    "                if n in pre:\n",
    "                    return False\n",
    "                else:\n",
    "                    pre[n] = 1\n",
    "            return True\n",
    "            \n",
    "        def smallBoard(i, j):\n",
    "            grid = []\n",
    "            for y in xrange(j,j+3):\n",
    "                for x in xrange(i,i+3):\n",
    "                    grid.append(board[y][x])\n",
    "            return grid\n",
    "        \n",
    "        for row in board:\n",
    "            if not valid(row):\n",
    "                return False\n",
    "        \n",
    "        for col in xrange(9):\n",
    "            nums = [board[row][col] for row in range(9)]\n",
    "            if not valid(nums):\n",
    "                return False\n",
    "        \n",
    "        for j in xrange(0,8,3):\n",
    "            for i in xrange(0,8,3):\n",
    "                if not valid(smallBoard(i, j)):\n",
    "                    return False\n",
    "        return True"
   ]
  },
  {
   "cell_type": "markdown",
   "metadata": {},
   "source": [
    "## Search for a Range"
   ]
  },
  {
   "cell_type": "raw",
   "metadata": {},
   "source": [
    "Given a sorted array of integers, find the starting and ending position of a given target value.\n",
    "\n",
    "Your algorithm's runtime complexity must be in the order of O(log n).\n",
    "\n",
    "If the target is not found in the array, return [-1, -1].\n",
    "\n",
    "For example,\n",
    "Given [5, 7, 7, 8, 8, 10] and target value 8,\n",
    "return [3, 4]."
   ]
  },
  {
   "cell_type": "code",
   "execution_count": null,
   "metadata": {
    "collapsed": true
   },
   "outputs": [],
   "source": [
    "class Solution(object):\n",
    "    def searchRange(self, nums, target):\n",
    "        \"\"\"\n",
    "        :type nums: List[int]\n",
    "        :type target: int\n",
    "        :rtype: List[int]\n",
    "        \"\"\"\n",
    "        \n",
    "        def helper(Nums):\n",
    "            L = len(Nums)\n",
    "            if L == 0:\n",
    "                return [-1,-1]\n",
    "            elif L == 1:\n",
    "                if Nums[0] == target:\n",
    "                    return [0,0]\n",
    "                else:\n",
    "                    return [-1,-1]\n",
    "            pivot = L/2\n",
    "            if Nums[pivot] == target:\n",
    "                ans = [pivot, pivot]\n",
    "                left = helper(Nums[:pivot])\n",
    "                if left[0] != -1:\n",
    "                    ans[0] = left[0]\n",
    "                right = helper(Nums[pivot+1:])\n",
    "                if right[1] != -1:\n",
    "                    ans[1] += (right[1]+1)\n",
    "                return ans\n",
    "            elif Nums[pivot] < target:\n",
    "                ans = helper(Nums[pivot+1:])\n",
    "                if ans != [-1,-1]:\n",
    "                    return [x+pivot+1 for x in ans]\n",
    "                return ans\n",
    "            else:\n",
    "                return helper(Nums[:pivot])\n",
    "        return helper(nums)\n",
    "        "
   ]
  },
  {
   "cell_type": "markdown",
   "metadata": {},
   "source": [
    "## Implement strStr()"
   ]
  },
  {
   "cell_type": "raw",
   "metadata": {},
   "source": [
    "Implement strStr().\n",
    "\n",
    "Returns the index of the first occurrence of needle in haystack, or -1 if needle is not part of haystack."
   ]
  },
  {
   "cell_type": "code",
   "execution_count": null,
   "metadata": {
    "collapsed": true
   },
   "outputs": [],
   "source": [
    "class Solution(object):\n",
    "    def strStr(self, haystack, needle):\n",
    "        \"\"\"\n",
    "        :type haystack: str\n",
    "        :type needle: str\n",
    "        :rtype: int\n",
    "        \"\"\"\n",
    "        L_needle = len(needle)\n",
    "        L_haystack = len(haystack)\n",
    "        i = 0\n",
    "        while i+L_needle <= L_haystack:\n",
    "            if haystack[i:i+L_needle] == needle:\n",
    "                return i\n",
    "            i += 1\n",
    "        return -1"
   ]
  },
  {
   "cell_type": "markdown",
   "metadata": {},
   "source": [
    "## Next Permutation"
   ]
  },
  {
   "cell_type": "raw",
   "metadata": {},
   "source": [
    "Implement next permutation, which rearranges numbers into the lexicographically next greater permutation of numbers.\n",
    "\n",
    "If such arrangement is not possible, it must rearrange it as the lowest possible order (ie, sorted in ascending order).\n",
    "\n",
    "The replacement must be in-place, do not allocate extra memory.\n",
    "\n",
    "Here are some examples. Inputs are in the left-hand column and its corresponding outputs are in the right-hand column.\n",
    "1,2,3 → 1,3,2\n",
    "3,2,1 → 1,2,3\n",
    "1,1,5 → 1,5,1"
   ]
  },
  {
   "cell_type": "code",
   "execution_count": null,
   "metadata": {
    "collapsed": true
   },
   "outputs": [],
   "source": [
    "class Solution(object):\n",
    "    def nextPermutation(self, nums):\n",
    "        \"\"\"\n",
    "        :type nums: List[int]\n",
    "        :rtype: void Do not return anything, modify nums in-place instead.\n",
    "        \"\"\"\n",
    "        L = len(nums)\n",
    "        i = L-2\n",
    "        while i >= 0:\n",
    "            if nums[i+1] > nums[i]:\n",
    "                break\n",
    "            i -= 1\n",
    "        if i < 0:\n",
    "            nums.sort()\n",
    "            return\n",
    "        pivot, j = i+1, i+2\n",
    "        while j < L:\n",
    "            if nums[j] > nums[i] and nums[j] < nums[pivot]:\n",
    "                pivot = j\n",
    "            j += 1\n",
    "        nums[i], nums[pivot] = nums[pivot], nums[i]\n",
    "        for end in xrange(L-1,i,-1):\n",
    "            for start in xrange(i+1, end):\n",
    "                if nums[start] > nums[start+1]:\n",
    "                    nums[start], nums[start+1] = nums[start+1], nums[start]"
   ]
  },
  {
   "cell_type": "markdown",
   "metadata": {},
   "source": [
    "## Divide Two Integers"
   ]
  },
  {
   "cell_type": "raw",
   "metadata": {},
   "source": [
    "Divide two integers without using multiplication, division and mod operator.\n",
    "\n",
    "If it is overflow, return MAX_INT."
   ]
  },
  {
   "cell_type": "code",
   "execution_count": null,
   "metadata": {
    "collapsed": true
   },
   "outputs": [],
   "source": [
    "class Solution(object):\n",
    "    def divide(self, dividend, divisor):\n",
    "        \"\"\"\n",
    "        :type dividend: int\n",
    "        :type divisor: int\n",
    "        :rtype: int\n",
    "        \"\"\"\n",
    "        if divisor == 0:\n",
    "            return -1\n",
    "        ans, shift = 0, 31\n",
    "        neg = (dividend > 0 and divisor < 0) or (dividend < 0 and divisor > 0)\n",
    "        a, b = abs(dividend), abs(divisor)\n",
    "        while shift >= 0:\n",
    "            if a >= b << shift:\n",
    "                a -= b << shift\n",
    "                ans += 1 << shift\n",
    "            shift -= 1\n",
    "        if neg:\n",
    "            ans = -ans\n",
    "        if ans > 2147483647:\n",
    "            return 2147483647\n",
    "        elif ans < -2147483648:\n",
    "            return -2147483648\n",
    "        \n",
    "        return ans"
   ]
  },
  {
   "cell_type": "markdown",
   "metadata": {},
   "source": [
    "## Remove Element"
   ]
  },
  {
   "cell_type": "raw",
   "metadata": {},
   "source": [
    "Given an array and a value, remove all instances of that value in place and return the new length.\n",
    "\n",
    "Do not allocate extra space for another array, you must do this in place with constant memory.\n",
    "\n",
    "The order of elements can be changed. It doesn't matter what you leave beyond the new length."
   ]
  },
  {
   "cell_type": "code",
   "execution_count": null,
   "metadata": {
    "collapsed": true
   },
   "outputs": [],
   "source": [
    "class Solution(object):\n",
    "    def removeElement(self, nums, val):\n",
    "        \"\"\"\n",
    "        :type nums: List[int]\n",
    "        :type val: int\n",
    "        :rtype: int\n",
    "        \"\"\"\n",
    "        for i in xrange(len(nums)-1, -1, -1):\n",
    "            if nums[i] == val:\n",
    "                del nums[i]\n",
    "        return len(nums)"
   ]
  },
  {
   "cell_type": "markdown",
   "metadata": {},
   "source": [
    "## Remove Duplicates from Sorted Array"
   ]
  },
  {
   "cell_type": "raw",
   "metadata": {},
   "source": [
    "Given a sorted array, remove the duplicates in place such that each element appear only once and return the new length.\n",
    "\n",
    "Do not allocate extra space for another array, you must do this in place with constant memory.\n",
    "\n",
    "For example,\n",
    "Given input array nums = [1,1,2],\n",
    "\n",
    "Your function should return length = 2, with the first two elements of nums being 1 and 2 respectively. It doesn't matter what you leave beyond the new length."
   ]
  },
  {
   "cell_type": "code",
   "execution_count": null,
   "metadata": {
    "collapsed": true
   },
   "outputs": [],
   "source": [
    "class Solution(object):\n",
    "    def removeDuplicates(self, nums):\n",
    "        \"\"\"\n",
    "        :type nums: List[int]\n",
    "        :rtype: int\n",
    "        \"\"\"\n",
    "        left = 0\n",
    "        L = len(nums)\n",
    "        while left < L:\n",
    "            right = left + 1\n",
    "            while right < L and nums[left] == nums[right]:\n",
    "                right += 1\n",
    "            del nums[left+1:right]\n",
    "            left += 1\n",
    "            L = len(nums)\n",
    "        return len(nums)"
   ]
  },
  {
   "cell_type": "markdown",
   "metadata": {},
   "source": [
    "## Swap Nodes in Pairs"
   ]
  },
  {
   "cell_type": "raw",
   "metadata": {},
   "source": [
    "Given a linked list, swap every two adjacent nodes and return its head.\n",
    "\n",
    "For example,\n",
    "Given 1->2->3->4, you should return the list as 2->1->4->3.\n",
    "\n",
    "Your algorithm should use only constant space. You may not modify the values in the list, only nodes itself can be changed."
   ]
  },
  {
   "cell_type": "code",
   "execution_count": null,
   "metadata": {
    "collapsed": true
   },
   "outputs": [],
   "source": [
    "class Solution(object):\n",
    "    def swapPairs(self, head):\n",
    "        \"\"\"\n",
    "        :type head: ListNode\n",
    "        :rtype: ListNode\n",
    "        \"\"\"\n",
    "        def helper(node):\n",
    "            if node and node.next:\n",
    "                temp = node.next\n",
    "                node.next = helper(node.next.next)\n",
    "                temp.next = node\n",
    "                return temp\n",
    "            else:\n",
    "                return node\n",
    "        return helper(head)"
   ]
  },
  {
   "cell_type": "markdown",
   "metadata": {},
   "source": [
    "## Generate Parentheses"
   ]
  },
  {
   "cell_type": "raw",
   "metadata": {},
   "source": [
    "Given n pairs of parentheses, write a function to generate all combinations of well-formed parentheses.\n",
    "\n",
    "For example, given n = 3, a solution set is:\n",
    "\n",
    "[\n",
    "  \"((()))\",\n",
    "  \"(()())\",\n",
    "  \"(())()\",\n",
    "  \"()(())\",\n",
    "  \"()()()\"\n",
    "]"
   ]
  },
  {
   "cell_type": "code",
   "execution_count": null,
   "metadata": {
    "collapsed": true
   },
   "outputs": [],
   "source": [
    "class Solution(object):\n",
    "    def generateParenthesis(self, n):\n",
    "        \"\"\"\n",
    "        :type n: int\n",
    "        :rtype: List[str]\n",
    "        \"\"\"\n",
    "        def helper(l, r, item, res):\n",
    "            if r < l:\n",
    "                return\n",
    "            if r == 0 and l == 0:\n",
    "                res.append(item)\n",
    "            if l > 0:\n",
    "                helper(l-1, r, item+\"(\", res)\n",
    "            if r > 0:\n",
    "                helper(l, r-1, item+\")\", res)\n",
    "        \n",
    "        res = []\n",
    "        helper(n,n,\"\", res)\n",
    "        return res"
   ]
  },
  {
   "cell_type": "markdown",
   "metadata": {},
   "source": [
    "## Letter Combinations of a Phone Number"
   ]
  },
  {
   "cell_type": "raw",
   "metadata": {},
   "source": [
    "Given a digit string, return all possible letter combinations that the number could represent.\n",
    "\n",
    "A mapping of digit to letters (just like on the telephone buttons) is given below."
   ]
  },
  {
   "cell_type": "code",
   "execution_count": null,
   "metadata": {
    "collapsed": true
   },
   "outputs": [],
   "source": [
    "class Solution(object):\n",
    "    def letterCombinations(self, digits):\n",
    "        \"\"\"\n",
    "        :type digits: str\n",
    "        :rtype: List[str]\n",
    "        \"\"\"\n",
    "        letter = {\"0\": \" \", \"1\": \"*\", \"2\": \"abc\",\n",
    "                  \"3\": \"def\", \"4\": \"ghi\", \"5\": \"jkl\",\n",
    "                  \"6\": \"mno\", \"7\": \"pqrs\", \"8\": \"tuv\", \"9\": \"wxyz\"}\n",
    "        \n",
    "        def helper(D):\n",
    "            ans = []\n",
    "            if D == \"\":\n",
    "                return ans\n",
    "            elif len(D) == 1:\n",
    "                return list(letter[D])\n",
    "            else:\n",
    "                combs = helper(D[1:])\n",
    "                for c in letter[D[0]]:\n",
    "                    if combs == []:\n",
    "                        ans.append(c)\n",
    "                    else:\n",
    "                        for comb in combs:\n",
    "                            ans.append(c+comb)\n",
    "            return ans\n",
    "        return helper(digits)"
   ]
  },
  {
   "cell_type": "markdown",
   "metadata": {},
   "source": [
    "## 3Sum Closest"
   ]
  },
  {
   "cell_type": "raw",
   "metadata": {},
   "source": [
    "Given an array S of n integers, find three integers in S such that the sum is closest to a given number, target. Return the sum of the three integers. You may assume that each input would have exactly one solution.\n",
    "\n",
    "    For example, given array S = {-1 2 1 -4}, and target = 1.\n",
    "\n",
    "    The sum that is closest to the target is 2. (-1 + 2 + 1 = 2)."
   ]
  },
  {
   "cell_type": "code",
   "execution_count": null,
   "metadata": {
    "collapsed": true
   },
   "outputs": [],
   "source": [
    "class Solution(object):\n",
    "    def threeSumClosest(self, nums, target):\n",
    "        \"\"\"\n",
    "        :type nums: List[int]\n",
    "        :type target: int\n",
    "        :rtype: int\n",
    "        \"\"\"\n",
    "        L = len(nums)\n",
    "        ans = 0\n",
    "        diff = None\n",
    "        if L < 3:\n",
    "            return ans\n",
    "        # Sorting the array\n",
    "        nums.sort()\n",
    "        last = None\n",
    "        for i in range(L-2):\n",
    "            # Ignore those duplicated computation\n",
    "            if last == nums[i]:\n",
    "                continue\n",
    "            new_target = target - nums[i]\n",
    "            left = i+1\n",
    "            right = L-1\n",
    "            while left < right:\n",
    "                S = nums[left] + nums[right]\n",
    "                if S == new_target:\n",
    "                    return target\n",
    "                else:\n",
    "                    # Update the difference\n",
    "                    temp = abs(S - new_target)\n",
    "                    if diff == None or temp < diff:\n",
    "                        diff = temp\n",
    "                        ans = S + nums[i]\n",
    "                    if S < new_target:\n",
    "                        left += 1\n",
    "                        while left < right and nums[left] == nums[left-1]:\n",
    "                            left += 1\n",
    "                    else:\n",
    "                        right -= 1\n",
    "                        while left < right and nums[right] == nums[right+1]:\n",
    "                            right -= 1\n",
    "        return ans"
   ]
  },
  {
   "cell_type": "markdown",
   "metadata": {},
   "source": [
    "## Merge Two Sorted Lists"
   ]
  },
  {
   "cell_type": "raw",
   "metadata": {},
   "source": [
    "Merge two sorted linked lists and return it as a new list. The new list should be made by splicing together the nodes of the first two lists."
   ]
  },
  {
   "cell_type": "code",
   "execution_count": null,
   "metadata": {
    "collapsed": true
   },
   "outputs": [],
   "source": [
    "# Definition for singly-linked list.\n",
    "# class ListNode(object):\n",
    "#     def __init__(self, x):\n",
    "#         self.val = x\n",
    "#         self.next = None\n",
    "\n",
    "class Solution(object):\n",
    "    def mergeTwoLists(self, l1, l2):\n",
    "        \"\"\"\n",
    "        :type l1: ListNode\n",
    "        :type l2: ListNode\n",
    "        :rtype: ListNode\n",
    "        \"\"\"\n",
    "        ans = ListNode(0)\n",
    "        pointer = ans\n",
    "        while l1 and l2:\n",
    "            if l2.val > l1.val:\n",
    "                pointer.next = l1\n",
    "                l1 = l1.next\n",
    "            else:\n",
    "                pointer.next = l2\n",
    "                l2 = l2.next\n",
    "            pointer = pointer.next\n",
    "        while l1:\n",
    "            pointer.next = l1\n",
    "            l1 = l1.next\n",
    "            pointer = pointer.next\n",
    "        while l2:\n",
    "            pointer.next = l2\n",
    "            l2 = l2.next\n",
    "            pointer = pointer.next\n",
    "        return ans.next"
   ]
  },
  {
   "cell_type": "markdown",
   "metadata": {},
   "source": [
    "## Valid Parentheses"
   ]
  },
  {
   "cell_type": "raw",
   "metadata": {},
   "source": [
    "Given a string containing just the characters '(', ')', '{', '}', '[' and ']', determine if the input string is valid.\n",
    "\n",
    "The brackets must close in the correct order, \"()\" and \"()[]{}\" are all valid but \"(]\" and \"([)]\" are not."
   ]
  },
  {
   "cell_type": "code",
   "execution_count": null,
   "metadata": {
    "collapsed": true
   },
   "outputs": [],
   "source": [
    "class Solution(object):\n",
    "    def isValid(self, s):\n",
    "        \"\"\"\n",
    "        :type s: str\n",
    "        :rtype: bool\n",
    "        \"\"\"\n",
    "        ans = \"\"\n",
    "        A = {\"}\": \"{\", \")\": \"(\", \"]\": \"[\"}\n",
    "        for c in s:\n",
    "            if c in \"({[\":\n",
    "                ans += c\n",
    "            else:\n",
    "                if len(ans) > 0 and ans[-1] == A[c]:\n",
    "                    ans = ans[:-1]\n",
    "                else:\n",
    "                    return False\n",
    "        return ans == \"\""
   ]
  },
  {
   "cell_type": "markdown",
   "metadata": {},
   "source": [
    "## Remove Nth Node From End of List"
   ]
  },
  {
   "cell_type": "raw",
   "metadata": {},
   "source": [
    "Given a linked list, remove the nth node from the end of list and return its head.\n",
    "\n",
    "For example,\n",
    "\n",
    "   Given linked list: 1->2->3->4->5, and n = 2.\n",
    "\n",
    "   After removing the second node from the end, the linked list becomes 1->2->3->5.\n",
    "Note:\n",
    "Given n will always be valid.\n",
    "Try to do this in one pass."
   ]
  },
  {
   "cell_type": "code",
   "execution_count": null,
   "metadata": {
    "collapsed": true
   },
   "outputs": [],
   "source": [
    "# Definition for singly-linked list.\n",
    "# class ListNode(object):\n",
    "#     def __init__(self, x):\n",
    "#         self.val = x\n",
    "#         self.next = None\n",
    "\n",
    "class Solution(object):\n",
    "    def removeNthFromEnd(self, head, n):\n",
    "        \"\"\"\n",
    "        :type head: ListNode\n",
    "        :type n: int\n",
    "        :rtype: ListNode\n",
    "        \"\"\"\n",
    "        paths = {}\n",
    "        index = 0\n",
    "        node = head\n",
    "        while node:\n",
    "            paths[index] = node\n",
    "            index += 1\n",
    "            node = node.next\n",
    "        if index - n == 0:\n",
    "            if 1 in paths:\n",
    "                return paths[1]\n",
    "            else:\n",
    "                return []\n",
    "        else:\n",
    "            node = paths[index-n-1]\n",
    "            if index-n+1 in paths:\n",
    "                node.next = paths[index-n+1]\n",
    "            else:\n",
    "                node.next = None\n",
    "            return head"
   ]
  },
  {
   "cell_type": "markdown",
   "metadata": {},
   "source": [
    "## 4Sum"
   ]
  },
  {
   "cell_type": "raw",
   "metadata": {},
   "source": [
    "Given an array S of n integers, are there elements a, b, c, and d in S such that a + b + c + d = target? Find all unique quadruplets in the array which gives the sum of target.\n",
    "\n",
    "Note: The solution set must not contain duplicate quadruplets.\n",
    "\n",
    "For example, given array S = [1, 0, -1, 0, -2, 2], and target = 0.\n",
    "\n",
    "A solution set is:\n",
    "[\n",
    "  [-1,  0, 0, 1],\n",
    "  [-2, -1, 1, 2],\n",
    "  [-2,  0, 0, 2]\n",
    "]"
   ]
  },
  {
   "cell_type": "code",
   "execution_count": null,
   "metadata": {
    "collapsed": true
   },
   "outputs": [],
   "source": [
    "class Solution(object):\n",
    "    def fourSum(self, nums, target):\n",
    "        \"\"\"\n",
    "        :type nums: List[int]\n",
    "        :type target: int\n",
    "        :rtype: List[List[int]]\n",
    "        \"\"\"\n",
    "        result = []\n",
    "        L = len(nums)\n",
    "        if L < 4:\n",
    "            return result\n",
    "            \n",
    "        nums.sort()\n",
    "        last1 = None\n",
    "        for i in range(L-3):\n",
    "            if nums[i] == last1:\n",
    "                continue\n",
    "            last2 = None\n",
    "            for j in range(i+1, L-2):\n",
    "                if nums[j] == last2:\n",
    "                    continue\n",
    "                new_target = target - nums[i] - nums[j]\n",
    "                left = j+1\n",
    "                right = L-1\n",
    "                while left < right:\n",
    "                    if nums[left] + nums[right] == new_target:\n",
    "                        result.append([nums[i], nums[j], nums[left], nums[right]])\n",
    "                        left += 1\n",
    "                        right -= 1\n",
    "                        while left < right and nums[left] == nums[left-1]:\n",
    "                            left += 1\n",
    "                        while left < right and nums[right] == nums[right+1]:\n",
    "                            right -= 1\n",
    "                    elif nums[left] + nums[right] < new_target:\n",
    "                        left += 1\n",
    "                    else:\n",
    "                        right -= 1\n",
    "                last2 = nums[j]\n",
    "            last1 = nums[i]\n",
    "        return result"
   ]
  },
  {
   "cell_type": "markdown",
   "metadata": {},
   "source": [
    "## 3Sum"
   ]
  },
  {
   "cell_type": "raw",
   "metadata": {},
   "source": [
    "Given an array S of n integers, are there elements a, b, c in S such that a + b + c = 0? Find all unique triplets in the array which gives the sum of zero.\n",
    "\n",
    "Note: The solution set must not contain duplicate triplets.\n",
    "\n",
    "For example, given array S = [-1, 0, 1, 2, -1, -4],\n",
    "\n",
    "A solution set is:\n",
    "[\n",
    "  [-1, 0, 1],\n",
    "  [-1, -1, 2]\n",
    "]"
   ]
  },
  {
   "cell_type": "code",
   "execution_count": null,
   "metadata": {
    "collapsed": true
   },
   "outputs": [],
   "source": [
    "class Solution(object):\n",
    "    def threeSum(self, nums):\n",
    "        \"\"\"\n",
    "        :type nums: List[int]\n",
    "        :rtype: List[List[int]]\n",
    "        \"\"\"\n",
    "        L = len(nums)\n",
    "        result = []\n",
    "        if L < 3:\n",
    "            return result\n",
    "        nums.sort()\n",
    "        last = None\n",
    "        for i in range(L-2):\n",
    "            if nums[i] == last:\n",
    "                continue\n",
    "            target = -1 * nums[i]\n",
    "            left = i + 1\n",
    "            right = L - 1\n",
    "            while left < right:\n",
    "                if nums[left] + nums[right] == target:\n",
    "                    result.append([nums[i], nums[left], nums[right]])\n",
    "                    left += 1\n",
    "                    right -= 1\n",
    "                    while left < right and nums[left] == nums[left-1]:\n",
    "                        left += 1\n",
    "                    while left < right and nums[right] == nums[right+1]:\n",
    "                        right -= 1\n",
    "                elif nums[left] + nums[right] < target:\n",
    "                    left += 1\n",
    "                else:\n",
    "                    right -= 1\n",
    "            last = nums[i]\n",
    "        return result"
   ]
  },
  {
   "cell_type": "markdown",
   "metadata": {},
   "source": [
    "## Longest Common Prefix"
   ]
  },
  {
   "cell_type": "raw",
   "metadata": {},
   "source": [
    "Write a function to find the longest common prefix string amongst an array of strings."
   ]
  },
  {
   "cell_type": "code",
   "execution_count": null,
   "metadata": {
    "collapsed": true
   },
   "outputs": [],
   "source": [
    "class Solution(object):\n",
    "    def longestCommonPrefix(self, strs):\n",
    "        \"\"\"\n",
    "        :type strs: List[str]\n",
    "        :rtype: str\n",
    "        \"\"\"\n",
    "        if len(strs) < 1:\n",
    "            return ''\n",
    "            \n",
    "        def prefix(s1, s2):\n",
    "            L1 = len(s1)\n",
    "            L2 = len(s2)\n",
    "            if L1 > L2:\n",
    "                s1, s2 = s2, s1\n",
    "                L1, L2 = L2, L1\n",
    "            \n",
    "            while s1 != s2[:L1]:\n",
    "                s1 = s1[:-1]\n",
    "                L1 -= 1\n",
    "            return s1\n",
    "        \n",
    "        ans = strs[0]\n",
    "        for s in strs[1:]:\n",
    "            ans = prefix(ans, s)\n",
    "        return ans"
   ]
  },
  {
   "cell_type": "markdown",
   "metadata": {},
   "source": [
    "## Roman to Integer"
   ]
  },
  {
   "cell_type": "raw",
   "metadata": {},
   "source": [
    "Given a roman numeral, convert it to an integer.\n",
    "\n",
    "Input is guaranteed to be within the range from 1 to 3999."
   ]
  },
  {
   "cell_type": "code",
   "execution_count": null,
   "metadata": {
    "collapsed": true
   },
   "outputs": [],
   "source": [
    "class Solution(object):\n",
    "    def romanToInt(self, s):\n",
    "        \"\"\"\n",
    "        :type s: str\n",
    "        :rtype: int\n",
    "        \"\"\"\n",
    "        if s == '':\n",
    "            return 0\n",
    "            \n",
    "        MAP = {'I': 1, 'V': 5, 'X': 10, 'L': 50, 'C': 100, 'D': 500, 'M': 1000}\n",
    "        result = MAP[s[-1]]\n",
    "        last = s[-1]\n",
    "        for c in s[-2::-1]:\n",
    "            if MAP[c] >= MAP[last]:\n",
    "                result += MAP[c]\n",
    "            else:\n",
    "                result -= MAP[c]\n",
    "            last = c\n",
    "        return result"
   ]
  },
  {
   "cell_type": "markdown",
   "metadata": {},
   "source": [
    "## Container With Most Water"
   ]
  },
  {
   "cell_type": "raw",
   "metadata": {},
   "source": [
    "Given n non-negative integers a1, a2, ..., an, where each represents a point at coordinate (i, ai). n vertical lines are drawn such that the two endpoints of line i is at (i, ai) and (i, 0). Find two lines, which together with x-axis forms a container, such that the container contains the most water."
   ]
  },
  {
   "cell_type": "code",
   "execution_count": null,
   "metadata": {
    "collapsed": true
   },
   "outputs": [],
   "source": [
    "class Solution(object):\n",
    "    def maxArea(self, height):\n",
    "        \"\"\"\n",
    "        :type height: List[int]\n",
    "        :rtype: int\n",
    "        \"\"\"\n",
    "        l = 0\n",
    "        r = len(height) - 1\n",
    "        ans = 0\n",
    "        while(l < r):\n",
    "            if height[l] > height[r]:\n",
    "                temp = (r -l) * height[r]\n",
    "                r -= 1\n",
    "            else:\n",
    "                temp = (r - l) * height[l]\n",
    "                l += 1\n",
    "            if temp > ans:\n",
    "                ans = temp\n",
    "        return ans"
   ]
  },
  {
   "cell_type": "markdown",
   "metadata": {},
   "source": [
    "## Longest Palindromic Substring"
   ]
  },
  {
   "cell_type": "raw",
   "metadata": {},
   "source": [
    "Given a string S, find the longest palindromic substring in S. You may assume that the maximum length of S is 1000, and there exists one unique longest palindromic substring."
   ]
  },
  {
   "cell_type": "code",
   "execution_count": null,
   "metadata": {
    "collapsed": true
   },
   "outputs": [],
   "source": [
    "class Solution(object):\n",
    "    def longestPalindrome(self, s):\n",
    "        \"\"\"\n",
    "        :type s: str\n",
    "        :rtype: str\n",
    "        \"\"\"\n",
    "        if s == '':\n",
    "            return s\n",
    "        L = len(s)\n",
    "        def expand(c1, c2):\n",
    "            while(c1 >= 0 and c2 <= L-1 and s[c1] == s[c2]):\n",
    "                c1 -= 1\n",
    "                c2 += 1\n",
    "            return s[c1+1:c2]\n",
    "        maxL = 1\n",
    "        ans = s[0]\n",
    "        for i in range(L):\n",
    "            temp = expand(i, i)\n",
    "            if len(temp) > maxL:\n",
    "                maxL = len(temp)\n",
    "                ans = temp\n",
    "            temp = expand(i, i+1)\n",
    "            if len(temp) > maxL:\n",
    "                maxL = len(temp)\n",
    "                ans = temp\n",
    "        return ans"
   ]
  },
  {
   "cell_type": "markdown",
   "metadata": {},
   "source": [
    "## Palindrome Number"
   ]
  },
  {
   "cell_type": "raw",
   "metadata": {},
   "source": [
    "Determine whether an integer is a palindrome. Do this without extra space.\n",
    "\n",
    "Could negative integers be palindromes? (ie, -1)\n",
    "\n",
    "If you are thinking of converting the integer to string, note the restriction of using extra space.\n",
    "\n",
    "You could also try reversing an integer. However, if you have solved the problem \"Reverse Integer\", you know that the reversed integer might overflow. How would you handle such case?"
   ]
  },
  {
   "cell_type": "code",
   "execution_count": null,
   "metadata": {
    "collapsed": true
   },
   "outputs": [],
   "source": [
    "class Solution(object):\n",
    "    def isPalindrome(self, x):\n",
    "        \"\"\"\n",
    "        :type x: int\n",
    "        :rtype: bool\n",
    "        \"\"\"\n",
    "        if x < 0:\n",
    "            return False\n",
    "        div = 1\n",
    "        while(x/div >= 10):\n",
    "            div *= 10\n",
    "        while(x > 0):\n",
    "            l = x/div\n",
    "            r = x%10\n",
    "            if l != r:\n",
    "                return False\n",
    "            x = x%div/10\n",
    "            div /= 100\n",
    "        return True"
   ]
  },
  {
   "cell_type": "markdown",
   "metadata": {},
   "source": [
    "## String to Integer (atoi)"
   ]
  },
  {
   "cell_type": "raw",
   "metadata": {},
   "source": [
    "Implement atoi to convert a string to an integer.\n",
    "\n",
    "The function first discards as many whitespace characters as necessary until the first non-whitespace character is found. Then, starting from this character, takes an optional initial plus or minus sign followed by as many numerical digits as possible, and interprets them as a numerical value.\n",
    "\n",
    "The string can contain additional characters after those that form the integral number, which are ignored and have no effect on the behavior of this function.\n",
    "\n",
    "If the first sequence of non-whitespace characters in str is not a valid integral number, or if no such sequence exists because either str is empty or it contains only whitespace characters, no conversion is performed.\n",
    "\n",
    "If no valid conversion could be performed, a zero value is returned. If the correct value is out of the range of representable values, INT_MAX (2147483647) or INT_MIN (-2147483648) is returned."
   ]
  },
  {
   "cell_type": "code",
   "execution_count": null,
   "metadata": {
    "collapsed": true
   },
   "outputs": [],
   "source": [
    "class Solution(object):\n",
    "    def myAtoi(self, s):\n",
    "        \"\"\"\n",
    "        :type str: s\n",
    "        :rtype: int\n",
    "        \"\"\"\n",
    "        def clean(s):\n",
    "            t = ''\n",
    "            if s:\n",
    "                s = s.strip()\n",
    "                if s[0] in '-+' or s[0].isdigit():\n",
    "                    t += s[0]\n",
    "                    for c in s[1:]:\n",
    "                        if c.isdigit():\n",
    "                            t += c\n",
    "                        else:\n",
    "                            return t\n",
    "            return t\n",
    "            \n",
    "        result = 0\n",
    "        sign = 1\n",
    "        s = clean(s)\n",
    "        if s:\n",
    "            if s[0] == '-':\n",
    "                sign = -1\n",
    "                s = s[1:]\n",
    "            s = s[::-1]\n",
    "            for i in range(len(s)):\n",
    "                if s[i].isdigit():\n",
    "                    result += int(s[i]) * (10**i)\n",
    "                else:\n",
    "                    break\n",
    "            if result > 2147483647 and sign == 1:\n",
    "                result = 2147483647\n",
    "            elif result > 2147483648 and sign == -1:\n",
    "                result = 2147483648\n",
    "        return sign * result"
   ]
  },
  {
   "cell_type": "markdown",
   "metadata": {},
   "source": [
    "## Reverse Integer"
   ]
  },
  {
   "cell_type": "raw",
   "metadata": {},
   "source": [
    "Reverse digits of an integer.\n",
    "\n",
    "Example1: x = 123, return 321\n",
    "Example2: x = -123, return -321\n",
    "\n",
    "If the integer's last digit is 0, what should the output be? ie, cases such as 10, 100.\n",
    "\n",
    "Did you notice that the reversed integer might overflow? Assume the input is a 32-bit integer, then the reverse of 1000000003 overflows. How should you handle such cases?\n",
    "\n",
    "For the purpose of this problem, assume that your function returns 0 when the reversed integer overflows."
   ]
  },
  {
   "cell_type": "code",
   "execution_count": null,
   "metadata": {
    "collapsed": true
   },
   "outputs": [],
   "source": [
    "class Solution(object):\n",
    "    def reverse(self, x):\n",
    "        \"\"\"\n",
    "        :type x: int\n",
    "        :rtype: int\n",
    "        \"\"\"\n",
    "        if x >= 0:\n",
    "            sign = 1\n",
    "        else:\n",
    "            sign = -1\n",
    "        result = int(str(abs(x))[::-1])\n",
    "        if result > 2147483647:\n",
    "            return 0\n",
    "        else:\n",
    "            return sign * result"
   ]
  },
  {
   "cell_type": "markdown",
   "metadata": {},
   "source": [
    "## Longest Substring Without Repeating Characters"
   ]
  },
  {
   "cell_type": "raw",
   "metadata": {},
   "source": [
    "Given a string, find the length of the longest substring without repeating characters.\n",
    "\n",
    "Examples:\n",
    "\n",
    "Given \"abcabcbb\", the answer is \"abc\", which the length is 3.\n",
    "\n",
    "Given \"bbbbb\", the answer is \"b\", with the length of 1.\n",
    "\n",
    "Given \"pwwkew\", the answer is \"wke\", with the length of 3. Note that the answer must be a substring, \"pwke\" is a subsequence and not a substring."
   ]
  },
  {
   "cell_type": "code",
   "execution_count": null,
   "metadata": {
    "collapsed": true
   },
   "outputs": [],
   "source": [
    "class Solution(object):\n",
    "    def lengthOfLongestSubstring(self, s):\n",
    "        \"\"\"\n",
    "        :type s: str\n",
    "        :rtype: int\n",
    "        \"\"\"\n",
    "        ans, start, end = 0, 0, 0\n",
    "        counts = {}\n",
    "        for c in s:\n",
    "            end += 1\n",
    "            counts[c] = counts.get(c, 0) + 1\n",
    "            while counts[c] > 1:\n",
    "                counts[s[start]] -= 1\n",
    "                start += 1\n",
    "            ans = max(ans, end - start)\n",
    "        return ans"
   ]
  },
  {
   "cell_type": "markdown",
   "metadata": {},
   "source": [
    "## ZigZag Conversion"
   ]
  },
  {
   "cell_type": "raw",
   "metadata": {},
   "source": [
    "The string \"PAYPALISHIRING\" is written in a zigzag pattern on a given number of rows like this: (you may want to display this pattern in a fixed font for better legibility)\n",
    "\n",
    "P   A   H   N\n",
    "A P L S I I G\n",
    "Y   I   R\n",
    "And then read line by line: \"PAHNAPLSIIGYIR\"\n",
    "\n",
    "Write the code that will take a string and make this conversion given a number of rows:\n",
    "    string convert(string text, int nRows)\n",
    "convert(\"PAYPALISHIRING\", 3) should return \"PAHNAPLSIIGYIR\"."
   ]
  },
  {
   "cell_type": "code",
   "execution_count": null,
   "metadata": {
    "collapsed": true
   },
   "outputs": [],
   "source": [
    "class Solution(object):\n",
    "    def convert(self, s, numRows):\n",
    "        \"\"\"\n",
    "        :type s: str\n",
    "        :type numRows: int\n",
    "        :rtype: str\n",
    "        \"\"\"\n",
    "        if numRows <= 1:\n",
    "            return s\n",
    "        n = len(s)\n",
    "        ans = ''\n",
    "        window = 2 * numRows - 2\n",
    "        for i in range(numRows):\n",
    "            flag = i > 0 and i < numRows-1\n",
    "            j = 0\n",
    "            index = i + window * j\n",
    "            while index < n:\n",
    "                ans += s[index]\n",
    "                if flag and index + window - 2*i<n:\n",
    "                    ans += s[index + window - 2*i]\n",
    "                j += 1\n",
    "                index = i + window * j\n",
    "        return ans"
   ]
  },
  {
   "cell_type": "markdown",
   "metadata": {},
   "source": [
    "## Add Two Numbers"
   ]
  },
  {
   "cell_type": "raw",
   "metadata": {},
   "source": [
    "You are given two linked lists representing two non-negative numbers. The digits are stored in reverse order and each of their nodes contain a single digit. Add the two numbers and return it as a linked list.\n",
    "\n",
    "Input: (2 -> 4 -> 3) + (5 -> 6 -> 4)\n",
    "Output: 7 -> 0 -> 8"
   ]
  },
  {
   "cell_type": "code",
   "execution_count": null,
   "metadata": {
    "collapsed": true
   },
   "outputs": [],
   "source": [
    "class Solution(object):\n",
    "    def addTwoNumbers(self, l1, l2):\n",
    "        \"\"\"\n",
    "        :type l1: ListNode\n",
    "        :type l2: ListNode\n",
    "        :rtype: ListNode\n",
    "        \"\"\"\n",
    "        if l1 == None: return l2\n",
    "        if l2 == None: return l1\n",
    "        buffer = 0\n",
    "        ans = ListNode(0)\n",
    "        pos = ans\n",
    "        while l1 and l2:\n",
    "            n1 = l1.val\n",
    "            n2 = l2.val\n",
    "            val = buffer + n1 + n2\n",
    "            buffer = val / 10\n",
    "            val = val % 10\n",
    "            pos.next = ListNode(val)\n",
    "            pos = pos.next\n",
    "            l1 = l1.next\n",
    "            l2 = l2.next\n",
    "        l3 = None\n",
    "        if l1:\n",
    "            l3 = l1\n",
    "        elif l2:\n",
    "            l3 = l2\n",
    "        while l3:\n",
    "            n3 = l3.val\n",
    "            val = buffer + n3\n",
    "            buffer = val / 10\n",
    "            val = val % 10\n",
    "            pos.next = ListNode(val)\n",
    "            pos = pos.next\n",
    "            l3 = l3.next\n",
    "        if buffer > 0:\n",
    "            pos.next = ListNode(buffer)\n",
    "        return ans.next"
   ]
  },
  {
   "cell_type": "markdown",
   "metadata": {},
   "source": [
    "## Two Sum"
   ]
  },
  {
   "cell_type": "raw",
   "metadata": {},
   "source": [
    "Given an array of integers, return indices of the two numbers such that they add up to a specific target.\n",
    "You may assume that each input would have exactly one solution.\n",
    "\n",
    "Example:\n",
    "Given nums = [2, 7, 11, 15], target = 9,\n",
    "Because nums[0] + nums[1] = 2 + 7 = 9,\n",
    "return [0, 1]."
   ]
  },
  {
   "cell_type": "code",
   "execution_count": null,
   "metadata": {
    "collapsed": true
   },
   "outputs": [],
   "source": [
    "class Solution(object):\n",
    "    def twoSum(self, nums, target):\n",
    "        \"\"\"\n",
    "        :type nums: List[int]\n",
    "        :type target: int\n",
    "        :rtype: List[int]\n",
    "        \"\"\"\n",
    "        L = len(nums)\n",
    "        Nums = {}\n",
    "        for i in range(L):\n",
    "            n = target-nums[i]\n",
    "            if n in Nums:\n",
    "                return [Nums[n], i]\n",
    "            else:\n",
    "                Nums[nums[i]] = i"
   ]
  },
  {
   "cell_type": "markdown",
   "metadata": {},
   "source": [
    "## Single Number II"
   ]
  },
  {
   "cell_type": "code",
   "execution_count": null,
   "metadata": {
    "collapsed": true
   },
   "outputs": [],
   "source": [
    "Given an array of integers, every element appears twice except for one. Find that single one.\n",
    "\n",
    "Note: Your algorithm should have a linear runtime complexity. Could you implement it without using extra memory?"
   ]
  },
  {
   "cell_type": "code",
   "execution_count": null,
   "metadata": {
    "collapsed": true
   },
   "outputs": [],
   "source": [
    "class Solution(object):\n",
    "    def singleNumber(self, nums):\n",
    "        \"\"\"\n",
    "        :type nums: List[int]\n",
    "        :rtype: int\n",
    "        \"\"\"\n",
    "        ones = 0\n",
    "        twos = 0\n",
    "        for n in nums:\n",
    "            twos |= ones&n\n",
    "            ones ^= n\n",
    "            threes = twos & ones\n",
    "            ones &= ~threes\n",
    "            twos &= ~threes\n",
    "        return ones"
   ]
  },
  {
   "cell_type": "markdown",
   "metadata": {},
   "source": [
    "## Single Number"
   ]
  },
  {
   "cell_type": "raw",
   "metadata": {},
   "source": [
    "Given an array of integers, every element appears twice except for one. Find that single one.\n",
    "\n",
    "Note: Your algorithm should have a linear runtime complexity. Could you implement it without using extra memory?"
   ]
  },
  {
   "cell_type": "code",
   "execution_count": null,
   "metadata": {
    "collapsed": true
   },
   "outputs": [],
   "source": [
    "class Solution(object):\n",
    "    def singleNumber(self, nums):\n",
    "        \"\"\"\n",
    "        :type nums: List[int]\n",
    "        :rtype: int\n",
    "        \"\"\"\n",
    "        result = 0\n",
    "        for n in nums:\n",
    "            result ^= n\n",
    "        return result"
   ]
  },
  {
   "cell_type": "markdown",
   "metadata": {},
   "source": [
    "## Length of Last Word"
   ]
  },
  {
   "cell_type": "raw",
   "metadata": {},
   "source": [
    "Given a string s consists of upper/lower-case alphabets and empty space characters ' ', return the length of last word in the string.\n",
    "If the last word does not exist, return 0.\n",
    "\n",
    "Note: A word is defined as a character sequence consists of non-space characters only.\n",
    "For example, \n",
    "Given s = \"Hello World\",\n",
    "return 5."
   ]
  },
  {
   "cell_type": "code",
   "execution_count": null,
   "metadata": {
    "collapsed": true
   },
   "outputs": [],
   "source": [
    "class Solution(object):\n",
    "    def lengthOfLastWord(self, s):\n",
    "        \"\"\"\n",
    "        :type s: str\n",
    "        :rtype: int\n",
    "        \"\"\"\n",
    "        count = 0\n",
    "        for c in s.strip()[::-1]:\n",
    "            if c.isalpha():\n",
    "                count += 1\n",
    "            else:\n",
    "                break\n",
    "        return count"
   ]
  },
  {
   "cell_type": "markdown",
   "metadata": {},
   "source": [
    "## Combinations"
   ]
  },
  {
   "cell_type": "raw",
   "metadata": {},
   "source": [
    "Given two integers n and k, return all possible combinations of k numbers out of 1 ... n.\n",
    "For example,\n",
    "If n = 4 and k = 2, a solution is:\n",
    "[\n",
    "  [2,4],\n",
    "  [3,4],\n",
    "  [2,3],\n",
    "  [1,2],\n",
    "  [1,3],\n",
    "  [1,4],\n",
    "]"
   ]
  },
  {
   "cell_type": "code",
   "execution_count": null,
   "metadata": {
    "collapsed": true
   },
   "outputs": [],
   "source": [
    "class Solution(object):\n",
    "    def combine(self, n, k):\n",
    "        \"\"\"\n",
    "        :type n: int\n",
    "        :type k: int\n",
    "        :rtype: List[List[int]]\n",
    "        \"\"\"\n",
    "        result = []\n",
    "        def helper(start=1, end=n-k+1, parent=[], level=k):\n",
    "            last = (level == 1)\n",
    "            for i in range(start, end+1):\n",
    "                if last:\n",
    "                    result.append(parent+[i])\n",
    "                else:\n",
    "                    helper(i+1, end+1, parent+[i], level-1)\n",
    "        helper()\n",
    "        return result"
   ]
  },
  {
   "cell_type": "markdown",
   "metadata": {},
   "source": [
    "## Sum Root to Leaf Numbers"
   ]
  },
  {
   "cell_type": "raw",
   "metadata": {},
   "source": [
    "Given a binary tree containing digits from 0-9 only, each root-to-leaf path could represent a number.\n",
    "An example is the root-to-leaf path 1->2->3 which represents the number 123.\n",
    "Find the total sum of all root-to-leaf numbers.\n",
    "\n",
    "For example,\n",
    "    1\n",
    "   / \\\n",
    "  2   3\n",
    "The root-to-leaf path 1->2 represents the number 12.\n",
    "The root-to-leaf path 1->3 represents the number 13.\n",
    "Return the sum = 12 + 13 = 25."
   ]
  },
  {
   "cell_type": "code",
   "execution_count": null,
   "metadata": {
    "collapsed": true
   },
   "outputs": [],
   "source": [
    "class Solution(object):\n",
    "    def findPaths(self, root):\n",
    "        paths = []\n",
    "        def helper(node, path=''):\n",
    "            if node:\n",
    "                path += str(node.val)\n",
    "                if node.left == None and node.right == None:  \n",
    "                    paths.append(path)\n",
    "                else:\n",
    "                    if node.left:\n",
    "                        helper(node.left, path)\n",
    "                    if node.right:\n",
    "                        helper(node.right, path)\n",
    "        helper(root)\n",
    "        return paths\n",
    "    def sumNumbers(self, root):\n",
    "        \"\"\"\n",
    "        :type root: TreeNode\n",
    "        :rtype: int\n",
    "        \"\"\"\n",
    "        result = 0\n",
    "        for path in self.findPaths(root):\n",
    "            result += int(path)\n",
    "        return result"
   ]
  },
  {
   "cell_type": "markdown",
   "metadata": {},
   "source": [
    "## Minimum Depth of Binary Tree"
   ]
  },
  {
   "cell_type": "raw",
   "metadata": {},
   "source": [
    "Given a binary tree, find its minimum depth.\n",
    "The minimum depth is the number of nodes along the shortest path from the root node down to the nearest leaf node."
   ]
  },
  {
   "cell_type": "code",
   "execution_count": null,
   "metadata": {
    "collapsed": true
   },
   "outputs": [],
   "source": [
    "class Solution(object):\n",
    "    def minDepth(self, root):\n",
    "        \"\"\"\n",
    "        :type root: TreeNode\n",
    "        :rtype: int\n",
    "        \"\"\"\n",
    "        if root == None:\n",
    "            return 0\n",
    "        elif root.left:\n",
    "            if root.right:\n",
    "                return min(self.minDepth(root.left), self.minDepth(root.right))+1\n",
    "            else:\n",
    "                return self.minDepth(root.left)+1\n",
    "        elif root.right:\n",
    "            return self.minDepth(root.right)+1\n",
    "        else:\n",
    "            return 1"
   ]
  }
 ],
 "metadata": {
  "kernelspec": {
   "display_name": "Python 2",
   "language": "python",
   "name": "python2"
  },
  "language_info": {
   "codemirror_mode": {
    "name": "ipython",
    "version": 2
   },
   "file_extension": ".py",
   "mimetype": "text/x-python",
   "name": "python",
   "nbconvert_exporter": "python",
   "pygments_lexer": "ipython2",
   "version": "2.7.11"
  }
 },
 "nbformat": 4,
 "nbformat_minor": 0
}
